{
 "cells": [
  {
   "cell_type": "code",
   "id": "initial_id",
   "metadata": {
    "collapsed": true,
    "ExecuteTime": {
     "end_time": "2025-03-27T18:11:47.113821Z",
     "start_time": "2025-03-27T18:11:40.993572Z"
    }
   },
   "source": [
    "import dotenv\n",
    "dotenv.load_dotenv()\n",
    "from tinytroupe.agent import TinyPerson\n",
    "from tinytroupe.environment import TinyWorld, TinySocialNetwork\n",
    "from tinytroupe.factory import TinyPersonFactory\n",
    "from tinytroupe.extraction import ResultsExtractor\n",
    "\n",
    "# Define the Global Supply Network World\n",
    "world = TinyWorld(\"Global Supply Network\")\n",
    "\n",
    "# Define Environmental Parameters\n",
    "class SupplyChainEnvironment(TinyWorld):\n",
    "    def __init__(self, region, stability, disaster_prob, labor_cost, infra_quality, transport_capacity):\n",
    "        self.region = region\n",
    "        self.stability = stability\n",
    "        self.disaster_prob = disaster_prob\n",
    "        self.labor_cost = labor_cost\n",
    "        self.infra_quality = infra_quality\n",
    "        self.transport_capacity = transport_capacity\n",
    "        \n",
    "    def impact_disruption(self, factor):\n",
    "        \"\"\"Simulates disruptions based on factors.\"\"\"\n",
    "        if factor == \"geopolitical\":\n",
    "            self.stability -= 1\n",
    "        elif factor == \"natural_disaster\":\n",
    "            self.transport_capacity -= 10\n",
    "        return f\"Disruption impact updated for {self.region}\"\n",
    "\n",
    "# Define COO Agent\n",
    "class COO(TinyPerson):\n",
    "    def __init__(self, name):\n",
    "        super().__init__(name)\n",
    "        self.resilience_score = 50\n",
    "        self.cost_efficiency = 100\n",
    "\n",
    "    def evaluate_performance(self):\n",
    "        \"\"\"Evaluates supply chain metrics.\"\"\"\n",
    "        return {\n",
    "            \"Resilience Score\": self.resilience_score,\n",
    "            \"Cost Efficiency\": self.cost_efficiency\n",
    "        }\n",
    "\n",
    "    def make_decision(self, decision):\n",
    "        \"\"\"Strategic decision-making.\"\"\"\n",
    "        if decision == \"diversify suppliers\":\n",
    "            self.resilience_score += 5\n",
    "            self.cost_efficiency -= 2\n",
    "        elif decision == \"increase inventory\":\n",
    "            self.resilience_score += 3\n",
    "            self.cost_efficiency -= 1\n",
    "        return f\"Decision made: {decision}, Updated Resilience: {self.resilience_score}, Cost Efficiency: {self.cost_efficiency}\"\n",
    "\n",
    "# Define Regional Supply Chain Manager Agents\n",
    "class RegionalManager(TinyPerson):\n",
    "    def __init__(self, name, region):\n",
    "        super().__init__(name)\n",
    "        self.region = region\n",
    "\n",
    "    def adapt_strategy(self, disruption):\n",
    "        \"\"\"Responds to regional disruptions.\"\"\"\n",
    "        return f\"{self.name} in {self.region} adapting to {disruption}\"\n",
    "\n",
    "# Define Supplier Agents\n",
    "class Supplier(TinyPerson):\n",
    "    def __init__(self, name, region, capacity, reliability):\n",
    "        super().__init__(name)\n",
    "        self.region = region\n",
    "        self.capacity = capacity\n",
    "        self.reliability = reliability\n",
    "    \n",
    "    def adjust_production(self, demand_change):\n",
    "        \"\"\"Adjusts production capacity.\"\"\"\n",
    "        self.capacity += demand_change\n",
    "        return f\"{self.name} adjusted production to {self.capacity}\"\n",
    "\n",
    "# Define Logistics Provider Agents\n",
    "class LogisticsProvider(TinyPerson):\n",
    "    def __init__(self, name, mode, capacity):\n",
    "        super().__init__(name)\n",
    "        self.mode = mode\n",
    "        self.capacity = capacity\n",
    "    \n",
    "    def reroute_shipment(self, issue):\n",
    "        \"\"\"Handles transportation disruptions.\"\"\"\n",
    "        return f\"{self.name} rerouting shipment due to {issue}\"\n",
    "\n",
    "# Define Simulation Scenarios\n",
    "scenarios = [\n",
    "    \"Baseline Operation\",\n",
    "    \"Supplier Disruption\",\n",
    "    \"Transportation Disruption\",\n",
    "    \"Production Facility Disruptions\",\n",
    "    \"Multi-Factor Disruptions\",\n",
    "    \"Resilience Strategy Testing\"\n",
    "]\n",
    "\n",
    "# Instantiate Agents\n",
    "coo = COO(\"Elena Martinez\")\n",
    "north_america_manager = RegionalManager(\"North American Supply Chain Manager\", \"North America\")\n",
    "europe_manager = RegionalManager(\"European Supply Chain Manager\", \"Europe\")\n",
    "asia_manager = RegionalManager(\"Asian Supply Chain Manager\", \"Asia\")\n",
    "supplier1 = Supplier(\"Supplier A\", \"China\", 1000, \"High\")\n",
    "logistics1 = LogisticsProvider(\"Ocean Freight Carrier A\", \"Sea\", 500)\n",
    "\n",
    "# Add Agents to World\n",
    "world.add_agents([coo, north_america_manager, europe_manager, asia_manager, supplier1, logistics1])\n",
    "\n",
    "# Run a Sample Scenario\n",
    "disruption_event = \"Port congestion\"\n",
    "response = logistics1.reroute_shipment(disruption_event)\n",
    "\n",
    "print(response)\n"
   ],
   "outputs": [
    {
     "name": "stdout",
     "output_type": "stream",
     "text": [
      "Looking for default config on: /Users/varunvenkatesh/tinyTroupeProject/tinytroupe/tinytroupe/utils/../config.ini\n",
      "Found custom config on: /Users/varunvenkatesh/Documents/GitHub/tinytroupe_project/config.ini\n",
      "\n",
      "!!!!\n",
      "DISCLAIMER: TinyTroupe relies on Artificial Intelligence (AI) models to generate content. \n",
      "The AI models are not perfect and may produce inappropriate or inacurate results. \n",
      "For any serious or consequential use, please review the generated content before using it.\n",
      "!!!!\n",
      "\n",
      "\n",
      "=================================\n",
      "Current TinyTroupe configuration \n",
      "=================================\n",
      "[OpenAI]\n",
      "api_type = openai\n",
      "azure_api_version = 2024-08-01-preview\n",
      "model = gpt-4o-mini\n",
      "max_tokens = 4000\n",
      "temperature = 1.2\n",
      "freq_penalty = 0.0\n",
      "presence_penalty = 0.0\n",
      "timeout = 60\n",
      "max_attempts = 5\n",
      "waiting_time = 2\n",
      "exponential_backoff_factor = 5\n",
      "embedding_model = text-embedding-3-small\n",
      "cache_api_calls = False\n",
      "cache_file_name = openai_api_cache.pickle\n",
      "max_content_display_length = 1024\n",
      "azure_embedding_model_api_version = 2023-05-15\n",
      "\n",
      "[Simulation]\n",
      "rai_harmful_content_prevention = True\n",
      "rai_copyright_infringement_prevention = True\n",
      "\n",
      "[Logging]\n",
      "loglevel = ERROR\n",
      "\n",
      "Ocean Freight Carrier A rerouting shipment due to Port congestion\n"
     ]
    }
   ],
   "execution_count": 1
  },
  {
   "metadata": {
    "ExecuteTime": {
     "end_time": "2025-03-27T18:12:51.165759Z",
     "start_time": "2025-03-27T18:12:51.126189Z"
    }
   },
   "cell_type": "code",
   "source": [
    "# TinyWorld\n",
    "world.make_everyone_accessible()\n",
    "world.broadcast(\"\"\"\n",
    "        Tekron Industries is a global manufacturer of industrial automation equipment with production  facilities in North America, Europe, and Asia. Following recent supply chain disruptions caused  by geopolitical tensions, natural disasters, and transportation bottlenecks, the company's COO,  Elena Martinez, wants to improve supply chain resilience while maintaining cost efficiency.  Elena believes that rethinking supplier selection, inventory management, and transportation  routes could create a more adaptable supply chain without significantly increasing costs. \n",
    "        \n",
    "        Primary Hypothesis: Tekron Industries can achieve an optimal balance between supply chain  resilience and cost efficiency through strategic diversification of suppliers, dynamic inventory  management, and flexible transportation routing. \n",
    "        \n",
    "        Sub-hypotheses: \n",
    "        1. Diversifying suppliers across geographic regions provides better disruption protection  than single-sourcing, with manageable cost impact \n",
    "        2. Dynamic inventory levels based on component criticality and risk factors minimize  capital tie-up while ensuring production continuity \n",
    "        3. Multi-modal transportation options with real-time rerouting capabilities reduce delivery  delays during disruptions \n",
    "        4. Regional production flexibility allows for rapid response to localized supply chain failures \n",
    "        \n",
    "        Key Performance Indicators:\n",
    "        1. Baseline Performance Assessment \n",
    "            o Key performance indicators established \n",
    "            o Cost efficiency metrics baseline \n",
    "            o Delivery reliability baseline \n",
    "            o Current resilience score calculation \n",
    "            o Risk exposure mapping \n",
    "        2. Disruption Impact Analysis \n",
    "            o Production continuity measurement \n",
    "            o Customer delivery performance \n",
    "            o Cost impact quantification\n",
    "            o Recovery time assessment \n",
    "            o Ripple effect mapping \n",
    "        3. Resilience Strategy Evaluation \n",
    "            o Strategy effectiveness comparison \n",
    "            o Implementation cost assessment \n",
    "            o Risk reduction quantification \n",
    "            o Performance trade-off analysis \n",
    "            o Optimum configuration determination \n",
    "        4. Cost-Resilience Optimization \n",
    "            o Pareto frontier mapping of solutions \n",
    "            o Budget constraint application \n",
    "            o Implementation timeline modeling \n",
    "            o Return on resilience investment calculation \n",
    "            o Risk reduction per dollar spent ranking \n",
    "        5. Final Recommendation Formulation \n",
    "            o Optimal supplier diversification strategy \n",
    "            o Inventory policy optimization \n",
    "            o Transportation flexibility framework \n",
    "            o Production transfer protocols \n",
    "            o Information system requirements \n",
    "            o Change management roadmap \n",
    "    \n",
    "        Expected Outputs:\n",
    "        1. Quantitative Outputs\n",
    "             Resilience score improvement percentages \n",
    "            o Cost impact of resilience strategies (% of COGS) \n",
    "            o Recovery time reduction metrics \n",
    "            o Service level maintenance statistics during disruptions o Risk exposure reduction percentages \n",
    "            o ROI calculations for resilience investments \n",
    "        2. Strategic Recommendations \n",
    "            o Optimal supplier network configuration \n",
    "            o Region-specific inventory policies \n",
    "            o Transportation mode mix optimization \n",
    "            o Production flexibility implementation roadmap \n",
    "            o Information system enhancement priorities \n",
    "            o Contract structure recommendations \n",
    "        3. Implementation Roadmap \n",
    "            o Phased approach to resilience implementation \n",
    "            o Quick wins identification \n",
    "            o Long-term structural changes \n",
    "            o Technology investment timeline\n",
    "            o Change management requirements \n",
    "            o Performance measurement framework\n",
    "\n",
    "        Elena has asked the supply chain team to develop a simulation model to test these hypotheses  and evaluate the impact of different strategies on supply chain resilience and cost efficiency. The team has decided to use a multi-agent simulation approach to represent the complex  interactions between suppliers, manufacturers, distributors, and customers in Tekron's global  supply network.\n",
    "\"\"\")"
   ],
   "id": "355e813fb5f8b8d6",
   "outputs": [
    {
     "data": {
      "text/plain": [
       "\u001B[1;3;4;38;5;51mUSER\u001B[0m\u001B[1;3;38;5;51m --> \u001B[0m\u001B[1;3;4;38;5;51mElena Martinez\u001B[0m\u001B[1;3;38;5;51m: \u001B[0m\u001B[1;3;38;5;51m[\u001B[0m\u001B[1;3;38;5;51mCONVERSATION\u001B[0m\u001B[1;3;38;5;51m]\u001B[0m\u001B[1;3;38;5;51m \u001B[0m\n",
       "\u001B[1;3;38;5;51m          >          Tekron Industries is a global manufacturer of industrial automation equipment\u001B[0m\n",
       "\u001B[1;3;38;5;51m          > with production  facilities in North America, Europe, and Asia. Following recent supply\u001B[0m\n",
       "\u001B[1;3;38;5;51m          > chain disruptions caused  by geopolitical tensions, natural disasters, and\u001B[0m\n",
       "\u001B[1;3;38;5;51m          > transportation bottlenecks, the company's COO,  Elena Martinez, wants to improve supply\u001B[0m\n",
       "\u001B[1;3;38;5;51m          > chain resilience while maintaining cost efficiency.  Elena believes that rethinking\u001B[0m\n",
       "\u001B[1;3;38;5;51m          > supplier selection, inventory management, and transportation  routes could create a more\u001B[0m\n",
       "\u001B[1;3;38;5;51m          > adaptable supply chain without significantly increasing costs.                   Primary\u001B[0m\n",
       "\u001B[1;3;38;5;51m          > Hypothesis: Tekron Industries can achieve an optimal balance between supply chain\u001B[0m\n",
       "\u001B[1;3;38;5;51m          > resilience and cost efficiency through strategic diversification of suppliers, dynamic\u001B[0m\n",
       "\u001B[1;3;38;5;51m          > inventory  management, and flexible transportation routing.                   Sub-\u001B[0m\n",
       "\u001B[1;3;38;5;51m          > hypotheses:          \u001B[0m\u001B[1;3;38;5;51m1\u001B[0m\u001B[1;3;38;5;51m. Diversifying suppliers across geographic regions provides better\u001B[0m\n",
       "\u001B[1;3;38;5;51m          > disruption protection  than single-sourcing, with manageable cost impact          \u001B[0m\u001B[1;3;38;5;51m2\u001B[0m\n",
       "\u001B[1;3;38;5;51m          > \u001B[0m\u001B[1;3;38;5;51m(\u001B[0m\u001B[1;3;38;5;51m...\u001B[0m\u001B[1;3;38;5;51m)\u001B[0m\n"
      ],
      "text/html": [
       "<pre style=\"margin:0px;;white-space:pre;overflow-x:auto;line-height:normal;font-family:Menlo,'DejaVu Sans Mono',consolas,'Courier New',monospace\"><span style=\"color: #00ffff; text-decoration-color: #00ffff; font-weight: bold; font-style: italic; text-decoration: underline\">USER</span><span style=\"color: #00ffff; text-decoration-color: #00ffff; font-weight: bold; font-style: italic\"> --&gt; </span><span style=\"color: #00ffff; text-decoration-color: #00ffff; font-weight: bold; font-style: italic; text-decoration: underline\">Elena Martinez</span><span style=\"color: #00ffff; text-decoration-color: #00ffff; font-weight: bold; font-style: italic\">: [CONVERSATION] </span>\n",
       "<span style=\"color: #00ffff; text-decoration-color: #00ffff; font-weight: bold; font-style: italic\">          &gt;          Tekron Industries is a global manufacturer of industrial automation equipment</span>\n",
       "<span style=\"color: #00ffff; text-decoration-color: #00ffff; font-weight: bold; font-style: italic\">          &gt; with production  facilities in North America, Europe, and Asia. Following recent supply</span>\n",
       "<span style=\"color: #00ffff; text-decoration-color: #00ffff; font-weight: bold; font-style: italic\">          &gt; chain disruptions caused  by geopolitical tensions, natural disasters, and</span>\n",
       "<span style=\"color: #00ffff; text-decoration-color: #00ffff; font-weight: bold; font-style: italic\">          &gt; transportation bottlenecks, the company's COO,  Elena Martinez, wants to improve supply</span>\n",
       "<span style=\"color: #00ffff; text-decoration-color: #00ffff; font-weight: bold; font-style: italic\">          &gt; chain resilience while maintaining cost efficiency.  Elena believes that rethinking</span>\n",
       "<span style=\"color: #00ffff; text-decoration-color: #00ffff; font-weight: bold; font-style: italic\">          &gt; supplier selection, inventory management, and transportation  routes could create a more</span>\n",
       "<span style=\"color: #00ffff; text-decoration-color: #00ffff; font-weight: bold; font-style: italic\">          &gt; adaptable supply chain without significantly increasing costs.                   Primary</span>\n",
       "<span style=\"color: #00ffff; text-decoration-color: #00ffff; font-weight: bold; font-style: italic\">          &gt; Hypothesis: Tekron Industries can achieve an optimal balance between supply chain</span>\n",
       "<span style=\"color: #00ffff; text-decoration-color: #00ffff; font-weight: bold; font-style: italic\">          &gt; resilience and cost efficiency through strategic diversification of suppliers, dynamic</span>\n",
       "<span style=\"color: #00ffff; text-decoration-color: #00ffff; font-weight: bold; font-style: italic\">          &gt; inventory  management, and flexible transportation routing.                   Sub-</span>\n",
       "<span style=\"color: #00ffff; text-decoration-color: #00ffff; font-weight: bold; font-style: italic\">          &gt; hypotheses:          1. Diversifying suppliers across geographic regions provides better</span>\n",
       "<span style=\"color: #00ffff; text-decoration-color: #00ffff; font-weight: bold; font-style: italic\">          &gt; disruption protection  than single-sourcing, with manageable cost impact          2</span>\n",
       "<span style=\"color: #00ffff; text-decoration-color: #00ffff; font-weight: bold; font-style: italic\">          &gt; (...)</span>\n",
       "</pre>\n"
      ]
     },
     "metadata": {},
     "output_type": "display_data"
    },
    {
     "data": {
      "text/plain": [
       "\u001B[1;3;38;5;51m       + --> \u001B[0m\u001B[1;3;4;38;5;51mNorth American Supply Chain Manager\u001B[0m\n"
      ],
      "text/html": [
       "<pre style=\"margin:0px;;white-space:pre;overflow-x:auto;line-height:normal;font-family:Menlo,'DejaVu Sans Mono',consolas,'Courier New',monospace\"><span style=\"color: #00ffff; text-decoration-color: #00ffff; font-weight: bold; font-style: italic\">       + --&gt; </span><span style=\"color: #00ffff; text-decoration-color: #00ffff; font-weight: bold; font-style: italic; text-decoration: underline\">North American Supply Chain Manager</span>\n",
       "</pre>\n"
      ]
     },
     "metadata": {},
     "output_type": "display_data"
    },
    {
     "data": {
      "text/plain": [
       "\u001B[1;3;38;5;51m       + --> \u001B[0m\u001B[1;3;4;38;5;51mEuropean Supply Chain Manager\u001B[0m\n"
      ],
      "text/html": [
       "<pre style=\"margin:0px;;white-space:pre;overflow-x:auto;line-height:normal;font-family:Menlo,'DejaVu Sans Mono',consolas,'Courier New',monospace\"><span style=\"color: #00ffff; text-decoration-color: #00ffff; font-weight: bold; font-style: italic\">       + --&gt; </span><span style=\"color: #00ffff; text-decoration-color: #00ffff; font-weight: bold; font-style: italic; text-decoration: underline\">European Supply Chain Manager</span>\n",
       "</pre>\n"
      ]
     },
     "metadata": {},
     "output_type": "display_data"
    },
    {
     "data": {
      "text/plain": [
       "\u001B[1;3;38;5;51m       + --> \u001B[0m\u001B[1;3;38;5;51m...\u001B[0m\u001B[1;3;38;5;51mothers\u001B[0m\u001B[1;3;38;5;51m...\u001B[0m\n"
      ],
      "text/html": [
       "<pre style=\"margin:0px;;white-space:pre;overflow-x:auto;line-height:normal;font-family:Menlo,'DejaVu Sans Mono',consolas,'Courier New',monospace\"><span style=\"color: #00ffff; text-decoration-color: #00ffff; font-weight: bold; font-style: italic\">       + --&gt; ...others...</span>\n",
       "</pre>\n"
      ]
     },
     "metadata": {},
     "output_type": "display_data"
    }
   ],
   "execution_count": 2
  },
  {
   "metadata": {
    "ExecuteTime": {
     "end_time": "2025-03-27T18:19:21.814289Z",
     "start_time": "2025-03-27T18:13:14.805741Z"
    }
   },
   "cell_type": "code",
   "source": "world.run(5)",
   "id": "2b1d9e5654563612",
   "outputs": [
    {
     "data": {
      "text/plain": [
       "\u001B[92m──────────────────────────────────────── \u001B[0mGlobal Supply Network step \u001B[1;36m1\u001B[0m of \u001B[1;36m5\u001B[0m\u001B[92m ────────────────────────────────────────\u001B[0m\n"
      ],
      "text/html": [
       "<pre style=\"margin:0px;;white-space:pre;overflow-x:auto;line-height:normal;font-family:Menlo,'DejaVu Sans Mono',consolas,'Courier New',monospace\"><span style=\"color: #00ff00; text-decoration-color: #00ff00\">──────────────────────────────────────── </span>Global Supply Network step <span style=\"color: #008080; text-decoration-color: #008080; font-weight: bold\">1</span> of <span style=\"color: #008080; text-decoration-color: #008080; font-weight: bold\">5</span><span style=\"color: #00ff00; text-decoration-color: #00ff00\"> ────────────────────────────────────────</span>\n",
       "</pre>\n"
      ]
     },
     "metadata": {},
     "output_type": "display_data"
    },
    {
     "data": {
      "text/plain": [
       "\u001B[4;32mElena Martinez\u001B[0m\u001B[32m acts: \u001B[0m\u001B[1;32m[\u001B[0m\u001B[32mTHINK\u001B[0m\u001B[1;32m]\u001B[0m\u001B[32m \u001B[0m\n",
       "\u001B[32m                    > The information about Tekron Industries and the supply chain challenges is\u001B[0m\n",
       "\u001B[32m                    > quite detailed. I need to consider how to approach the simulation model for\u001B[0m\n",
       "\u001B[32m                    > testing the hypotheses. The focus on resilience and cost efficiency is\u001B[0m\n",
       "\u001B[32m                    > crucial, and I should think about the implications of each sub-hypothesis.\u001B[0m\n"
      ],
      "text/html": [
       "<pre style=\"margin:0px;;white-space:pre;overflow-x:auto;line-height:normal;font-family:Menlo,'DejaVu Sans Mono',consolas,'Courier New',monospace\"><span style=\"color: #008000; text-decoration-color: #008000; text-decoration: underline\">Elena Martinez</span><span style=\"color: #008000; text-decoration-color: #008000\"> acts: </span><span style=\"color: #008000; text-decoration-color: #008000; font-weight: bold\">[</span><span style=\"color: #008000; text-decoration-color: #008000\">THINK</span><span style=\"color: #008000; text-decoration-color: #008000; font-weight: bold\">]</span><span style=\"color: #008000; text-decoration-color: #008000\"> </span>\n",
       "<span style=\"color: #008000; text-decoration-color: #008000\">                    &gt; The information about Tekron Industries and the supply chain challenges is</span>\n",
       "<span style=\"color: #008000; text-decoration-color: #008000\">                    &gt; quite detailed. I need to consider how to approach the simulation model for</span>\n",
       "<span style=\"color: #008000; text-decoration-color: #008000\">                    &gt; testing the hypotheses. The focus on resilience and cost efficiency is</span>\n",
       "<span style=\"color: #008000; text-decoration-color: #008000\">                    &gt; crucial, and I should think about the implications of each sub-hypothesis.</span>\n",
       "</pre>\n"
      ]
     },
     "metadata": {},
     "output_type": "display_data"
    },
    {
     "data": {
      "text/plain": [
       "\u001B[4;32mElena Martinez\u001B[0m\u001B[32m acts: \u001B[0m\u001B[1;32m[\u001B[0m\u001B[32mTHINK\u001B[0m\u001B[1;32m]\u001B[0m\u001B[32m \u001B[0m\n",
       "\u001B[32m                    > I need to break down the simulation model into manageable parts. First, I\u001B[0m\n",
       "\u001B[32m                    > should focus on supplier diversification and how it can protect against\u001B[0m\n",
       "\u001B[32m                    > disruptions. Then, I can look into dynamic inventory management and its impact\u001B[0m\n",
       "\u001B[32m                    > on capital tie-up. Finally, I should consider transportation options and their\u001B[0m\n",
       "\u001B[32m                    > flexibility during disruptions.\u001B[0m\n"
      ],
      "text/html": [
       "<pre style=\"margin:0px;;white-space:pre;overflow-x:auto;line-height:normal;font-family:Menlo,'DejaVu Sans Mono',consolas,'Courier New',monospace\"><span style=\"color: #008000; text-decoration-color: #008000; text-decoration: underline\">Elena Martinez</span><span style=\"color: #008000; text-decoration-color: #008000\"> acts: </span><span style=\"color: #008000; text-decoration-color: #008000; font-weight: bold\">[</span><span style=\"color: #008000; text-decoration-color: #008000\">THINK</span><span style=\"color: #008000; text-decoration-color: #008000; font-weight: bold\">]</span><span style=\"color: #008000; text-decoration-color: #008000\"> </span>\n",
       "<span style=\"color: #008000; text-decoration-color: #008000\">                    &gt; I need to break down the simulation model into manageable parts. First, I</span>\n",
       "<span style=\"color: #008000; text-decoration-color: #008000\">                    &gt; should focus on supplier diversification and how it can protect against</span>\n",
       "<span style=\"color: #008000; text-decoration-color: #008000\">                    &gt; disruptions. Then, I can look into dynamic inventory management and its impact</span>\n",
       "<span style=\"color: #008000; text-decoration-color: #008000\">                    &gt; on capital tie-up. Finally, I should consider transportation options and their</span>\n",
       "<span style=\"color: #008000; text-decoration-color: #008000\">                    &gt; flexibility during disruptions.</span>\n",
       "</pre>\n"
      ]
     },
     "metadata": {},
     "output_type": "display_data"
    },
    {
     "data": {
      "text/plain": [
       "\u001B[4;38;5;129mElena Martinez\u001B[0m\u001B[38;5;129m acts: \u001B[0m\u001B[1;38;5;129m[\u001B[0m\u001B[38;5;129mREACH_OUT\u001B[0m\u001B[1;38;5;129m]\u001B[0m\u001B[38;5;129m \u001B[0m\n",
       "\n"
      ],
      "text/html": [
       "<pre style=\"margin:0px;;white-space:pre;overflow-x:auto;line-height:normal;font-family:Menlo,'DejaVu Sans Mono',consolas,'Courier New',monospace\"><span style=\"color: #af00ff; text-decoration-color: #af00ff; text-decoration: underline\">Elena Martinez</span><span style=\"color: #af00ff; text-decoration-color: #af00ff\"> acts: </span><span style=\"color: #af00ff; text-decoration-color: #af00ff; font-weight: bold\">[</span><span style=\"color: #af00ff; text-decoration-color: #af00ff\">REACH_OUT</span><span style=\"color: #af00ff; text-decoration-color: #af00ff; font-weight: bold\">]</span><span style=\"color: #af00ff; text-decoration-color: #af00ff\"> </span>\n",
       "\n",
       "</pre>\n"
      ]
     },
     "metadata": {},
     "output_type": "display_data"
    },
    {
     "data": {
      "text/plain": [
       "\u001B[1;4;38;5;40mElena Martinez\u001B[0m\u001B[1;38;5;40m acts: \u001B[0m\u001B[1;38;5;40m[\u001B[0m\u001B[1;38;5;40mTALK\u001B[0m\u001B[1;38;5;40m]\u001B[0m\u001B[1;38;5;40m \u001B[0m\n",
       "\u001B[1;38;5;40m                    > I would like to discuss the simulation model for our supply chain strategies.\u001B[0m\n",
       "\u001B[1;38;5;40m                    > Can we gather to brainstorm ideas?\u001B[0m\n"
      ],
      "text/html": [
       "<pre style=\"margin:0px;;white-space:pre;overflow-x:auto;line-height:normal;font-family:Menlo,'DejaVu Sans Mono',consolas,'Courier New',monospace\"><span style=\"color: #00d700; text-decoration-color: #00d700; font-weight: bold; text-decoration: underline\">Elena Martinez</span><span style=\"color: #00d700; text-decoration-color: #00d700; font-weight: bold\"> acts: [TALK] </span>\n",
       "<span style=\"color: #00d700; text-decoration-color: #00d700; font-weight: bold\">                    &gt; I would like to discuss the simulation model for our supply chain strategies.</span>\n",
       "<span style=\"color: #00d700; text-decoration-color: #00d700; font-weight: bold\">                    &gt; Can we gather to brainstorm ideas?</span>\n",
       "</pre>\n"
      ]
     },
     "metadata": {},
     "output_type": "display_data"
    },
    {
     "data": {
      "text/plain": [
       "\u001B[4;38;5;252mElena Martinez\u001B[0m\u001B[38;5;252m acts: \u001B[0m\u001B[1;38;5;252m[\u001B[0m\u001B[38;5;252mDONE\u001B[0m\u001B[1;38;5;252m]\u001B[0m\u001B[38;5;252m \u001B[0m\n",
       "\n"
      ],
      "text/html": [
       "<pre style=\"margin:0px;;white-space:pre;overflow-x:auto;line-height:normal;font-family:Menlo,'DejaVu Sans Mono',consolas,'Courier New',monospace\"><span style=\"color: #d0d0d0; text-decoration-color: #d0d0d0; text-decoration: underline\">Elena Martinez</span><span style=\"color: #d0d0d0; text-decoration-color: #d0d0d0\"> acts: </span><span style=\"color: #d0d0d0; text-decoration-color: #d0d0d0; font-weight: bold\">[</span><span style=\"color: #d0d0d0; text-decoration-color: #d0d0d0\">DONE</span><span style=\"color: #d0d0d0; text-decoration-color: #d0d0d0; font-weight: bold\">]</span><span style=\"color: #d0d0d0; text-decoration-color: #d0d0d0\"> </span>\n",
       "\n",
       "</pre>\n"
      ]
     },
     "metadata": {},
     "output_type": "display_data"
    },
    {
     "data": {
      "text/plain": [
       "\u001B[1;3;4;38;5;51mElena Martinez\u001B[0m\u001B[1;3;38;5;51m --> \u001B[0m\u001B[1;3;4;38;5;51mNorth American Supply Chain Manager\u001B[0m\u001B[1;3;38;5;51m: \u001B[0m\u001B[1;3;38;5;51m[\u001B[0m\u001B[1;3;38;5;51mCONVERSATION\u001B[0m\u001B[1;3;38;5;51m]\u001B[0m\u001B[1;3;38;5;51m \u001B[0m\n",
       "\u001B[1;3;38;5;51m                    > I would like to discuss the simulation model for our supply chain strategies.\u001B[0m\n",
       "\u001B[1;3;38;5;51m                    > Can we gather to brainstorm ideas?\u001B[0m\n"
      ],
      "text/html": [
       "<pre style=\"margin:0px;;white-space:pre;overflow-x:auto;line-height:normal;font-family:Menlo,'DejaVu Sans Mono',consolas,'Courier New',monospace\"><span style=\"color: #00ffff; text-decoration-color: #00ffff; font-weight: bold; font-style: italic; text-decoration: underline\">Elena Martinez</span><span style=\"color: #00ffff; text-decoration-color: #00ffff; font-weight: bold; font-style: italic\"> --&gt; </span><span style=\"color: #00ffff; text-decoration-color: #00ffff; font-weight: bold; font-style: italic; text-decoration: underline\">North American Supply Chain Manager</span><span style=\"color: #00ffff; text-decoration-color: #00ffff; font-weight: bold; font-style: italic\">: [CONVERSATION] </span>\n",
       "<span style=\"color: #00ffff; text-decoration-color: #00ffff; font-weight: bold; font-style: italic\">                    &gt; I would like to discuss the simulation model for our supply chain strategies.</span>\n",
       "<span style=\"color: #00ffff; text-decoration-color: #00ffff; font-weight: bold; font-style: italic\">                    &gt; Can we gather to brainstorm ideas?</span>\n",
       "</pre>\n"
      ]
     },
     "metadata": {},
     "output_type": "display_data"
    },
    {
     "data": {
      "text/plain": [
       "              \u001B[1;3;38;5;51m       + --> \u001B[0m\u001B[1;3;4;38;5;51mEuropean Supply Chain Manager\u001B[0m\n"
      ],
      "text/html": [
       "<pre style=\"margin:0px;;white-space:pre;overflow-x:auto;line-height:normal;font-family:Menlo,'DejaVu Sans Mono',consolas,'Courier New',monospace\">              <span style=\"color: #00ffff; text-decoration-color: #00ffff; font-weight: bold; font-style: italic\">       + --&gt; </span><span style=\"color: #00ffff; text-decoration-color: #00ffff; font-weight: bold; font-style: italic; text-decoration: underline\">European Supply Chain Manager</span>\n",
       "</pre>\n"
      ]
     },
     "metadata": {},
     "output_type": "display_data"
    },
    {
     "data": {
      "text/plain": [
       "              \u001B[1;3;38;5;51m       + --> \u001B[0m\u001B[1;3;4;38;5;51mAsian Supply Chain Manager\u001B[0m\n"
      ],
      "text/html": [
       "<pre style=\"margin:0px;;white-space:pre;overflow-x:auto;line-height:normal;font-family:Menlo,'DejaVu Sans Mono',consolas,'Courier New',monospace\">              <span style=\"color: #00ffff; text-decoration-color: #00ffff; font-weight: bold; font-style: italic\">       + --&gt; </span><span style=\"color: #00ffff; text-decoration-color: #00ffff; font-weight: bold; font-style: italic; text-decoration: underline\">Asian Supply Chain Manager</span>\n",
       "</pre>\n"
      ]
     },
     "metadata": {},
     "output_type": "display_data"
    },
    {
     "data": {
      "text/plain": [
       "              \u001B[1;3;38;5;51m       + --> \u001B[0m\u001B[1;3;38;5;51m...\u001B[0m\u001B[1;3;38;5;51mothers\u001B[0m\u001B[1;3;38;5;51m...\u001B[0m\n"
      ],
      "text/html": [
       "<pre style=\"margin:0px;;white-space:pre;overflow-x:auto;line-height:normal;font-family:Menlo,'DejaVu Sans Mono',consolas,'Courier New',monospace\">              <span style=\"color: #00ffff; text-decoration-color: #00ffff; font-weight: bold; font-style: italic\">       + --&gt; ...others...</span>\n",
       "</pre>\n"
      ]
     },
     "metadata": {},
     "output_type": "display_data"
    },
    {
     "data": {
      "text/plain": [
       "\u001B[4;38;5;129mNorth American Supply Chain Manager\u001B[0m\u001B[38;5;129m acts: \u001B[0m\u001B[1;38;5;129m[\u001B[0m\u001B[38;5;129mREACH_OUT\u001B[0m\u001B[1;38;5;129m]\u001B[0m\u001B[38;5;129m \u001B[0m\n",
       "\n"
      ],
      "text/html": [
       "<pre style=\"margin:0px;;white-space:pre;overflow-x:auto;line-height:normal;font-family:Menlo,'DejaVu Sans Mono',consolas,'Courier New',monospace\"><span style=\"color: #af00ff; text-decoration-color: #af00ff; text-decoration: underline\">North American Supply Chain Manager</span><span style=\"color: #af00ff; text-decoration-color: #af00ff\"> acts: </span><span style=\"color: #af00ff; text-decoration-color: #af00ff; font-weight: bold\">[</span><span style=\"color: #af00ff; text-decoration-color: #af00ff\">REACH_OUT</span><span style=\"color: #af00ff; text-decoration-color: #af00ff; font-weight: bold\">]</span><span style=\"color: #af00ff; text-decoration-color: #af00ff\"> </span>\n",
       "\n",
       "</pre>\n"
      ]
     },
     "metadata": {},
     "output_type": "display_data"
    },
    {
     "data": {
      "text/plain": [
       "\u001B[1;4;38;5;40mNorth American Supply Chain Manager\u001B[0m\u001B[1;38;5;40m acts: \u001B[0m\u001B[1;38;5;40m[\u001B[0m\u001B[1;38;5;40mTALK\u001B[0m\u001B[1;38;5;40m]\u001B[0m\u001B[1;38;5;40m \u001B[0m\n",
       "\u001B[1;38;5;40m                                         > Yes, I think gathering to brainstorm ideas for the\u001B[0m\n",
       "\u001B[1;38;5;40m                                         > simulation model is a great idea, Elena. When would you\u001B[0m\n",
       "\u001B[1;38;5;40m                                         > like to meet?\u001B[0m\n"
      ],
      "text/html": [
       "<pre style=\"margin:0px;;white-space:pre;overflow-x:auto;line-height:normal;font-family:Menlo,'DejaVu Sans Mono',consolas,'Courier New',monospace\"><span style=\"color: #00d700; text-decoration-color: #00d700; font-weight: bold; text-decoration: underline\">North American Supply Chain Manager</span><span style=\"color: #00d700; text-decoration-color: #00d700; font-weight: bold\"> acts: [TALK] </span>\n",
       "<span style=\"color: #00d700; text-decoration-color: #00d700; font-weight: bold\">                                         &gt; Yes, I think gathering to brainstorm ideas for the</span>\n",
       "<span style=\"color: #00d700; text-decoration-color: #00d700; font-weight: bold\">                                         &gt; simulation model is a great idea, Elena. When would you</span>\n",
       "<span style=\"color: #00d700; text-decoration-color: #00d700; font-weight: bold\">                                         &gt; like to meet?</span>\n",
       "</pre>\n"
      ]
     },
     "metadata": {},
     "output_type": "display_data"
    },
    {
     "data": {
      "text/plain": [
       "\u001B[4;38;5;252mNorth American Supply Chain Manager\u001B[0m\u001B[38;5;252m acts: \u001B[0m\u001B[1;38;5;252m[\u001B[0m\u001B[38;5;252mDONE\u001B[0m\u001B[1;38;5;252m]\u001B[0m\u001B[38;5;252m \u001B[0m\n",
       "\n"
      ],
      "text/html": [
       "<pre style=\"margin:0px;;white-space:pre;overflow-x:auto;line-height:normal;font-family:Menlo,'DejaVu Sans Mono',consolas,'Courier New',monospace\"><span style=\"color: #d0d0d0; text-decoration-color: #d0d0d0; text-decoration: underline\">North American Supply Chain Manager</span><span style=\"color: #d0d0d0; text-decoration-color: #d0d0d0\"> acts: </span><span style=\"color: #d0d0d0; text-decoration-color: #d0d0d0; font-weight: bold\">[</span><span style=\"color: #d0d0d0; text-decoration-color: #d0d0d0\">DONE</span><span style=\"color: #d0d0d0; text-decoration-color: #d0d0d0; font-weight: bold\">]</span><span style=\"color: #d0d0d0; text-decoration-color: #d0d0d0\"> </span>\n",
       "\n",
       "</pre>\n"
      ]
     },
     "metadata": {},
     "output_type": "display_data"
    },
    {
     "data": {
      "text/plain": [
       "\u001B[3;4mGlobal Supply Network\u001B[0m\u001B[3m --> \u001B[0m\u001B[3;4mNorth American Supply Chain Manager\u001B[0m\u001B[3m: \u001B[0m\u001B[1;3m[\u001B[0m\u001B[3mSOCIAL\u001B[0m\u001B[1;3m]\u001B[0m\u001B[3m \u001B[0m\n",
       "\u001B[3m                           > Elena Martinez was successfully reached out, and is now available for\u001B[0m\n",
       "\u001B[3m                           > interaction.\u001B[0m\n"
      ],
      "text/html": [
       "<pre style=\"margin:0px;;white-space:pre;overflow-x:auto;line-height:normal;font-family:Menlo,'DejaVu Sans Mono',consolas,'Courier New',monospace\"><span style=\"font-style: italic; text-decoration: underline\">Global Supply Network</span><span style=\"font-style: italic\"> --&gt; </span><span style=\"font-style: italic; text-decoration: underline\">North American Supply Chain Manager</span><span style=\"font-style: italic\">: </span><span style=\"font-weight: bold; font-style: italic\">[</span><span style=\"font-style: italic\">SOCIAL</span><span style=\"font-weight: bold; font-style: italic\">]</span><span style=\"font-style: italic\"> </span>\n",
       "<span style=\"font-style: italic\">                           &gt; Elena Martinez was successfully reached out, and is now available for</span>\n",
       "<span style=\"font-style: italic\">                           &gt; interaction.</span>\n",
       "</pre>\n"
      ]
     },
     "metadata": {},
     "output_type": "display_data"
    },
    {
     "data": {
      "text/plain": [
       "\u001B[3;4mGlobal Supply Network\u001B[0m\u001B[3m --> \u001B[0m\u001B[3;4mElena Martinez\u001B[0m\u001B[3m: \u001B[0m\u001B[1;3m[\u001B[0m\u001B[3mSOCIAL\u001B[0m\u001B[1;3m]\u001B[0m\u001B[3m \u001B[0m\n",
       "\u001B[3m                           > North American Supply Chain Manager reached out to you, and is now\u001B[0m\n",
       "\u001B[3m                           > available for interaction.\u001B[0m\n"
      ],
      "text/html": [
       "<pre style=\"margin:0px;;white-space:pre;overflow-x:auto;line-height:normal;font-family:Menlo,'DejaVu Sans Mono',consolas,'Courier New',monospace\"><span style=\"font-style: italic; text-decoration: underline\">Global Supply Network</span><span style=\"font-style: italic\"> --&gt; </span><span style=\"font-style: italic; text-decoration: underline\">Elena Martinez</span><span style=\"font-style: italic\">: </span><span style=\"font-weight: bold; font-style: italic\">[</span><span style=\"font-style: italic\">SOCIAL</span><span style=\"font-weight: bold; font-style: italic\">]</span><span style=\"font-style: italic\"> </span>\n",
       "<span style=\"font-style: italic\">                           &gt; North American Supply Chain Manager reached out to you, and is now</span>\n",
       "<span style=\"font-style: italic\">                           &gt; available for interaction.</span>\n",
       "</pre>\n"
      ]
     },
     "metadata": {},
     "output_type": "display_data"
    },
    {
     "data": {
      "text/plain": [
       "\u001B[1;3;4;38;5;51mNorth American Supply Chain Manager\u001B[0m\u001B[1;3;38;5;51m --> \u001B[0m\u001B[1;3;4;38;5;51mElena Martinez\u001B[0m\u001B[1;3;38;5;51m: \u001B[0m\u001B[1;3;38;5;51m[\u001B[0m\u001B[1;3;38;5;51mCONVERSATION\u001B[0m\u001B[1;3;38;5;51m]\u001B[0m\u001B[1;3;38;5;51m \u001B[0m\n",
       "\u001B[1;3;38;5;51m                                         > Yes, I think gathering to brainstorm ideas for the\u001B[0m\n",
       "\u001B[1;3;38;5;51m                                         > simulation model is a great idea, Elena. When would you\u001B[0m\n",
       "\u001B[1;3;38;5;51m                                         > like to meet?\u001B[0m\n"
      ],
      "text/html": [
       "<pre style=\"margin:0px;;white-space:pre;overflow-x:auto;line-height:normal;font-family:Menlo,'DejaVu Sans Mono',consolas,'Courier New',monospace\"><span style=\"color: #00ffff; text-decoration-color: #00ffff; font-weight: bold; font-style: italic; text-decoration: underline\">North American Supply Chain Manager</span><span style=\"color: #00ffff; text-decoration-color: #00ffff; font-weight: bold; font-style: italic\"> --&gt; </span><span style=\"color: #00ffff; text-decoration-color: #00ffff; font-weight: bold; font-style: italic; text-decoration: underline\">Elena Martinez</span><span style=\"color: #00ffff; text-decoration-color: #00ffff; font-weight: bold; font-style: italic\">: [CONVERSATION] </span>\n",
       "<span style=\"color: #00ffff; text-decoration-color: #00ffff; font-weight: bold; font-style: italic\">                                         &gt; Yes, I think gathering to brainstorm ideas for the</span>\n",
       "<span style=\"color: #00ffff; text-decoration-color: #00ffff; font-weight: bold; font-style: italic\">                                         &gt; simulation model is a great idea, Elena. When would you</span>\n",
       "<span style=\"color: #00ffff; text-decoration-color: #00ffff; font-weight: bold; font-style: italic\">                                         &gt; like to meet?</span>\n",
       "</pre>\n"
      ]
     },
     "metadata": {},
     "output_type": "display_data"
    },
    {
     "data": {
      "text/plain": [
       "\u001B[4;38;5;129mEuropean Supply Chain Manager\u001B[0m\u001B[38;5;129m acts: \u001B[0m\u001B[1;38;5;129m[\u001B[0m\u001B[38;5;129mREACH_OUT\u001B[0m\u001B[1;38;5;129m]\u001B[0m\u001B[38;5;129m \u001B[0m\n",
       "\n"
      ],
      "text/html": [
       "<pre style=\"margin:0px;;white-space:pre;overflow-x:auto;line-height:normal;font-family:Menlo,'DejaVu Sans Mono',consolas,'Courier New',monospace\"><span style=\"color: #af00ff; text-decoration-color: #af00ff; text-decoration: underline\">European Supply Chain Manager</span><span style=\"color: #af00ff; text-decoration-color: #af00ff\"> acts: </span><span style=\"color: #af00ff; text-decoration-color: #af00ff; font-weight: bold\">[</span><span style=\"color: #af00ff; text-decoration-color: #af00ff\">REACH_OUT</span><span style=\"color: #af00ff; text-decoration-color: #af00ff; font-weight: bold\">]</span><span style=\"color: #af00ff; text-decoration-color: #af00ff\"> </span>\n",
       "\n",
       "</pre>\n"
      ]
     },
     "metadata": {},
     "output_type": "display_data"
    },
    {
     "data": {
      "text/plain": [
       "\u001B[1;4;38;5;40mEuropean Supply Chain Manager\u001B[0m\u001B[1;38;5;40m acts: \u001B[0m\u001B[1;38;5;40m[\u001B[0m\u001B[1;38;5;40mTALK\u001B[0m\u001B[1;38;5;40m]\u001B[0m\u001B[1;38;5;40m \u001B[0m\n",
       "\u001B[1;38;5;40m                                   > Yes, I think gathering to brainstorm ideas for the simulation\u001B[0m\n",
       "\u001B[1;38;5;40m                                   > model is a great idea. When would you like to meet?\u001B[0m\n"
      ],
      "text/html": [
       "<pre style=\"margin:0px;;white-space:pre;overflow-x:auto;line-height:normal;font-family:Menlo,'DejaVu Sans Mono',consolas,'Courier New',monospace\"><span style=\"color: #00d700; text-decoration-color: #00d700; font-weight: bold; text-decoration: underline\">European Supply Chain Manager</span><span style=\"color: #00d700; text-decoration-color: #00d700; font-weight: bold\"> acts: [TALK] </span>\n",
       "<span style=\"color: #00d700; text-decoration-color: #00d700; font-weight: bold\">                                   &gt; Yes, I think gathering to brainstorm ideas for the simulation</span>\n",
       "<span style=\"color: #00d700; text-decoration-color: #00d700; font-weight: bold\">                                   &gt; model is a great idea. When would you like to meet?</span>\n",
       "</pre>\n"
      ]
     },
     "metadata": {},
     "output_type": "display_data"
    },
    {
     "data": {
      "text/plain": [
       "\u001B[4;38;5;252mEuropean Supply Chain Manager\u001B[0m\u001B[38;5;252m acts: \u001B[0m\u001B[1;38;5;252m[\u001B[0m\u001B[38;5;252mDONE\u001B[0m\u001B[1;38;5;252m]\u001B[0m\u001B[38;5;252m \u001B[0m\n",
       "\n"
      ],
      "text/html": [
       "<pre style=\"margin:0px;;white-space:pre;overflow-x:auto;line-height:normal;font-family:Menlo,'DejaVu Sans Mono',consolas,'Courier New',monospace\"><span style=\"color: #d0d0d0; text-decoration-color: #d0d0d0; text-decoration: underline\">European Supply Chain Manager</span><span style=\"color: #d0d0d0; text-decoration-color: #d0d0d0\"> acts: </span><span style=\"color: #d0d0d0; text-decoration-color: #d0d0d0; font-weight: bold\">[</span><span style=\"color: #d0d0d0; text-decoration-color: #d0d0d0\">DONE</span><span style=\"color: #d0d0d0; text-decoration-color: #d0d0d0; font-weight: bold\">]</span><span style=\"color: #d0d0d0; text-decoration-color: #d0d0d0\"> </span>\n",
       "\n",
       "</pre>\n"
      ]
     },
     "metadata": {},
     "output_type": "display_data"
    },
    {
     "data": {
      "text/plain": [
       "\u001B[3;4mGlobal Supply Network\u001B[0m\u001B[3m --> \u001B[0m\u001B[3;4mEuropean Supply Chain Manager\u001B[0m\u001B[3m: \u001B[0m\u001B[1;3m[\u001B[0m\u001B[3mSOCIAL\u001B[0m\u001B[1;3m]\u001B[0m\u001B[3m \u001B[0m\n",
       "\u001B[3m                           > Elena Martinez was successfully reached out, and is now available for\u001B[0m\n",
       "\u001B[3m                           > interaction.\u001B[0m\n"
      ],
      "text/html": [
       "<pre style=\"margin:0px;;white-space:pre;overflow-x:auto;line-height:normal;font-family:Menlo,'DejaVu Sans Mono',consolas,'Courier New',monospace\"><span style=\"font-style: italic; text-decoration: underline\">Global Supply Network</span><span style=\"font-style: italic\"> --&gt; </span><span style=\"font-style: italic; text-decoration: underline\">European Supply Chain Manager</span><span style=\"font-style: italic\">: </span><span style=\"font-weight: bold; font-style: italic\">[</span><span style=\"font-style: italic\">SOCIAL</span><span style=\"font-weight: bold; font-style: italic\">]</span><span style=\"font-style: italic\"> </span>\n",
       "<span style=\"font-style: italic\">                           &gt; Elena Martinez was successfully reached out, and is now available for</span>\n",
       "<span style=\"font-style: italic\">                           &gt; interaction.</span>\n",
       "</pre>\n"
      ]
     },
     "metadata": {},
     "output_type": "display_data"
    },
    {
     "data": {
      "text/plain": [
       "\u001B[3;4mGlobal Supply Network\u001B[0m\u001B[3m --> \u001B[0m\u001B[3;4mElena Martinez\u001B[0m\u001B[3m: \u001B[0m\u001B[1;3m[\u001B[0m\u001B[3mSOCIAL\u001B[0m\u001B[1;3m]\u001B[0m\u001B[3m \u001B[0m\n",
       "\u001B[3m                           > European Supply Chain Manager reached out to you, and is now available\u001B[0m\n",
       "\u001B[3m                           > for interaction.\u001B[0m\n"
      ],
      "text/html": [
       "<pre style=\"margin:0px;;white-space:pre;overflow-x:auto;line-height:normal;font-family:Menlo,'DejaVu Sans Mono',consolas,'Courier New',monospace\"><span style=\"font-style: italic; text-decoration: underline\">Global Supply Network</span><span style=\"font-style: italic\"> --&gt; </span><span style=\"font-style: italic; text-decoration: underline\">Elena Martinez</span><span style=\"font-style: italic\">: </span><span style=\"font-weight: bold; font-style: italic\">[</span><span style=\"font-style: italic\">SOCIAL</span><span style=\"font-weight: bold; font-style: italic\">]</span><span style=\"font-style: italic\"> </span>\n",
       "<span style=\"font-style: italic\">                           &gt; European Supply Chain Manager reached out to you, and is now available</span>\n",
       "<span style=\"font-style: italic\">                           &gt; for interaction.</span>\n",
       "</pre>\n"
      ]
     },
     "metadata": {},
     "output_type": "display_data"
    },
    {
     "data": {
      "text/plain": [
       "\u001B[1;3;4;38;5;51mEuropean Supply Chain Manager\u001B[0m\u001B[1;3;38;5;51m --> \u001B[0m\u001B[1;3;4;38;5;51mElena Martinez\u001B[0m\u001B[1;3;38;5;51m: \u001B[0m\u001B[1;3;38;5;51m[\u001B[0m\u001B[1;3;38;5;51mCONVERSATION\u001B[0m\u001B[1;3;38;5;51m]\u001B[0m\u001B[1;3;38;5;51m \u001B[0m\n",
       "\u001B[1;3;38;5;51m                                   > Yes, I think gathering to brainstorm ideas for the simulation\u001B[0m\n",
       "\u001B[1;3;38;5;51m                                   > model is a great idea. When would you like to meet?\u001B[0m\n"
      ],
      "text/html": [
       "<pre style=\"margin:0px;;white-space:pre;overflow-x:auto;line-height:normal;font-family:Menlo,'DejaVu Sans Mono',consolas,'Courier New',monospace\"><span style=\"color: #00ffff; text-decoration-color: #00ffff; font-weight: bold; font-style: italic; text-decoration: underline\">European Supply Chain Manager</span><span style=\"color: #00ffff; text-decoration-color: #00ffff; font-weight: bold; font-style: italic\"> --&gt; </span><span style=\"color: #00ffff; text-decoration-color: #00ffff; font-weight: bold; font-style: italic; text-decoration: underline\">Elena Martinez</span><span style=\"color: #00ffff; text-decoration-color: #00ffff; font-weight: bold; font-style: italic\">: [CONVERSATION] </span>\n",
       "<span style=\"color: #00ffff; text-decoration-color: #00ffff; font-weight: bold; font-style: italic\">                                   &gt; Yes, I think gathering to brainstorm ideas for the simulation</span>\n",
       "<span style=\"color: #00ffff; text-decoration-color: #00ffff; font-weight: bold; font-style: italic\">                                   &gt; model is a great idea. When would you like to meet?</span>\n",
       "</pre>\n"
      ]
     },
     "metadata": {},
     "output_type": "display_data"
    },
    {
     "data": {
      "text/plain": [
       "\u001B[4;38;5;129mAsian Supply Chain Manager\u001B[0m\u001B[38;5;129m acts: \u001B[0m\u001B[1;38;5;129m[\u001B[0m\u001B[38;5;129mREACH_OUT\u001B[0m\u001B[1;38;5;129m]\u001B[0m\u001B[38;5;129m \u001B[0m\n",
       "\n"
      ],
      "text/html": [
       "<pre style=\"margin:0px;;white-space:pre;overflow-x:auto;line-height:normal;font-family:Menlo,'DejaVu Sans Mono',consolas,'Courier New',monospace\"><span style=\"color: #af00ff; text-decoration-color: #af00ff; text-decoration: underline\">Asian Supply Chain Manager</span><span style=\"color: #af00ff; text-decoration-color: #af00ff\"> acts: </span><span style=\"color: #af00ff; text-decoration-color: #af00ff; font-weight: bold\">[</span><span style=\"color: #af00ff; text-decoration-color: #af00ff\">REACH_OUT</span><span style=\"color: #af00ff; text-decoration-color: #af00ff; font-weight: bold\">]</span><span style=\"color: #af00ff; text-decoration-color: #af00ff\"> </span>\n",
       "\n",
       "</pre>\n"
      ]
     },
     "metadata": {},
     "output_type": "display_data"
    },
    {
     "data": {
      "text/plain": [
       "\u001B[1;4;38;5;40mAsian Supply Chain Manager\u001B[0m\u001B[1;38;5;40m acts: \u001B[0m\u001B[1;38;5;40m[\u001B[0m\u001B[1;38;5;40mTALK\u001B[0m\u001B[1;38;5;40m]\u001B[0m\u001B[1;38;5;40m \u001B[0m\n",
       "\u001B[1;38;5;40m                                > Yes, I would love to gather and brainstorm ideas for the\u001B[0m\n",
       "\u001B[1;38;5;40m                                > simulation model. When would you like to meet?\u001B[0m\n"
      ],
      "text/html": [
       "<pre style=\"margin:0px;;white-space:pre;overflow-x:auto;line-height:normal;font-family:Menlo,'DejaVu Sans Mono',consolas,'Courier New',monospace\"><span style=\"color: #00d700; text-decoration-color: #00d700; font-weight: bold; text-decoration: underline\">Asian Supply Chain Manager</span><span style=\"color: #00d700; text-decoration-color: #00d700; font-weight: bold\"> acts: [TALK] </span>\n",
       "<span style=\"color: #00d700; text-decoration-color: #00d700; font-weight: bold\">                                &gt; Yes, I would love to gather and brainstorm ideas for the</span>\n",
       "<span style=\"color: #00d700; text-decoration-color: #00d700; font-weight: bold\">                                &gt; simulation model. When would you like to meet?</span>\n",
       "</pre>\n"
      ]
     },
     "metadata": {},
     "output_type": "display_data"
    },
    {
     "data": {
      "text/plain": [
       "\u001B[4;38;5;252mAsian Supply Chain Manager\u001B[0m\u001B[38;5;252m acts: \u001B[0m\u001B[1;38;5;252m[\u001B[0m\u001B[38;5;252mDONE\u001B[0m\u001B[1;38;5;252m]\u001B[0m\u001B[38;5;252m \u001B[0m\n",
       "\n"
      ],
      "text/html": [
       "<pre style=\"margin:0px;;white-space:pre;overflow-x:auto;line-height:normal;font-family:Menlo,'DejaVu Sans Mono',consolas,'Courier New',monospace\"><span style=\"color: #d0d0d0; text-decoration-color: #d0d0d0; text-decoration: underline\">Asian Supply Chain Manager</span><span style=\"color: #d0d0d0; text-decoration-color: #d0d0d0\"> acts: </span><span style=\"color: #d0d0d0; text-decoration-color: #d0d0d0; font-weight: bold\">[</span><span style=\"color: #d0d0d0; text-decoration-color: #d0d0d0\">DONE</span><span style=\"color: #d0d0d0; text-decoration-color: #d0d0d0; font-weight: bold\">]</span><span style=\"color: #d0d0d0; text-decoration-color: #d0d0d0\"> </span>\n",
       "\n",
       "</pre>\n"
      ]
     },
     "metadata": {},
     "output_type": "display_data"
    },
    {
     "data": {
      "text/plain": [
       "\u001B[3;4mGlobal Supply Network\u001B[0m\u001B[3m --> \u001B[0m\u001B[3;4mAsian Supply Chain Manager\u001B[0m\u001B[3m: \u001B[0m\u001B[1;3m[\u001B[0m\u001B[3mSOCIAL\u001B[0m\u001B[1;3m]\u001B[0m\u001B[3m \u001B[0m\n",
       "\u001B[3m                           > Elena Martinez was successfully reached out, and is now available for\u001B[0m\n",
       "\u001B[3m                           > interaction.\u001B[0m\n"
      ],
      "text/html": [
       "<pre style=\"margin:0px;;white-space:pre;overflow-x:auto;line-height:normal;font-family:Menlo,'DejaVu Sans Mono',consolas,'Courier New',monospace\"><span style=\"font-style: italic; text-decoration: underline\">Global Supply Network</span><span style=\"font-style: italic\"> --&gt; </span><span style=\"font-style: italic; text-decoration: underline\">Asian Supply Chain Manager</span><span style=\"font-style: italic\">: </span><span style=\"font-weight: bold; font-style: italic\">[</span><span style=\"font-style: italic\">SOCIAL</span><span style=\"font-weight: bold; font-style: italic\">]</span><span style=\"font-style: italic\"> </span>\n",
       "<span style=\"font-style: italic\">                           &gt; Elena Martinez was successfully reached out, and is now available for</span>\n",
       "<span style=\"font-style: italic\">                           &gt; interaction.</span>\n",
       "</pre>\n"
      ]
     },
     "metadata": {},
     "output_type": "display_data"
    },
    {
     "data": {
      "text/plain": [
       "\u001B[3;4mGlobal Supply Network\u001B[0m\u001B[3m --> \u001B[0m\u001B[3;4mElena Martinez\u001B[0m\u001B[3m: \u001B[0m\u001B[1;3m[\u001B[0m\u001B[3mSOCIAL\u001B[0m\u001B[1;3m]\u001B[0m\u001B[3m \u001B[0m\n",
       "\u001B[3m                           > Asian Supply Chain Manager reached out to you, and is now available for\u001B[0m\n",
       "\u001B[3m                           > interaction.\u001B[0m\n"
      ],
      "text/html": [
       "<pre style=\"margin:0px;;white-space:pre;overflow-x:auto;line-height:normal;font-family:Menlo,'DejaVu Sans Mono',consolas,'Courier New',monospace\"><span style=\"font-style: italic; text-decoration: underline\">Global Supply Network</span><span style=\"font-style: italic\"> --&gt; </span><span style=\"font-style: italic; text-decoration: underline\">Elena Martinez</span><span style=\"font-style: italic\">: </span><span style=\"font-weight: bold; font-style: italic\">[</span><span style=\"font-style: italic\">SOCIAL</span><span style=\"font-weight: bold; font-style: italic\">]</span><span style=\"font-style: italic\"> </span>\n",
       "<span style=\"font-style: italic\">                           &gt; Asian Supply Chain Manager reached out to you, and is now available for</span>\n",
       "<span style=\"font-style: italic\">                           &gt; interaction.</span>\n",
       "</pre>\n"
      ]
     },
     "metadata": {},
     "output_type": "display_data"
    },
    {
     "data": {
      "text/plain": [
       "\u001B[1;3;4;38;5;51mAsian Supply Chain Manager\u001B[0m\u001B[1;3;38;5;51m --> \u001B[0m\u001B[1;3;4;38;5;51mElena Martinez\u001B[0m\u001B[1;3;38;5;51m: \u001B[0m\u001B[1;3;38;5;51m[\u001B[0m\u001B[1;3;38;5;51mCONVERSATION\u001B[0m\u001B[1;3;38;5;51m]\u001B[0m\u001B[1;3;38;5;51m \u001B[0m\n",
       "\u001B[1;3;38;5;51m                                > Yes, I would love to gather and brainstorm ideas for the\u001B[0m\n",
       "\u001B[1;3;38;5;51m                                > simulation model. When would you like to meet?\u001B[0m\n"
      ],
      "text/html": [
       "<pre style=\"margin:0px;;white-space:pre;overflow-x:auto;line-height:normal;font-family:Menlo,'DejaVu Sans Mono',consolas,'Courier New',monospace\"><span style=\"color: #00ffff; text-decoration-color: #00ffff; font-weight: bold; font-style: italic; text-decoration: underline\">Asian Supply Chain Manager</span><span style=\"color: #00ffff; text-decoration-color: #00ffff; font-weight: bold; font-style: italic\"> --&gt; </span><span style=\"color: #00ffff; text-decoration-color: #00ffff; font-weight: bold; font-style: italic; text-decoration: underline\">Elena Martinez</span><span style=\"color: #00ffff; text-decoration-color: #00ffff; font-weight: bold; font-style: italic\">: [CONVERSATION] </span>\n",
       "<span style=\"color: #00ffff; text-decoration-color: #00ffff; font-weight: bold; font-style: italic\">                                &gt; Yes, I would love to gather and brainstorm ideas for the</span>\n",
       "<span style=\"color: #00ffff; text-decoration-color: #00ffff; font-weight: bold; font-style: italic\">                                &gt; simulation model. When would you like to meet?</span>\n",
       "</pre>\n"
      ]
     },
     "metadata": {},
     "output_type": "display_data"
    },
    {
     "data": {
      "text/plain": [
       "\u001B[4;38;5;129mSupplier A\u001B[0m\u001B[38;5;129m acts: \u001B[0m\u001B[1;38;5;129m[\u001B[0m\u001B[38;5;129mREACH_OUT\u001B[0m\u001B[1;38;5;129m]\u001B[0m\u001B[38;5;129m \u001B[0m\n",
       "\n"
      ],
      "text/html": [
       "<pre style=\"margin:0px;;white-space:pre;overflow-x:auto;line-height:normal;font-family:Menlo,'DejaVu Sans Mono',consolas,'Courier New',monospace\"><span style=\"color: #af00ff; text-decoration-color: #af00ff; text-decoration: underline\">Supplier A</span><span style=\"color: #af00ff; text-decoration-color: #af00ff\"> acts: </span><span style=\"color: #af00ff; text-decoration-color: #af00ff; font-weight: bold\">[</span><span style=\"color: #af00ff; text-decoration-color: #af00ff\">REACH_OUT</span><span style=\"color: #af00ff; text-decoration-color: #af00ff; font-weight: bold\">]</span><span style=\"color: #af00ff; text-decoration-color: #af00ff\"> </span>\n",
       "\n",
       "</pre>\n"
      ]
     },
     "metadata": {},
     "output_type": "display_data"
    },
    {
     "data": {
      "text/plain": [
       "\u001B[1;4;38;5;40mSupplier A\u001B[0m\u001B[1;38;5;40m acts: \u001B[0m\u001B[1;38;5;40m[\u001B[0m\u001B[1;38;5;40mTALK\u001B[0m\u001B[1;38;5;40m]\u001B[0m\u001B[1;38;5;40m \u001B[0m\n",
       "\u001B[1;38;5;40m                > Yes, I think gathering to brainstorm ideas for the simulation model is a great\u001B[0m\n",
       "\u001B[1;38;5;40m                > idea, Elena. When would you like to meet?\u001B[0m\n"
      ],
      "text/html": [
       "<pre style=\"margin:0px;;white-space:pre;overflow-x:auto;line-height:normal;font-family:Menlo,'DejaVu Sans Mono',consolas,'Courier New',monospace\"><span style=\"color: #00d700; text-decoration-color: #00d700; font-weight: bold; text-decoration: underline\">Supplier A</span><span style=\"color: #00d700; text-decoration-color: #00d700; font-weight: bold\"> acts: [TALK] </span>\n",
       "<span style=\"color: #00d700; text-decoration-color: #00d700; font-weight: bold\">                &gt; Yes, I think gathering to brainstorm ideas for the simulation model is a great</span>\n",
       "<span style=\"color: #00d700; text-decoration-color: #00d700; font-weight: bold\">                &gt; idea, Elena. When would you like to meet?</span>\n",
       "</pre>\n"
      ]
     },
     "metadata": {},
     "output_type": "display_data"
    },
    {
     "data": {
      "text/plain": [
       "\u001B[4;38;5;252mSupplier A\u001B[0m\u001B[38;5;252m acts: \u001B[0m\u001B[1;38;5;252m[\u001B[0m\u001B[38;5;252mDONE\u001B[0m\u001B[1;38;5;252m]\u001B[0m\u001B[38;5;252m \u001B[0m\n",
       "\n"
      ],
      "text/html": [
       "<pre style=\"margin:0px;;white-space:pre;overflow-x:auto;line-height:normal;font-family:Menlo,'DejaVu Sans Mono',consolas,'Courier New',monospace\"><span style=\"color: #d0d0d0; text-decoration-color: #d0d0d0; text-decoration: underline\">Supplier A</span><span style=\"color: #d0d0d0; text-decoration-color: #d0d0d0\"> acts: </span><span style=\"color: #d0d0d0; text-decoration-color: #d0d0d0; font-weight: bold\">[</span><span style=\"color: #d0d0d0; text-decoration-color: #d0d0d0\">DONE</span><span style=\"color: #d0d0d0; text-decoration-color: #d0d0d0; font-weight: bold\">]</span><span style=\"color: #d0d0d0; text-decoration-color: #d0d0d0\"> </span>\n",
       "\n",
       "</pre>\n"
      ]
     },
     "metadata": {},
     "output_type": "display_data"
    },
    {
     "data": {
      "text/plain": [
       "\u001B[3;4mGlobal Supply Network\u001B[0m\u001B[3m --> \u001B[0m\u001B[3;4mSupplier A\u001B[0m\u001B[3m: \u001B[0m\u001B[1;3m[\u001B[0m\u001B[3mSOCIAL\u001B[0m\u001B[1;3m]\u001B[0m\u001B[3m \u001B[0m\n",
       "\u001B[3m                           > Elena Martinez was successfully reached out, and is now available for\u001B[0m\n",
       "\u001B[3m                           > interaction.\u001B[0m\n"
      ],
      "text/html": [
       "<pre style=\"margin:0px;;white-space:pre;overflow-x:auto;line-height:normal;font-family:Menlo,'DejaVu Sans Mono',consolas,'Courier New',monospace\"><span style=\"font-style: italic; text-decoration: underline\">Global Supply Network</span><span style=\"font-style: italic\"> --&gt; </span><span style=\"font-style: italic; text-decoration: underline\">Supplier A</span><span style=\"font-style: italic\">: </span><span style=\"font-weight: bold; font-style: italic\">[</span><span style=\"font-style: italic\">SOCIAL</span><span style=\"font-weight: bold; font-style: italic\">]</span><span style=\"font-style: italic\"> </span>\n",
       "<span style=\"font-style: italic\">                           &gt; Elena Martinez was successfully reached out, and is now available for</span>\n",
       "<span style=\"font-style: italic\">                           &gt; interaction.</span>\n",
       "</pre>\n"
      ]
     },
     "metadata": {},
     "output_type": "display_data"
    },
    {
     "data": {
      "text/plain": [
       "\u001B[3;4mGlobal Supply Network\u001B[0m\u001B[3m --> \u001B[0m\u001B[3;4mElena Martinez\u001B[0m\u001B[3m: \u001B[0m\u001B[1;3m[\u001B[0m\u001B[3mSOCIAL\u001B[0m\u001B[1;3m]\u001B[0m\u001B[3m \u001B[0m\n",
       "\u001B[3m                           > Supplier A reached out to you, and is now available for interaction.\u001B[0m\n"
      ],
      "text/html": [
       "<pre style=\"margin:0px;;white-space:pre;overflow-x:auto;line-height:normal;font-family:Menlo,'DejaVu Sans Mono',consolas,'Courier New',monospace\"><span style=\"font-style: italic; text-decoration: underline\">Global Supply Network</span><span style=\"font-style: italic\"> --&gt; </span><span style=\"font-style: italic; text-decoration: underline\">Elena Martinez</span><span style=\"font-style: italic\">: </span><span style=\"font-weight: bold; font-style: italic\">[</span><span style=\"font-style: italic\">SOCIAL</span><span style=\"font-weight: bold; font-style: italic\">]</span><span style=\"font-style: italic\"> </span>\n",
       "<span style=\"font-style: italic\">                           &gt; Supplier A reached out to you, and is now available for interaction.</span>\n",
       "</pre>\n"
      ]
     },
     "metadata": {},
     "output_type": "display_data"
    },
    {
     "data": {
      "text/plain": [
       "\u001B[1;3;4;38;5;51mSupplier A\u001B[0m\u001B[1;3;38;5;51m --> \u001B[0m\u001B[1;3;4;38;5;51mElena Martinez\u001B[0m\u001B[1;3;38;5;51m: \u001B[0m\u001B[1;3;38;5;51m[\u001B[0m\u001B[1;3;38;5;51mCONVERSATION\u001B[0m\u001B[1;3;38;5;51m]\u001B[0m\u001B[1;3;38;5;51m \u001B[0m\n",
       "\u001B[1;3;38;5;51m                > Yes, I think gathering to brainstorm ideas for the simulation model is a great\u001B[0m\n",
       "\u001B[1;3;38;5;51m                > idea, Elena. When would you like to meet?\u001B[0m\n"
      ],
      "text/html": [
       "<pre style=\"margin:0px;;white-space:pre;overflow-x:auto;line-height:normal;font-family:Menlo,'DejaVu Sans Mono',consolas,'Courier New',monospace\"><span style=\"color: #00ffff; text-decoration-color: #00ffff; font-weight: bold; font-style: italic; text-decoration: underline\">Supplier A</span><span style=\"color: #00ffff; text-decoration-color: #00ffff; font-weight: bold; font-style: italic\"> --&gt; </span><span style=\"color: #00ffff; text-decoration-color: #00ffff; font-weight: bold; font-style: italic; text-decoration: underline\">Elena Martinez</span><span style=\"color: #00ffff; text-decoration-color: #00ffff; font-weight: bold; font-style: italic\">: [CONVERSATION] </span>\n",
       "<span style=\"color: #00ffff; text-decoration-color: #00ffff; font-weight: bold; font-style: italic\">                &gt; Yes, I think gathering to brainstorm ideas for the simulation model is a great</span>\n",
       "<span style=\"color: #00ffff; text-decoration-color: #00ffff; font-weight: bold; font-style: italic\">                &gt; idea, Elena. When would you like to meet?</span>\n",
       "</pre>\n"
      ]
     },
     "metadata": {},
     "output_type": "display_data"
    },
    {
     "data": {
      "text/plain": [
       "\u001B[4;38;5;129mOcean Freight Carrier A\u001B[0m\u001B[38;5;129m acts: \u001B[0m\u001B[1;38;5;129m[\u001B[0m\u001B[38;5;129mREACH_OUT\u001B[0m\u001B[1;38;5;129m]\u001B[0m\u001B[38;5;129m \u001B[0m\n",
       "\n"
      ],
      "text/html": [
       "<pre style=\"margin:0px;;white-space:pre;overflow-x:auto;line-height:normal;font-family:Menlo,'DejaVu Sans Mono',consolas,'Courier New',monospace\"><span style=\"color: #af00ff; text-decoration-color: #af00ff; text-decoration: underline\">Ocean Freight Carrier A</span><span style=\"color: #af00ff; text-decoration-color: #af00ff\"> acts: </span><span style=\"color: #af00ff; text-decoration-color: #af00ff; font-weight: bold\">[</span><span style=\"color: #af00ff; text-decoration-color: #af00ff\">REACH_OUT</span><span style=\"color: #af00ff; text-decoration-color: #af00ff; font-weight: bold\">]</span><span style=\"color: #af00ff; text-decoration-color: #af00ff\"> </span>\n",
       "\n",
       "</pre>\n"
      ]
     },
     "metadata": {},
     "output_type": "display_data"
    },
    {
     "data": {
      "text/plain": [
       "\u001B[4;32mOcean Freight Carrier A\u001B[0m\u001B[32m acts: \u001B[0m\u001B[1;32m[\u001B[0m\u001B[32mTHINK\u001B[0m\u001B[1;32m]\u001B[0m\u001B[32m \u001B[0m\n",
       "\u001B[32m                             > I need to prepare for the brainstorming session with Elena. I should\u001B[0m\n",
       "\u001B[32m                             > consider the key aspects of the simulation model and how it can help\u001B[0m\n",
       "\u001B[32m                             > improve our supply chain strategies.\u001B[0m\n"
      ],
      "text/html": [
       "<pre style=\"margin:0px;;white-space:pre;overflow-x:auto;line-height:normal;font-family:Menlo,'DejaVu Sans Mono',consolas,'Courier New',monospace\"><span style=\"color: #008000; text-decoration-color: #008000; text-decoration: underline\">Ocean Freight Carrier A</span><span style=\"color: #008000; text-decoration-color: #008000\"> acts: </span><span style=\"color: #008000; text-decoration-color: #008000; font-weight: bold\">[</span><span style=\"color: #008000; text-decoration-color: #008000\">THINK</span><span style=\"color: #008000; text-decoration-color: #008000; font-weight: bold\">]</span><span style=\"color: #008000; text-decoration-color: #008000\"> </span>\n",
       "<span style=\"color: #008000; text-decoration-color: #008000\">                             &gt; I need to prepare for the brainstorming session with Elena. I should</span>\n",
       "<span style=\"color: #008000; text-decoration-color: #008000\">                             &gt; consider the key aspects of the simulation model and how it can help</span>\n",
       "<span style=\"color: #008000; text-decoration-color: #008000\">                             &gt; improve our supply chain strategies.</span>\n",
       "</pre>\n"
      ]
     },
     "metadata": {},
     "output_type": "display_data"
    },
    {
     "data": {
      "text/plain": [
       "\u001B[1;4;38;5;40mOcean Freight Carrier A\u001B[0m\u001B[1;38;5;40m acts: \u001B[0m\u001B[1;38;5;40m[\u001B[0m\u001B[1;38;5;40mTALK\u001B[0m\u001B[1;38;5;40m]\u001B[0m\u001B[1;38;5;40m \u001B[0m\n",
       "\u001B[1;38;5;40m                             > Yes, I would love to gather and brainstorm ideas for the simulation\u001B[0m\n",
       "\u001B[1;38;5;40m                             > model. When would you like to meet, Elena?\u001B[0m\n"
      ],
      "text/html": [
       "<pre style=\"margin:0px;;white-space:pre;overflow-x:auto;line-height:normal;font-family:Menlo,'DejaVu Sans Mono',consolas,'Courier New',monospace\"><span style=\"color: #00d700; text-decoration-color: #00d700; font-weight: bold; text-decoration: underline\">Ocean Freight Carrier A</span><span style=\"color: #00d700; text-decoration-color: #00d700; font-weight: bold\"> acts: [TALK] </span>\n",
       "<span style=\"color: #00d700; text-decoration-color: #00d700; font-weight: bold\">                             &gt; Yes, I would love to gather and brainstorm ideas for the simulation</span>\n",
       "<span style=\"color: #00d700; text-decoration-color: #00d700; font-weight: bold\">                             &gt; model. When would you like to meet, Elena?</span>\n",
       "</pre>\n"
      ]
     },
     "metadata": {},
     "output_type": "display_data"
    },
    {
     "data": {
      "text/plain": [
       "\u001B[4;38;5;252mOcean Freight Carrier A\u001B[0m\u001B[38;5;252m acts: \u001B[0m\u001B[1;38;5;252m[\u001B[0m\u001B[38;5;252mDONE\u001B[0m\u001B[1;38;5;252m]\u001B[0m\u001B[38;5;252m \u001B[0m\n",
       "\n"
      ],
      "text/html": [
       "<pre style=\"margin:0px;;white-space:pre;overflow-x:auto;line-height:normal;font-family:Menlo,'DejaVu Sans Mono',consolas,'Courier New',monospace\"><span style=\"color: #d0d0d0; text-decoration-color: #d0d0d0; text-decoration: underline\">Ocean Freight Carrier A</span><span style=\"color: #d0d0d0; text-decoration-color: #d0d0d0\"> acts: </span><span style=\"color: #d0d0d0; text-decoration-color: #d0d0d0; font-weight: bold\">[</span><span style=\"color: #d0d0d0; text-decoration-color: #d0d0d0\">DONE</span><span style=\"color: #d0d0d0; text-decoration-color: #d0d0d0; font-weight: bold\">]</span><span style=\"color: #d0d0d0; text-decoration-color: #d0d0d0\"> </span>\n",
       "\n",
       "</pre>\n"
      ]
     },
     "metadata": {},
     "output_type": "display_data"
    },
    {
     "data": {
      "text/plain": [
       "\u001B[3;4mGlobal Supply Network\u001B[0m\u001B[3m --> \u001B[0m\u001B[3;4mOcean Freight Carrier A\u001B[0m\u001B[3m: \u001B[0m\u001B[1;3m[\u001B[0m\u001B[3mSOCIAL\u001B[0m\u001B[1;3m]\u001B[0m\u001B[3m \u001B[0m\n",
       "\u001B[3m                           > Elena Martinez was successfully reached out, and is now available for\u001B[0m\n",
       "\u001B[3m                           > interaction.\u001B[0m\n"
      ],
      "text/html": [
       "<pre style=\"margin:0px;;white-space:pre;overflow-x:auto;line-height:normal;font-family:Menlo,'DejaVu Sans Mono',consolas,'Courier New',monospace\"><span style=\"font-style: italic; text-decoration: underline\">Global Supply Network</span><span style=\"font-style: italic\"> --&gt; </span><span style=\"font-style: italic; text-decoration: underline\">Ocean Freight Carrier A</span><span style=\"font-style: italic\">: </span><span style=\"font-weight: bold; font-style: italic\">[</span><span style=\"font-style: italic\">SOCIAL</span><span style=\"font-weight: bold; font-style: italic\">]</span><span style=\"font-style: italic\"> </span>\n",
       "<span style=\"font-style: italic\">                           &gt; Elena Martinez was successfully reached out, and is now available for</span>\n",
       "<span style=\"font-style: italic\">                           &gt; interaction.</span>\n",
       "</pre>\n"
      ]
     },
     "metadata": {},
     "output_type": "display_data"
    },
    {
     "data": {
      "text/plain": [
       "\u001B[3;4mGlobal Supply Network\u001B[0m\u001B[3m --> \u001B[0m\u001B[3;4mElena Martinez\u001B[0m\u001B[3m: \u001B[0m\u001B[1;3m[\u001B[0m\u001B[3mSOCIAL\u001B[0m\u001B[1;3m]\u001B[0m\u001B[3m \u001B[0m\n",
       "\u001B[3m                           > Ocean Freight Carrier A reached out to you, and is now available for\u001B[0m\n",
       "\u001B[3m                           > interaction.\u001B[0m\n"
      ],
      "text/html": [
       "<pre style=\"margin:0px;;white-space:pre;overflow-x:auto;line-height:normal;font-family:Menlo,'DejaVu Sans Mono',consolas,'Courier New',monospace\"><span style=\"font-style: italic; text-decoration: underline\">Global Supply Network</span><span style=\"font-style: italic\"> --&gt; </span><span style=\"font-style: italic; text-decoration: underline\">Elena Martinez</span><span style=\"font-style: italic\">: </span><span style=\"font-weight: bold; font-style: italic\">[</span><span style=\"font-style: italic\">SOCIAL</span><span style=\"font-weight: bold; font-style: italic\">]</span><span style=\"font-style: italic\"> </span>\n",
       "<span style=\"font-style: italic\">                           &gt; Ocean Freight Carrier A reached out to you, and is now available for</span>\n",
       "<span style=\"font-style: italic\">                           &gt; interaction.</span>\n",
       "</pre>\n"
      ]
     },
     "metadata": {},
     "output_type": "display_data"
    },
    {
     "data": {
      "text/plain": [
       "\u001B[1;3;4;38;5;51mOcean Freight Carrier A\u001B[0m\u001B[1;3;38;5;51m --> \u001B[0m\u001B[1;3;4;38;5;51mElena Martinez\u001B[0m\u001B[1;3;38;5;51m: \u001B[0m\u001B[1;3;38;5;51m[\u001B[0m\u001B[1;3;38;5;51mCONVERSATION\u001B[0m\u001B[1;3;38;5;51m]\u001B[0m\u001B[1;3;38;5;51m \u001B[0m\n",
       "\u001B[1;3;38;5;51m                             > Yes, I would love to gather and brainstorm ideas for the simulation\u001B[0m\n",
       "\u001B[1;3;38;5;51m                             > model. When would you like to meet, Elena?\u001B[0m\n"
      ],
      "text/html": [
       "<pre style=\"margin:0px;;white-space:pre;overflow-x:auto;line-height:normal;font-family:Menlo,'DejaVu Sans Mono',consolas,'Courier New',monospace\"><span style=\"color: #00ffff; text-decoration-color: #00ffff; font-weight: bold; font-style: italic; text-decoration: underline\">Ocean Freight Carrier A</span><span style=\"color: #00ffff; text-decoration-color: #00ffff; font-weight: bold; font-style: italic\"> --&gt; </span><span style=\"color: #00ffff; text-decoration-color: #00ffff; font-weight: bold; font-style: italic; text-decoration: underline\">Elena Martinez</span><span style=\"color: #00ffff; text-decoration-color: #00ffff; font-weight: bold; font-style: italic\">: [CONVERSATION] </span>\n",
       "<span style=\"color: #00ffff; text-decoration-color: #00ffff; font-weight: bold; font-style: italic\">                             &gt; Yes, I would love to gather and brainstorm ideas for the simulation</span>\n",
       "<span style=\"color: #00ffff; text-decoration-color: #00ffff; font-weight: bold; font-style: italic\">                             &gt; model. When would you like to meet, Elena?</span>\n",
       "</pre>\n"
      ]
     },
     "metadata": {},
     "output_type": "display_data"
    },
    {
     "data": {
      "text/plain": [
       "\u001B[92m──────────────────────────────────────── \u001B[0mGlobal Supply Network step \u001B[1;36m2\u001B[0m of \u001B[1;36m5\u001B[0m\u001B[92m ────────────────────────────────────────\u001B[0m\n"
      ],
      "text/html": [
       "<pre style=\"margin:0px;;white-space:pre;overflow-x:auto;line-height:normal;font-family:Menlo,'DejaVu Sans Mono',consolas,'Courier New',monospace\"><span style=\"color: #00ff00; text-decoration-color: #00ff00\">──────────────────────────────────────── </span>Global Supply Network step <span style=\"color: #008080; text-decoration-color: #008080; font-weight: bold\">2</span> of <span style=\"color: #008080; text-decoration-color: #008080; font-weight: bold\">5</span><span style=\"color: #00ff00; text-decoration-color: #00ff00\"> ────────────────────────────────────────</span>\n",
       "</pre>\n"
      ]
     },
     "metadata": {},
     "output_type": "display_data"
    },
    {
     "data": {
      "text/plain": [
       "\u001B[4;32mElena Martinez\u001B[0m\u001B[32m acts: \u001B[0m\u001B[1;32m[\u001B[0m\u001B[32mTHINK\u001B[0m\u001B[1;32m]\u001B[0m\u001B[32m \u001B[0m\n",
       "\u001B[32m                    > I have multiple supply chain managers and a supplier interested in\u001B[0m\n",
       "\u001B[32m                    > brainstorming for the simulation model. I need to coordinate a meeting that\u001B[0m\n",
       "\u001B[32m                    > accommodates everyone. I should propose a time that works for all of them.\u001B[0m\n"
      ],
      "text/html": [
       "<pre style=\"margin:0px;;white-space:pre;overflow-x:auto;line-height:normal;font-family:Menlo,'DejaVu Sans Mono',consolas,'Courier New',monospace\"><span style=\"color: #008000; text-decoration-color: #008000; text-decoration: underline\">Elena Martinez</span><span style=\"color: #008000; text-decoration-color: #008000\"> acts: </span><span style=\"color: #008000; text-decoration-color: #008000; font-weight: bold\">[</span><span style=\"color: #008000; text-decoration-color: #008000\">THINK</span><span style=\"color: #008000; text-decoration-color: #008000; font-weight: bold\">]</span><span style=\"color: #008000; text-decoration-color: #008000\"> </span>\n",
       "<span style=\"color: #008000; text-decoration-color: #008000\">                    &gt; I have multiple supply chain managers and a supplier interested in</span>\n",
       "<span style=\"color: #008000; text-decoration-color: #008000\">                    &gt; brainstorming for the simulation model. I need to coordinate a meeting that</span>\n",
       "<span style=\"color: #008000; text-decoration-color: #008000\">                    &gt; accommodates everyone. I should propose a time that works for all of them.</span>\n",
       "</pre>\n"
      ]
     },
     "metadata": {},
     "output_type": "display_data"
    },
    {
     "data": {
      "text/plain": [
       "\u001B[1;4;38;5;40mElena Martinez\u001B[0m\u001B[1;38;5;40m acts: \u001B[0m\u001B[1;38;5;40m[\u001B[0m\u001B[1;38;5;40mTALK\u001B[0m\u001B[1;38;5;40m]\u001B[0m\u001B[1;38;5;40m \u001B[0m\n",
       "\u001B[1;38;5;40m                    > I appreciate everyone's enthusiasm! How about we meet tomorrow at \u001B[0m\u001B[1;38;5;40m10\u001B[0m\u001B[1;38;5;40m AM to\u001B[0m\n",
       "\u001B[1;38;5;40m                    > discuss the simulation model? Does that work for everyone?\u001B[0m\n"
      ],
      "text/html": [
       "<pre style=\"margin:0px;;white-space:pre;overflow-x:auto;line-height:normal;font-family:Menlo,'DejaVu Sans Mono',consolas,'Courier New',monospace\"><span style=\"color: #00d700; text-decoration-color: #00d700; font-weight: bold; text-decoration: underline\">Elena Martinez</span><span style=\"color: #00d700; text-decoration-color: #00d700; font-weight: bold\"> acts: [TALK] </span>\n",
       "<span style=\"color: #00d700; text-decoration-color: #00d700; font-weight: bold\">                    &gt; I appreciate everyone's enthusiasm! How about we meet tomorrow at </span><span style=\"color: #00d700; text-decoration-color: #00d700; font-weight: bold\">10</span><span style=\"color: #00d700; text-decoration-color: #00d700; font-weight: bold\"> AM to</span>\n",
       "<span style=\"color: #00d700; text-decoration-color: #00d700; font-weight: bold\">                    &gt; discuss the simulation model? Does that work for everyone?</span>\n",
       "</pre>\n"
      ]
     },
     "metadata": {},
     "output_type": "display_data"
    },
    {
     "data": {
      "text/plain": [
       "\u001B[4;38;5;252mElena Martinez\u001B[0m\u001B[38;5;252m acts: \u001B[0m\u001B[1;38;5;252m[\u001B[0m\u001B[38;5;252mDONE\u001B[0m\u001B[1;38;5;252m]\u001B[0m\u001B[38;5;252m \u001B[0m\n",
       "\n"
      ],
      "text/html": [
       "<pre style=\"margin:0px;;white-space:pre;overflow-x:auto;line-height:normal;font-family:Menlo,'DejaVu Sans Mono',consolas,'Courier New',monospace\"><span style=\"color: #d0d0d0; text-decoration-color: #d0d0d0; text-decoration: underline\">Elena Martinez</span><span style=\"color: #d0d0d0; text-decoration-color: #d0d0d0\"> acts: </span><span style=\"color: #d0d0d0; text-decoration-color: #d0d0d0; font-weight: bold\">[</span><span style=\"color: #d0d0d0; text-decoration-color: #d0d0d0\">DONE</span><span style=\"color: #d0d0d0; text-decoration-color: #d0d0d0; font-weight: bold\">]</span><span style=\"color: #d0d0d0; text-decoration-color: #d0d0d0\"> </span>\n",
       "\n",
       "</pre>\n"
      ]
     },
     "metadata": {},
     "output_type": "display_data"
    },
    {
     "data": {
      "text/plain": [
       "\u001B[1;3;4;38;5;51mElena Martinez\u001B[0m\u001B[1;3;38;5;51m --> \u001B[0m\u001B[1;3;4;38;5;51mNorth American Supply Chain Manager\u001B[0m\u001B[1;3;38;5;51m: \u001B[0m\u001B[1;3;38;5;51m[\u001B[0m\u001B[1;3;38;5;51mCONVERSATION\u001B[0m\u001B[1;3;38;5;51m]\u001B[0m\u001B[1;3;38;5;51m \u001B[0m\n",
       "\u001B[1;3;38;5;51m                    > I appreciate everyone's enthusiasm! How about we meet tomorrow at \u001B[0m\u001B[1;3;38;5;51m10\u001B[0m\u001B[1;3;38;5;51m AM to\u001B[0m\n",
       "\u001B[1;3;38;5;51m                    > discuss the simulation model? Does that work for everyone?\u001B[0m\n"
      ],
      "text/html": [
       "<pre style=\"margin:0px;;white-space:pre;overflow-x:auto;line-height:normal;font-family:Menlo,'DejaVu Sans Mono',consolas,'Courier New',monospace\"><span style=\"color: #00ffff; text-decoration-color: #00ffff; font-weight: bold; font-style: italic; text-decoration: underline\">Elena Martinez</span><span style=\"color: #00ffff; text-decoration-color: #00ffff; font-weight: bold; font-style: italic\"> --&gt; </span><span style=\"color: #00ffff; text-decoration-color: #00ffff; font-weight: bold; font-style: italic; text-decoration: underline\">North American Supply Chain Manager</span><span style=\"color: #00ffff; text-decoration-color: #00ffff; font-weight: bold; font-style: italic\">: [CONVERSATION] </span>\n",
       "<span style=\"color: #00ffff; text-decoration-color: #00ffff; font-weight: bold; font-style: italic\">                    &gt; I appreciate everyone's enthusiasm! How about we meet tomorrow at 10 AM to</span>\n",
       "<span style=\"color: #00ffff; text-decoration-color: #00ffff; font-weight: bold; font-style: italic\">                    &gt; discuss the simulation model? Does that work for everyone?</span>\n",
       "</pre>\n"
      ]
     },
     "metadata": {},
     "output_type": "display_data"
    },
    {
     "data": {
      "text/plain": [
       "              \u001B[1;3;38;5;51m       + --> \u001B[0m\u001B[1;3;4;38;5;51mEuropean Supply Chain Manager\u001B[0m\n"
      ],
      "text/html": [
       "<pre style=\"margin:0px;;white-space:pre;overflow-x:auto;line-height:normal;font-family:Menlo,'DejaVu Sans Mono',consolas,'Courier New',monospace\">              <span style=\"color: #00ffff; text-decoration-color: #00ffff; font-weight: bold; font-style: italic\">       + --&gt; </span><span style=\"color: #00ffff; text-decoration-color: #00ffff; font-weight: bold; font-style: italic; text-decoration: underline\">European Supply Chain Manager</span>\n",
       "</pre>\n"
      ]
     },
     "metadata": {},
     "output_type": "display_data"
    },
    {
     "data": {
      "text/plain": [
       "              \u001B[1;3;38;5;51m       + --> \u001B[0m\u001B[1;3;4;38;5;51mAsian Supply Chain Manager\u001B[0m\n"
      ],
      "text/html": [
       "<pre style=\"margin:0px;;white-space:pre;overflow-x:auto;line-height:normal;font-family:Menlo,'DejaVu Sans Mono',consolas,'Courier New',monospace\">              <span style=\"color: #00ffff; text-decoration-color: #00ffff; font-weight: bold; font-style: italic\">       + --&gt; </span><span style=\"color: #00ffff; text-decoration-color: #00ffff; font-weight: bold; font-style: italic; text-decoration: underline\">Asian Supply Chain Manager</span>\n",
       "</pre>\n"
      ]
     },
     "metadata": {},
     "output_type": "display_data"
    },
    {
     "data": {
      "text/plain": [
       "              \u001B[1;3;38;5;51m       + --> \u001B[0m\u001B[1;3;38;5;51m...\u001B[0m\u001B[1;3;38;5;51mothers\u001B[0m\u001B[1;3;38;5;51m...\u001B[0m\n"
      ],
      "text/html": [
       "<pre style=\"margin:0px;;white-space:pre;overflow-x:auto;line-height:normal;font-family:Menlo,'DejaVu Sans Mono',consolas,'Courier New',monospace\">              <span style=\"color: #00ffff; text-decoration-color: #00ffff; font-weight: bold; font-style: italic\">       + --&gt; ...others...</span>\n",
       "</pre>\n"
      ]
     },
     "metadata": {},
     "output_type": "display_data"
    },
    {
     "data": {
      "text/plain": [
       "\u001B[1;4;38;5;40mNorth American Supply Chain Manager\u001B[0m\u001B[1;38;5;40m acts: \u001B[0m\u001B[1;38;5;40m[\u001B[0m\u001B[1;38;5;40mTALK\u001B[0m\u001B[1;38;5;40m]\u001B[0m\u001B[1;38;5;40m \u001B[0m\n",
       "\u001B[1;38;5;40m                                         > Tomorrow at \u001B[0m\u001B[1;38;5;40m10\u001B[0m\u001B[1;38;5;40m AM works perfectly for me, Elena. I'm\u001B[0m\n",
       "\u001B[1;38;5;40m                                         > looking forward to our discussion!\u001B[0m\n"
      ],
      "text/html": [
       "<pre style=\"margin:0px;;white-space:pre;overflow-x:auto;line-height:normal;font-family:Menlo,'DejaVu Sans Mono',consolas,'Courier New',monospace\"><span style=\"color: #00d700; text-decoration-color: #00d700; font-weight: bold; text-decoration: underline\">North American Supply Chain Manager</span><span style=\"color: #00d700; text-decoration-color: #00d700; font-weight: bold\"> acts: [TALK] </span>\n",
       "<span style=\"color: #00d700; text-decoration-color: #00d700; font-weight: bold\">                                         &gt; Tomorrow at </span><span style=\"color: #00d700; text-decoration-color: #00d700; font-weight: bold\">10</span><span style=\"color: #00d700; text-decoration-color: #00d700; font-weight: bold\"> AM works perfectly for me, Elena. I'm</span>\n",
       "<span style=\"color: #00d700; text-decoration-color: #00d700; font-weight: bold\">                                         &gt; looking forward to our discussion!</span>\n",
       "</pre>\n"
      ]
     },
     "metadata": {},
     "output_type": "display_data"
    },
    {
     "data": {
      "text/plain": [
       "\u001B[4;32mNorth American Supply Chain Manager\u001B[0m\u001B[32m acts: \u001B[0m\u001B[1;32m[\u001B[0m\u001B[32mTHINK\u001B[0m\u001B[1;32m]\u001B[0m\u001B[32m \u001B[0m\n",
       "\u001B[32m                                         > I need to prepare for the meeting tomorrow. I should\u001B[0m\n",
       "\u001B[32m                                         > gather all relevant data and insights regarding the\u001B[0m\n",
       "\u001B[32m                                         > simulation model and the supply chain strategies we\u001B[0m\n",
       "\u001B[32m                                         > discussed.\u001B[0m\n"
      ],
      "text/html": [
       "<pre style=\"margin:0px;;white-space:pre;overflow-x:auto;line-height:normal;font-family:Menlo,'DejaVu Sans Mono',consolas,'Courier New',monospace\"><span style=\"color: #008000; text-decoration-color: #008000; text-decoration: underline\">North American Supply Chain Manager</span><span style=\"color: #008000; text-decoration-color: #008000\"> acts: </span><span style=\"color: #008000; text-decoration-color: #008000; font-weight: bold\">[</span><span style=\"color: #008000; text-decoration-color: #008000\">THINK</span><span style=\"color: #008000; text-decoration-color: #008000; font-weight: bold\">]</span><span style=\"color: #008000; text-decoration-color: #008000\"> </span>\n",
       "<span style=\"color: #008000; text-decoration-color: #008000\">                                         &gt; I need to prepare for the meeting tomorrow. I should</span>\n",
       "<span style=\"color: #008000; text-decoration-color: #008000\">                                         &gt; gather all relevant data and insights regarding the</span>\n",
       "<span style=\"color: #008000; text-decoration-color: #008000\">                                         &gt; simulation model and the supply chain strategies we</span>\n",
       "<span style=\"color: #008000; text-decoration-color: #008000\">                                         &gt; discussed.</span>\n",
       "</pre>\n"
      ]
     },
     "metadata": {},
     "output_type": "display_data"
    },
    {
     "data": {
      "text/plain": [
       "\u001B[4;38;5;252mNorth American Supply Chain Manager\u001B[0m\u001B[38;5;252m acts: \u001B[0m\u001B[1;38;5;252m[\u001B[0m\u001B[38;5;252mDONE\u001B[0m\u001B[1;38;5;252m]\u001B[0m\u001B[38;5;252m \u001B[0m\n",
       "\n"
      ],
      "text/html": [
       "<pre style=\"margin:0px;;white-space:pre;overflow-x:auto;line-height:normal;font-family:Menlo,'DejaVu Sans Mono',consolas,'Courier New',monospace\"><span style=\"color: #d0d0d0; text-decoration-color: #d0d0d0; text-decoration: underline\">North American Supply Chain Manager</span><span style=\"color: #d0d0d0; text-decoration-color: #d0d0d0\"> acts: </span><span style=\"color: #d0d0d0; text-decoration-color: #d0d0d0; font-weight: bold\">[</span><span style=\"color: #d0d0d0; text-decoration-color: #d0d0d0\">DONE</span><span style=\"color: #d0d0d0; text-decoration-color: #d0d0d0; font-weight: bold\">]</span><span style=\"color: #d0d0d0; text-decoration-color: #d0d0d0\"> </span>\n",
       "\n",
       "</pre>\n"
      ]
     },
     "metadata": {},
     "output_type": "display_data"
    },
    {
     "data": {
      "text/plain": [
       "\u001B[1;3;4;38;5;51mNorth American Supply Chain Manager\u001B[0m\u001B[1;3;38;5;51m --> \u001B[0m\u001B[1;3;4;38;5;51mElena Martinez\u001B[0m\u001B[1;3;38;5;51m: \u001B[0m\u001B[1;3;38;5;51m[\u001B[0m\u001B[1;3;38;5;51mCONVERSATION\u001B[0m\u001B[1;3;38;5;51m]\u001B[0m\u001B[1;3;38;5;51m \u001B[0m\n",
       "\u001B[1;3;38;5;51m                                         > Tomorrow at \u001B[0m\u001B[1;3;38;5;51m10\u001B[0m\u001B[1;3;38;5;51m AM works perfectly for me, Elena. I'm\u001B[0m\n",
       "\u001B[1;3;38;5;51m                                         > looking forward to our discussion!\u001B[0m\n"
      ],
      "text/html": [
       "<pre style=\"margin:0px;;white-space:pre;overflow-x:auto;line-height:normal;font-family:Menlo,'DejaVu Sans Mono',consolas,'Courier New',monospace\"><span style=\"color: #00ffff; text-decoration-color: #00ffff; font-weight: bold; font-style: italic; text-decoration: underline\">North American Supply Chain Manager</span><span style=\"color: #00ffff; text-decoration-color: #00ffff; font-weight: bold; font-style: italic\"> --&gt; </span><span style=\"color: #00ffff; text-decoration-color: #00ffff; font-weight: bold; font-style: italic; text-decoration: underline\">Elena Martinez</span><span style=\"color: #00ffff; text-decoration-color: #00ffff; font-weight: bold; font-style: italic\">: [CONVERSATION] </span>\n",
       "<span style=\"color: #00ffff; text-decoration-color: #00ffff; font-weight: bold; font-style: italic\">                                         &gt; Tomorrow at 10 AM works perfectly for me, Elena. I'm</span>\n",
       "<span style=\"color: #00ffff; text-decoration-color: #00ffff; font-weight: bold; font-style: italic\">                                         &gt; looking forward to our discussion!</span>\n",
       "</pre>\n"
      ]
     },
     "metadata": {},
     "output_type": "display_data"
    },
    {
     "data": {
      "text/plain": [
       "\u001B[1;4;38;5;40mEuropean Supply Chain Manager\u001B[0m\u001B[1;38;5;40m acts: \u001B[0m\u001B[1;38;5;40m[\u001B[0m\u001B[1;38;5;40mTALK\u001B[0m\u001B[1;38;5;40m]\u001B[0m\u001B[1;38;5;40m \u001B[0m\n",
       "\u001B[1;38;5;40m                                   > Tomorrow at \u001B[0m\u001B[1;38;5;40m10\u001B[0m\u001B[1;38;5;40m AM works for me! I'm looking forward to\u001B[0m\n",
       "\u001B[1;38;5;40m                                   > discussing the simulation model with everyone.\u001B[0m\n"
      ],
      "text/html": [
       "<pre style=\"margin:0px;;white-space:pre;overflow-x:auto;line-height:normal;font-family:Menlo,'DejaVu Sans Mono',consolas,'Courier New',monospace\"><span style=\"color: #00d700; text-decoration-color: #00d700; font-weight: bold; text-decoration: underline\">European Supply Chain Manager</span><span style=\"color: #00d700; text-decoration-color: #00d700; font-weight: bold\"> acts: [TALK] </span>\n",
       "<span style=\"color: #00d700; text-decoration-color: #00d700; font-weight: bold\">                                   &gt; Tomorrow at </span><span style=\"color: #00d700; text-decoration-color: #00d700; font-weight: bold\">10</span><span style=\"color: #00d700; text-decoration-color: #00d700; font-weight: bold\"> AM works for me! I'm looking forward to</span>\n",
       "<span style=\"color: #00d700; text-decoration-color: #00d700; font-weight: bold\">                                   &gt; discussing the simulation model with everyone.</span>\n",
       "</pre>\n"
      ]
     },
     "metadata": {},
     "output_type": "display_data"
    },
    {
     "data": {
      "text/plain": [
       "\u001B[4;38;5;252mEuropean Supply Chain Manager\u001B[0m\u001B[38;5;252m acts: \u001B[0m\u001B[1;38;5;252m[\u001B[0m\u001B[38;5;252mDONE\u001B[0m\u001B[1;38;5;252m]\u001B[0m\u001B[38;5;252m \u001B[0m\n",
       "\n"
      ],
      "text/html": [
       "<pre style=\"margin:0px;;white-space:pre;overflow-x:auto;line-height:normal;font-family:Menlo,'DejaVu Sans Mono',consolas,'Courier New',monospace\"><span style=\"color: #d0d0d0; text-decoration-color: #d0d0d0; text-decoration: underline\">European Supply Chain Manager</span><span style=\"color: #d0d0d0; text-decoration-color: #d0d0d0\"> acts: </span><span style=\"color: #d0d0d0; text-decoration-color: #d0d0d0; font-weight: bold\">[</span><span style=\"color: #d0d0d0; text-decoration-color: #d0d0d0\">DONE</span><span style=\"color: #d0d0d0; text-decoration-color: #d0d0d0; font-weight: bold\">]</span><span style=\"color: #d0d0d0; text-decoration-color: #d0d0d0\"> </span>\n",
       "\n",
       "</pre>\n"
      ]
     },
     "metadata": {},
     "output_type": "display_data"
    },
    {
     "data": {
      "text/plain": [
       "\u001B[1;3;4;38;5;51mEuropean Supply Chain Manager\u001B[0m\u001B[1;3;38;5;51m --> \u001B[0m\u001B[1;3;4;38;5;51mElena Martinez\u001B[0m\u001B[1;3;38;5;51m: \u001B[0m\u001B[1;3;38;5;51m[\u001B[0m\u001B[1;3;38;5;51mCONVERSATION\u001B[0m\u001B[1;3;38;5;51m]\u001B[0m\u001B[1;3;38;5;51m \u001B[0m\n",
       "\u001B[1;3;38;5;51m                                   > Tomorrow at \u001B[0m\u001B[1;3;38;5;51m10\u001B[0m\u001B[1;3;38;5;51m AM works for me! I'm looking forward to\u001B[0m\n",
       "\u001B[1;3;38;5;51m                                   > discussing the simulation model with everyone.\u001B[0m\n"
      ],
      "text/html": [
       "<pre style=\"margin:0px;;white-space:pre;overflow-x:auto;line-height:normal;font-family:Menlo,'DejaVu Sans Mono',consolas,'Courier New',monospace\"><span style=\"color: #00ffff; text-decoration-color: #00ffff; font-weight: bold; font-style: italic; text-decoration: underline\">European Supply Chain Manager</span><span style=\"color: #00ffff; text-decoration-color: #00ffff; font-weight: bold; font-style: italic\"> --&gt; </span><span style=\"color: #00ffff; text-decoration-color: #00ffff; font-weight: bold; font-style: italic; text-decoration: underline\">Elena Martinez</span><span style=\"color: #00ffff; text-decoration-color: #00ffff; font-weight: bold; font-style: italic\">: [CONVERSATION] </span>\n",
       "<span style=\"color: #00ffff; text-decoration-color: #00ffff; font-weight: bold; font-style: italic\">                                   &gt; Tomorrow at 10 AM works for me! I'm looking forward to</span>\n",
       "<span style=\"color: #00ffff; text-decoration-color: #00ffff; font-weight: bold; font-style: italic\">                                   &gt; discussing the simulation model with everyone.</span>\n",
       "</pre>\n"
      ]
     },
     "metadata": {},
     "output_type": "display_data"
    },
    {
     "data": {
      "text/plain": [
       "\u001B[1;4;38;5;40mAsian Supply Chain Manager\u001B[0m\u001B[1;38;5;40m acts: \u001B[0m\u001B[1;38;5;40m[\u001B[0m\u001B[1;38;5;40mTALK\u001B[0m\u001B[1;38;5;40m]\u001B[0m\u001B[1;38;5;40m \u001B[0m\n",
       "\u001B[1;38;5;40m                                > Tomorrow at \u001B[0m\u001B[1;38;5;40m10\u001B[0m\u001B[1;38;5;40m AM works perfectly for me! I'm looking forward to\u001B[0m\n",
       "\u001B[1;38;5;40m                                > our discussion on the simulation model.\u001B[0m\n"
      ],
      "text/html": [
       "<pre style=\"margin:0px;;white-space:pre;overflow-x:auto;line-height:normal;font-family:Menlo,'DejaVu Sans Mono',consolas,'Courier New',monospace\"><span style=\"color: #00d700; text-decoration-color: #00d700; font-weight: bold; text-decoration: underline\">Asian Supply Chain Manager</span><span style=\"color: #00d700; text-decoration-color: #00d700; font-weight: bold\"> acts: [TALK] </span>\n",
       "<span style=\"color: #00d700; text-decoration-color: #00d700; font-weight: bold\">                                &gt; Tomorrow at </span><span style=\"color: #00d700; text-decoration-color: #00d700; font-weight: bold\">10</span><span style=\"color: #00d700; text-decoration-color: #00d700; font-weight: bold\"> AM works perfectly for me! I'm looking forward to</span>\n",
       "<span style=\"color: #00d700; text-decoration-color: #00d700; font-weight: bold\">                                &gt; our discussion on the simulation model.</span>\n",
       "</pre>\n"
      ]
     },
     "metadata": {},
     "output_type": "display_data"
    },
    {
     "data": {
      "text/plain": [
       "\u001B[4;38;5;252mAsian Supply Chain Manager\u001B[0m\u001B[38;5;252m acts: \u001B[0m\u001B[1;38;5;252m[\u001B[0m\u001B[38;5;252mDONE\u001B[0m\u001B[1;38;5;252m]\u001B[0m\u001B[38;5;252m \u001B[0m\n",
       "\n"
      ],
      "text/html": [
       "<pre style=\"margin:0px;;white-space:pre;overflow-x:auto;line-height:normal;font-family:Menlo,'DejaVu Sans Mono',consolas,'Courier New',monospace\"><span style=\"color: #d0d0d0; text-decoration-color: #d0d0d0; text-decoration: underline\">Asian Supply Chain Manager</span><span style=\"color: #d0d0d0; text-decoration-color: #d0d0d0\"> acts: </span><span style=\"color: #d0d0d0; text-decoration-color: #d0d0d0; font-weight: bold\">[</span><span style=\"color: #d0d0d0; text-decoration-color: #d0d0d0\">DONE</span><span style=\"color: #d0d0d0; text-decoration-color: #d0d0d0; font-weight: bold\">]</span><span style=\"color: #d0d0d0; text-decoration-color: #d0d0d0\"> </span>\n",
       "\n",
       "</pre>\n"
      ]
     },
     "metadata": {},
     "output_type": "display_data"
    },
    {
     "data": {
      "text/plain": [
       "\u001B[1;3;4;38;5;51mAsian Supply Chain Manager\u001B[0m\u001B[1;3;38;5;51m --> \u001B[0m\u001B[1;3;4;38;5;51mElena Martinez\u001B[0m\u001B[1;3;38;5;51m: \u001B[0m\u001B[1;3;38;5;51m[\u001B[0m\u001B[1;3;38;5;51mCONVERSATION\u001B[0m\u001B[1;3;38;5;51m]\u001B[0m\u001B[1;3;38;5;51m \u001B[0m\n",
       "\u001B[1;3;38;5;51m                                > Tomorrow at \u001B[0m\u001B[1;3;38;5;51m10\u001B[0m\u001B[1;3;38;5;51m AM works perfectly for me! I'm looking forward to\u001B[0m\n",
       "\u001B[1;3;38;5;51m                                > our discussion on the simulation model.\u001B[0m\n"
      ],
      "text/html": [
       "<pre style=\"margin:0px;;white-space:pre;overflow-x:auto;line-height:normal;font-family:Menlo,'DejaVu Sans Mono',consolas,'Courier New',monospace\"><span style=\"color: #00ffff; text-decoration-color: #00ffff; font-weight: bold; font-style: italic; text-decoration: underline\">Asian Supply Chain Manager</span><span style=\"color: #00ffff; text-decoration-color: #00ffff; font-weight: bold; font-style: italic\"> --&gt; </span><span style=\"color: #00ffff; text-decoration-color: #00ffff; font-weight: bold; font-style: italic; text-decoration: underline\">Elena Martinez</span><span style=\"color: #00ffff; text-decoration-color: #00ffff; font-weight: bold; font-style: italic\">: [CONVERSATION] </span>\n",
       "<span style=\"color: #00ffff; text-decoration-color: #00ffff; font-weight: bold; font-style: italic\">                                &gt; Tomorrow at 10 AM works perfectly for me! I'm looking forward to</span>\n",
       "<span style=\"color: #00ffff; text-decoration-color: #00ffff; font-weight: bold; font-style: italic\">                                &gt; our discussion on the simulation model.</span>\n",
       "</pre>\n"
      ]
     },
     "metadata": {},
     "output_type": "display_data"
    },
    {
     "data": {
      "text/plain": [
       "\u001B[1;4;38;5;40mSupplier A\u001B[0m\u001B[1;38;5;40m acts: \u001B[0m\u001B[1;38;5;40m[\u001B[0m\u001B[1;38;5;40mTALK\u001B[0m\u001B[1;38;5;40m]\u001B[0m\u001B[1;38;5;40m \u001B[0m\n",
       "\u001B[1;38;5;40m                > Tomorrow at \u001B[0m\u001B[1;38;5;40m10\u001B[0m\u001B[1;38;5;40m AM works perfectly for me, Elena! I'm looking forward to our\u001B[0m\n",
       "\u001B[1;38;5;40m                > discussion.\u001B[0m\n"
      ],
      "text/html": [
       "<pre style=\"margin:0px;;white-space:pre;overflow-x:auto;line-height:normal;font-family:Menlo,'DejaVu Sans Mono',consolas,'Courier New',monospace\"><span style=\"color: #00d700; text-decoration-color: #00d700; font-weight: bold; text-decoration: underline\">Supplier A</span><span style=\"color: #00d700; text-decoration-color: #00d700; font-weight: bold\"> acts: [TALK] </span>\n",
       "<span style=\"color: #00d700; text-decoration-color: #00d700; font-weight: bold\">                &gt; Tomorrow at </span><span style=\"color: #00d700; text-decoration-color: #00d700; font-weight: bold\">10</span><span style=\"color: #00d700; text-decoration-color: #00d700; font-weight: bold\"> AM works perfectly for me, Elena! I'm looking forward to our</span>\n",
       "<span style=\"color: #00d700; text-decoration-color: #00d700; font-weight: bold\">                &gt; discussion.</span>\n",
       "</pre>\n"
      ]
     },
     "metadata": {},
     "output_type": "display_data"
    },
    {
     "data": {
      "text/plain": [
       "\u001B[4;38;5;252mSupplier A\u001B[0m\u001B[38;5;252m acts: \u001B[0m\u001B[1;38;5;252m[\u001B[0m\u001B[38;5;252mDONE\u001B[0m\u001B[1;38;5;252m]\u001B[0m\u001B[38;5;252m \u001B[0m\n",
       "\n"
      ],
      "text/html": [
       "<pre style=\"margin:0px;;white-space:pre;overflow-x:auto;line-height:normal;font-family:Menlo,'DejaVu Sans Mono',consolas,'Courier New',monospace\"><span style=\"color: #d0d0d0; text-decoration-color: #d0d0d0; text-decoration: underline\">Supplier A</span><span style=\"color: #d0d0d0; text-decoration-color: #d0d0d0\"> acts: </span><span style=\"color: #d0d0d0; text-decoration-color: #d0d0d0; font-weight: bold\">[</span><span style=\"color: #d0d0d0; text-decoration-color: #d0d0d0\">DONE</span><span style=\"color: #d0d0d0; text-decoration-color: #d0d0d0; font-weight: bold\">]</span><span style=\"color: #d0d0d0; text-decoration-color: #d0d0d0\"> </span>\n",
       "\n",
       "</pre>\n"
      ]
     },
     "metadata": {},
     "output_type": "display_data"
    },
    {
     "data": {
      "text/plain": [
       "\u001B[1;3;4;38;5;51mSupplier A\u001B[0m\u001B[1;3;38;5;51m --> \u001B[0m\u001B[1;3;4;38;5;51mElena Martinez\u001B[0m\u001B[1;3;38;5;51m: \u001B[0m\u001B[1;3;38;5;51m[\u001B[0m\u001B[1;3;38;5;51mCONVERSATION\u001B[0m\u001B[1;3;38;5;51m]\u001B[0m\u001B[1;3;38;5;51m \u001B[0m\n",
       "\u001B[1;3;38;5;51m                > Tomorrow at \u001B[0m\u001B[1;3;38;5;51m10\u001B[0m\u001B[1;3;38;5;51m AM works perfectly for me, Elena! I'm looking forward to our\u001B[0m\n",
       "\u001B[1;3;38;5;51m                > discussion.\u001B[0m\n"
      ],
      "text/html": [
       "<pre style=\"margin:0px;;white-space:pre;overflow-x:auto;line-height:normal;font-family:Menlo,'DejaVu Sans Mono',consolas,'Courier New',monospace\"><span style=\"color: #00ffff; text-decoration-color: #00ffff; font-weight: bold; font-style: italic; text-decoration: underline\">Supplier A</span><span style=\"color: #00ffff; text-decoration-color: #00ffff; font-weight: bold; font-style: italic\"> --&gt; </span><span style=\"color: #00ffff; text-decoration-color: #00ffff; font-weight: bold; font-style: italic; text-decoration: underline\">Elena Martinez</span><span style=\"color: #00ffff; text-decoration-color: #00ffff; font-weight: bold; font-style: italic\">: [CONVERSATION] </span>\n",
       "<span style=\"color: #00ffff; text-decoration-color: #00ffff; font-weight: bold; font-style: italic\">                &gt; Tomorrow at 10 AM works perfectly for me, Elena! I'm looking forward to our</span>\n",
       "<span style=\"color: #00ffff; text-decoration-color: #00ffff; font-weight: bold; font-style: italic\">                &gt; discussion.</span>\n",
       "</pre>\n"
      ]
     },
     "metadata": {},
     "output_type": "display_data"
    },
    {
     "data": {
      "text/plain": [
       "\u001B[4;32mOcean Freight Carrier A\u001B[0m\u001B[32m acts: \u001B[0m\u001B[1;32m[\u001B[0m\u001B[32mTHINK\u001B[0m\u001B[1;32m]\u001B[0m\u001B[32m \u001B[0m\n",
       "\u001B[32m                             > Meeting tomorrow at \u001B[0m\u001B[1;32m10\u001B[0m\u001B[32m AM sounds great! I need to prepare my thoughts\u001B[0m\n",
       "\u001B[32m                             > on the simulation model before then.\u001B[0m\n"
      ],
      "text/html": [
       "<pre style=\"margin:0px;;white-space:pre;overflow-x:auto;line-height:normal;font-family:Menlo,'DejaVu Sans Mono',consolas,'Courier New',monospace\"><span style=\"color: #008000; text-decoration-color: #008000; text-decoration: underline\">Ocean Freight Carrier A</span><span style=\"color: #008000; text-decoration-color: #008000\"> acts: </span><span style=\"color: #008000; text-decoration-color: #008000; font-weight: bold\">[</span><span style=\"color: #008000; text-decoration-color: #008000\">THINK</span><span style=\"color: #008000; text-decoration-color: #008000; font-weight: bold\">]</span><span style=\"color: #008000; text-decoration-color: #008000\"> </span>\n",
       "<span style=\"color: #008000; text-decoration-color: #008000\">                             &gt; Meeting tomorrow at </span><span style=\"color: #008000; text-decoration-color: #008000; font-weight: bold\">10</span><span style=\"color: #008000; text-decoration-color: #008000\"> AM sounds great! I need to prepare my thoughts</span>\n",
       "<span style=\"color: #008000; text-decoration-color: #008000\">                             &gt; on the simulation model before then.</span>\n",
       "</pre>\n"
      ]
     },
     "metadata": {},
     "output_type": "display_data"
    },
    {
     "data": {
      "text/plain": [
       "\u001B[1;4;38;5;40mOcean Freight Carrier A\u001B[0m\u001B[1;38;5;40m acts: \u001B[0m\u001B[1;38;5;40m[\u001B[0m\u001B[1;38;5;40mTALK\u001B[0m\u001B[1;38;5;40m]\u001B[0m\u001B[1;38;5;40m \u001B[0m\n",
       "\u001B[1;38;5;40m                             > Tomorrow at \u001B[0m\u001B[1;38;5;40m10\u001B[0m\u001B[1;38;5;40m AM works perfectly for me, Elena! I'm looking forward\u001B[0m\n",
       "\u001B[1;38;5;40m                             > to our discussion on the simulation model.\u001B[0m\n"
      ],
      "text/html": [
       "<pre style=\"margin:0px;;white-space:pre;overflow-x:auto;line-height:normal;font-family:Menlo,'DejaVu Sans Mono',consolas,'Courier New',monospace\"><span style=\"color: #00d700; text-decoration-color: #00d700; font-weight: bold; text-decoration: underline\">Ocean Freight Carrier A</span><span style=\"color: #00d700; text-decoration-color: #00d700; font-weight: bold\"> acts: [TALK] </span>\n",
       "<span style=\"color: #00d700; text-decoration-color: #00d700; font-weight: bold\">                             &gt; Tomorrow at </span><span style=\"color: #00d700; text-decoration-color: #00d700; font-weight: bold\">10</span><span style=\"color: #00d700; text-decoration-color: #00d700; font-weight: bold\"> AM works perfectly for me, Elena! I'm looking forward</span>\n",
       "<span style=\"color: #00d700; text-decoration-color: #00d700; font-weight: bold\">                             &gt; to our discussion on the simulation model.</span>\n",
       "</pre>\n"
      ]
     },
     "metadata": {},
     "output_type": "display_data"
    },
    {
     "data": {
      "text/plain": [
       "\u001B[4;38;5;252mOcean Freight Carrier A\u001B[0m\u001B[38;5;252m acts: \u001B[0m\u001B[1;38;5;252m[\u001B[0m\u001B[38;5;252mDONE\u001B[0m\u001B[1;38;5;252m]\u001B[0m\u001B[38;5;252m \u001B[0m\n",
       "\n"
      ],
      "text/html": [
       "<pre style=\"margin:0px;;white-space:pre;overflow-x:auto;line-height:normal;font-family:Menlo,'DejaVu Sans Mono',consolas,'Courier New',monospace\"><span style=\"color: #d0d0d0; text-decoration-color: #d0d0d0; text-decoration: underline\">Ocean Freight Carrier A</span><span style=\"color: #d0d0d0; text-decoration-color: #d0d0d0\"> acts: </span><span style=\"color: #d0d0d0; text-decoration-color: #d0d0d0; font-weight: bold\">[</span><span style=\"color: #d0d0d0; text-decoration-color: #d0d0d0\">DONE</span><span style=\"color: #d0d0d0; text-decoration-color: #d0d0d0; font-weight: bold\">]</span><span style=\"color: #d0d0d0; text-decoration-color: #d0d0d0\"> </span>\n",
       "\n",
       "</pre>\n"
      ]
     },
     "metadata": {},
     "output_type": "display_data"
    },
    {
     "data": {
      "text/plain": [
       "\u001B[1;3;4;38;5;51mOcean Freight Carrier A\u001B[0m\u001B[1;3;38;5;51m --> \u001B[0m\u001B[1;3;4;38;5;51mElena Martinez\u001B[0m\u001B[1;3;38;5;51m: \u001B[0m\u001B[1;3;38;5;51m[\u001B[0m\u001B[1;3;38;5;51mCONVERSATION\u001B[0m\u001B[1;3;38;5;51m]\u001B[0m\u001B[1;3;38;5;51m \u001B[0m\n",
       "\u001B[1;3;38;5;51m                             > Tomorrow at \u001B[0m\u001B[1;3;38;5;51m10\u001B[0m\u001B[1;3;38;5;51m AM works perfectly for me, Elena! I'm looking forward\u001B[0m\n",
       "\u001B[1;3;38;5;51m                             > to our discussion on the simulation model.\u001B[0m\n"
      ],
      "text/html": [
       "<pre style=\"margin:0px;;white-space:pre;overflow-x:auto;line-height:normal;font-family:Menlo,'DejaVu Sans Mono',consolas,'Courier New',monospace\"><span style=\"color: #00ffff; text-decoration-color: #00ffff; font-weight: bold; font-style: italic; text-decoration: underline\">Ocean Freight Carrier A</span><span style=\"color: #00ffff; text-decoration-color: #00ffff; font-weight: bold; font-style: italic\"> --&gt; </span><span style=\"color: #00ffff; text-decoration-color: #00ffff; font-weight: bold; font-style: italic; text-decoration: underline\">Elena Martinez</span><span style=\"color: #00ffff; text-decoration-color: #00ffff; font-weight: bold; font-style: italic\">: [CONVERSATION] </span>\n",
       "<span style=\"color: #00ffff; text-decoration-color: #00ffff; font-weight: bold; font-style: italic\">                             &gt; Tomorrow at 10 AM works perfectly for me, Elena! I'm looking forward</span>\n",
       "<span style=\"color: #00ffff; text-decoration-color: #00ffff; font-weight: bold; font-style: italic\">                             &gt; to our discussion on the simulation model.</span>\n",
       "</pre>\n"
      ]
     },
     "metadata": {},
     "output_type": "display_data"
    },
    {
     "data": {
      "text/plain": [
       "\u001B[92m──────────────────────────────────────── \u001B[0mGlobal Supply Network step \u001B[1;36m3\u001B[0m of \u001B[1;36m5\u001B[0m\u001B[92m ────────────────────────────────────────\u001B[0m\n"
      ],
      "text/html": [
       "<pre style=\"margin:0px;;white-space:pre;overflow-x:auto;line-height:normal;font-family:Menlo,'DejaVu Sans Mono',consolas,'Courier New',monospace\"><span style=\"color: #00ff00; text-decoration-color: #00ff00\">──────────────────────────────────────── </span>Global Supply Network step <span style=\"color: #008080; text-decoration-color: #008080; font-weight: bold\">3</span> of <span style=\"color: #008080; text-decoration-color: #008080; font-weight: bold\">5</span><span style=\"color: #00ff00; text-decoration-color: #00ff00\"> ────────────────────────────────────────</span>\n",
       "</pre>\n"
      ]
     },
     "metadata": {},
     "output_type": "display_data"
    },
    {
     "data": {
      "text/plain": [
       "\u001B[4;32mElena Martinez\u001B[0m\u001B[32m acts: \u001B[0m\u001B[1;32m[\u001B[0m\u001B[32mTHINK\u001B[0m\u001B[1;32m]\u001B[0m\u001B[32m \u001B[0m\n",
       "\u001B[32m                    > Everyone has confirmed that tomorrow at \u001B[0m\u001B[1;32m10\u001B[0m\u001B[32m AM works for them. I need to\u001B[0m\n",
       "\u001B[32m                    > prepare an agenda for the meeting to ensure we cover all important aspects of\u001B[0m\n",
       "\u001B[32m                    > the simulation model.\u001B[0m\n"
      ],
      "text/html": [
       "<pre style=\"margin:0px;;white-space:pre;overflow-x:auto;line-height:normal;font-family:Menlo,'DejaVu Sans Mono',consolas,'Courier New',monospace\"><span style=\"color: #008000; text-decoration-color: #008000; text-decoration: underline\">Elena Martinez</span><span style=\"color: #008000; text-decoration-color: #008000\"> acts: </span><span style=\"color: #008000; text-decoration-color: #008000; font-weight: bold\">[</span><span style=\"color: #008000; text-decoration-color: #008000\">THINK</span><span style=\"color: #008000; text-decoration-color: #008000; font-weight: bold\">]</span><span style=\"color: #008000; text-decoration-color: #008000\"> </span>\n",
       "<span style=\"color: #008000; text-decoration-color: #008000\">                    &gt; Everyone has confirmed that tomorrow at </span><span style=\"color: #008000; text-decoration-color: #008000; font-weight: bold\">10</span><span style=\"color: #008000; text-decoration-color: #008000\"> AM works for them. I need to</span>\n",
       "<span style=\"color: #008000; text-decoration-color: #008000\">                    &gt; prepare an agenda for the meeting to ensure we cover all important aspects of</span>\n",
       "<span style=\"color: #008000; text-decoration-color: #008000\">                    &gt; the simulation model.</span>\n",
       "</pre>\n"
      ]
     },
     "metadata": {},
     "output_type": "display_data"
    },
    {
     "data": {
      "text/plain": [
       "\u001B[4;32mElena Martinez\u001B[0m\u001B[32m acts: \u001B[0m\u001B[1;32m[\u001B[0m\u001B[32mTHINK\u001B[0m\u001B[1;32m]\u001B[0m\u001B[32m \u001B[0m\n",
       "\u001B[32m                    > I need to outline the key points we should discuss in the meeting. This\u001B[0m\n",
       "\u001B[32m                    > includes the objectives of the simulation model, the hypotheses we want to\u001B[0m\n",
       "\u001B[32m                    > test, and the roles of each participant in the discussion.\u001B[0m\n"
      ],
      "text/html": [
       "<pre style=\"margin:0px;;white-space:pre;overflow-x:auto;line-height:normal;font-family:Menlo,'DejaVu Sans Mono',consolas,'Courier New',monospace\"><span style=\"color: #008000; text-decoration-color: #008000; text-decoration: underline\">Elena Martinez</span><span style=\"color: #008000; text-decoration-color: #008000\"> acts: </span><span style=\"color: #008000; text-decoration-color: #008000; font-weight: bold\">[</span><span style=\"color: #008000; text-decoration-color: #008000\">THINK</span><span style=\"color: #008000; text-decoration-color: #008000; font-weight: bold\">]</span><span style=\"color: #008000; text-decoration-color: #008000\"> </span>\n",
       "<span style=\"color: #008000; text-decoration-color: #008000\">                    &gt; I need to outline the key points we should discuss in the meeting. This</span>\n",
       "<span style=\"color: #008000; text-decoration-color: #008000\">                    &gt; includes the objectives of the simulation model, the hypotheses we want to</span>\n",
       "<span style=\"color: #008000; text-decoration-color: #008000\">                    &gt; test, and the roles of each participant in the discussion.</span>\n",
       "</pre>\n"
      ]
     },
     "metadata": {},
     "output_type": "display_data"
    },
    {
     "data": {
      "text/plain": [
       "\u001B[1;4;38;5;40mElena Martinez\u001B[0m\u001B[1;38;5;40m acts: \u001B[0m\u001B[1;38;5;40m[\u001B[0m\u001B[1;38;5;40mTALK\u001B[0m\u001B[1;38;5;40m]\u001B[0m\u001B[1;38;5;40m \u001B[0m\n",
       "\u001B[1;38;5;40m                    > I will prepare an agenda for our meeting tomorrow. I think we should cover the\u001B[0m\n",
       "\u001B[1;38;5;40m                    > objectives of the simulation model, the hypotheses we want to test, and how\u001B[0m\n",
       "\u001B[1;38;5;40m                    > each of you can contribute to the discussion. Does anyone have additional\u001B[0m\n",
       "\u001B[1;38;5;40m                    > topics they would like to include?\u001B[0m\n"
      ],
      "text/html": [
       "<pre style=\"margin:0px;;white-space:pre;overflow-x:auto;line-height:normal;font-family:Menlo,'DejaVu Sans Mono',consolas,'Courier New',monospace\"><span style=\"color: #00d700; text-decoration-color: #00d700; font-weight: bold; text-decoration: underline\">Elena Martinez</span><span style=\"color: #00d700; text-decoration-color: #00d700; font-weight: bold\"> acts: [TALK] </span>\n",
       "<span style=\"color: #00d700; text-decoration-color: #00d700; font-weight: bold\">                    &gt; I will prepare an agenda for our meeting tomorrow. I think we should cover the</span>\n",
       "<span style=\"color: #00d700; text-decoration-color: #00d700; font-weight: bold\">                    &gt; objectives of the simulation model, the hypotheses we want to test, and how</span>\n",
       "<span style=\"color: #00d700; text-decoration-color: #00d700; font-weight: bold\">                    &gt; each of you can contribute to the discussion. Does anyone have additional</span>\n",
       "<span style=\"color: #00d700; text-decoration-color: #00d700; font-weight: bold\">                    &gt; topics they would like to include?</span>\n",
       "</pre>\n"
      ]
     },
     "metadata": {},
     "output_type": "display_data"
    },
    {
     "data": {
      "text/plain": [
       "\u001B[4;38;5;252mElena Martinez\u001B[0m\u001B[38;5;252m acts: \u001B[0m\u001B[1;38;5;252m[\u001B[0m\u001B[38;5;252mDONE\u001B[0m\u001B[1;38;5;252m]\u001B[0m\u001B[38;5;252m \u001B[0m\n",
       "\n"
      ],
      "text/html": [
       "<pre style=\"margin:0px;;white-space:pre;overflow-x:auto;line-height:normal;font-family:Menlo,'DejaVu Sans Mono',consolas,'Courier New',monospace\"><span style=\"color: #d0d0d0; text-decoration-color: #d0d0d0; text-decoration: underline\">Elena Martinez</span><span style=\"color: #d0d0d0; text-decoration-color: #d0d0d0\"> acts: </span><span style=\"color: #d0d0d0; text-decoration-color: #d0d0d0; font-weight: bold\">[</span><span style=\"color: #d0d0d0; text-decoration-color: #d0d0d0\">DONE</span><span style=\"color: #d0d0d0; text-decoration-color: #d0d0d0; font-weight: bold\">]</span><span style=\"color: #d0d0d0; text-decoration-color: #d0d0d0\"> </span>\n",
       "\n",
       "</pre>\n"
      ]
     },
     "metadata": {},
     "output_type": "display_data"
    },
    {
     "data": {
      "text/plain": [
       "\u001B[1;3;4;38;5;51mElena Martinez\u001B[0m\u001B[1;3;38;5;51m --> \u001B[0m\u001B[1;3;4;38;5;51mNorth American Supply Chain Manager\u001B[0m\u001B[1;3;38;5;51m: \u001B[0m\u001B[1;3;38;5;51m[\u001B[0m\u001B[1;3;38;5;51mCONVERSATION\u001B[0m\u001B[1;3;38;5;51m]\u001B[0m\u001B[1;3;38;5;51m \u001B[0m\n",
       "\u001B[1;3;38;5;51m                    > I will prepare an agenda for our meeting tomorrow. I think we should cover the\u001B[0m\n",
       "\u001B[1;3;38;5;51m                    > objectives of the simulation model, the hypotheses we want to test, and how\u001B[0m\n",
       "\u001B[1;3;38;5;51m                    > each of you can contribute to the discussion. Does anyone have additional\u001B[0m\n",
       "\u001B[1;3;38;5;51m                    > topics they would like to include?\u001B[0m\n"
      ],
      "text/html": [
       "<pre style=\"margin:0px;;white-space:pre;overflow-x:auto;line-height:normal;font-family:Menlo,'DejaVu Sans Mono',consolas,'Courier New',monospace\"><span style=\"color: #00ffff; text-decoration-color: #00ffff; font-weight: bold; font-style: italic; text-decoration: underline\">Elena Martinez</span><span style=\"color: #00ffff; text-decoration-color: #00ffff; font-weight: bold; font-style: italic\"> --&gt; </span><span style=\"color: #00ffff; text-decoration-color: #00ffff; font-weight: bold; font-style: italic; text-decoration: underline\">North American Supply Chain Manager</span><span style=\"color: #00ffff; text-decoration-color: #00ffff; font-weight: bold; font-style: italic\">: [CONVERSATION] </span>\n",
       "<span style=\"color: #00ffff; text-decoration-color: #00ffff; font-weight: bold; font-style: italic\">                    &gt; I will prepare an agenda for our meeting tomorrow. I think we should cover the</span>\n",
       "<span style=\"color: #00ffff; text-decoration-color: #00ffff; font-weight: bold; font-style: italic\">                    &gt; objectives of the simulation model, the hypotheses we want to test, and how</span>\n",
       "<span style=\"color: #00ffff; text-decoration-color: #00ffff; font-weight: bold; font-style: italic\">                    &gt; each of you can contribute to the discussion. Does anyone have additional</span>\n",
       "<span style=\"color: #00ffff; text-decoration-color: #00ffff; font-weight: bold; font-style: italic\">                    &gt; topics they would like to include?</span>\n",
       "</pre>\n"
      ]
     },
     "metadata": {},
     "output_type": "display_data"
    },
    {
     "data": {
      "text/plain": [
       "              \u001B[1;3;38;5;51m       + --> \u001B[0m\u001B[1;3;4;38;5;51mEuropean Supply Chain Manager\u001B[0m\n"
      ],
      "text/html": [
       "<pre style=\"margin:0px;;white-space:pre;overflow-x:auto;line-height:normal;font-family:Menlo,'DejaVu Sans Mono',consolas,'Courier New',monospace\">              <span style=\"color: #00ffff; text-decoration-color: #00ffff; font-weight: bold; font-style: italic\">       + --&gt; </span><span style=\"color: #00ffff; text-decoration-color: #00ffff; font-weight: bold; font-style: italic; text-decoration: underline\">European Supply Chain Manager</span>\n",
       "</pre>\n"
      ]
     },
     "metadata": {},
     "output_type": "display_data"
    },
    {
     "data": {
      "text/plain": [
       "              \u001B[1;3;38;5;51m       + --> \u001B[0m\u001B[1;3;4;38;5;51mAsian Supply Chain Manager\u001B[0m\n"
      ],
      "text/html": [
       "<pre style=\"margin:0px;;white-space:pre;overflow-x:auto;line-height:normal;font-family:Menlo,'DejaVu Sans Mono',consolas,'Courier New',monospace\">              <span style=\"color: #00ffff; text-decoration-color: #00ffff; font-weight: bold; font-style: italic\">       + --&gt; </span><span style=\"color: #00ffff; text-decoration-color: #00ffff; font-weight: bold; font-style: italic; text-decoration: underline\">Asian Supply Chain Manager</span>\n",
       "</pre>\n"
      ]
     },
     "metadata": {},
     "output_type": "display_data"
    },
    {
     "data": {
      "text/plain": [
       "              \u001B[1;3;38;5;51m       + --> \u001B[0m\u001B[1;3;38;5;51m...\u001B[0m\u001B[1;3;38;5;51mothers\u001B[0m\u001B[1;3;38;5;51m...\u001B[0m\n"
      ],
      "text/html": [
       "<pre style=\"margin:0px;;white-space:pre;overflow-x:auto;line-height:normal;font-family:Menlo,'DejaVu Sans Mono',consolas,'Courier New',monospace\">              <span style=\"color: #00ffff; text-decoration-color: #00ffff; font-weight: bold; font-style: italic\">       + --&gt; ...others...</span>\n",
       "</pre>\n"
      ]
     },
     "metadata": {},
     "output_type": "display_data"
    },
    {
     "data": {
      "text/plain": [
       "\u001B[1;4;38;5;40mNorth American Supply Chain Manager\u001B[0m\u001B[1;38;5;40m acts: \u001B[0m\u001B[1;38;5;40m[\u001B[0m\u001B[1;38;5;40mTALK\u001B[0m\u001B[1;38;5;40m]\u001B[0m\u001B[1;38;5;40m \u001B[0m\n",
       "\u001B[1;38;5;40m                                         > I think covering the objectives and hypotheses is\u001B[0m\n",
       "\u001B[1;38;5;40m                                         > essential. Additionally, it might be helpful to discuss\u001B[0m\n",
       "\u001B[1;38;5;40m                                         > potential challenges we might face during the simulation\u001B[0m\n",
       "\u001B[1;38;5;40m                                         > and how we can address them. What does everyone else\u001B[0m\n",
       "\u001B[1;38;5;40m                                         > think?\u001B[0m\n"
      ],
      "text/html": [
       "<pre style=\"margin:0px;;white-space:pre;overflow-x:auto;line-height:normal;font-family:Menlo,'DejaVu Sans Mono',consolas,'Courier New',monospace\"><span style=\"color: #00d700; text-decoration-color: #00d700; font-weight: bold; text-decoration: underline\">North American Supply Chain Manager</span><span style=\"color: #00d700; text-decoration-color: #00d700; font-weight: bold\"> acts: [TALK] </span>\n",
       "<span style=\"color: #00d700; text-decoration-color: #00d700; font-weight: bold\">                                         &gt; I think covering the objectives and hypotheses is</span>\n",
       "<span style=\"color: #00d700; text-decoration-color: #00d700; font-weight: bold\">                                         &gt; essential. Additionally, it might be helpful to discuss</span>\n",
       "<span style=\"color: #00d700; text-decoration-color: #00d700; font-weight: bold\">                                         &gt; potential challenges we might face during the simulation</span>\n",
       "<span style=\"color: #00d700; text-decoration-color: #00d700; font-weight: bold\">                                         &gt; and how we can address them. What does everyone else</span>\n",
       "<span style=\"color: #00d700; text-decoration-color: #00d700; font-weight: bold\">                                         &gt; think?</span>\n",
       "</pre>\n"
      ]
     },
     "metadata": {},
     "output_type": "display_data"
    },
    {
     "data": {
      "text/plain": [
       "\u001B[4;38;5;252mNorth American Supply Chain Manager\u001B[0m\u001B[38;5;252m acts: \u001B[0m\u001B[1;38;5;252m[\u001B[0m\u001B[38;5;252mDONE\u001B[0m\u001B[1;38;5;252m]\u001B[0m\u001B[38;5;252m \u001B[0m\n",
       "\n"
      ],
      "text/html": [
       "<pre style=\"margin:0px;;white-space:pre;overflow-x:auto;line-height:normal;font-family:Menlo,'DejaVu Sans Mono',consolas,'Courier New',monospace\"><span style=\"color: #d0d0d0; text-decoration-color: #d0d0d0; text-decoration: underline\">North American Supply Chain Manager</span><span style=\"color: #d0d0d0; text-decoration-color: #d0d0d0\"> acts: </span><span style=\"color: #d0d0d0; text-decoration-color: #d0d0d0; font-weight: bold\">[</span><span style=\"color: #d0d0d0; text-decoration-color: #d0d0d0\">DONE</span><span style=\"color: #d0d0d0; text-decoration-color: #d0d0d0; font-weight: bold\">]</span><span style=\"color: #d0d0d0; text-decoration-color: #d0d0d0\"> </span>\n",
       "\n",
       "</pre>\n"
      ]
     },
     "metadata": {},
     "output_type": "display_data"
    },
    {
     "data": {
      "text/plain": [
       "\u001B[1;3;4;38;5;51mNorth American Supply Chain Manager\u001B[0m\u001B[1;3;38;5;51m --> \u001B[0m\u001B[1;3;4;38;5;51mElena Martinez\u001B[0m\u001B[1;3;38;5;51m: \u001B[0m\u001B[1;3;38;5;51m[\u001B[0m\u001B[1;3;38;5;51mCONVERSATION\u001B[0m\u001B[1;3;38;5;51m]\u001B[0m\u001B[1;3;38;5;51m \u001B[0m\n",
       "\u001B[1;3;38;5;51m                                         > I think covering the objectives and hypotheses is\u001B[0m\n",
       "\u001B[1;3;38;5;51m                                         > essential. Additionally, it might be helpful to discuss\u001B[0m\n",
       "\u001B[1;3;38;5;51m                                         > potential challenges we might face during the simulation\u001B[0m\n",
       "\u001B[1;3;38;5;51m                                         > and how we can address them. What does everyone else\u001B[0m\n",
       "\u001B[1;3;38;5;51m                                         > think?\u001B[0m\n"
      ],
      "text/html": [
       "<pre style=\"margin:0px;;white-space:pre;overflow-x:auto;line-height:normal;font-family:Menlo,'DejaVu Sans Mono',consolas,'Courier New',monospace\"><span style=\"color: #00ffff; text-decoration-color: #00ffff; font-weight: bold; font-style: italic; text-decoration: underline\">North American Supply Chain Manager</span><span style=\"color: #00ffff; text-decoration-color: #00ffff; font-weight: bold; font-style: italic\"> --&gt; </span><span style=\"color: #00ffff; text-decoration-color: #00ffff; font-weight: bold; font-style: italic; text-decoration: underline\">Elena Martinez</span><span style=\"color: #00ffff; text-decoration-color: #00ffff; font-weight: bold; font-style: italic\">: [CONVERSATION] </span>\n",
       "<span style=\"color: #00ffff; text-decoration-color: #00ffff; font-weight: bold; font-style: italic\">                                         &gt; I think covering the objectives and hypotheses is</span>\n",
       "<span style=\"color: #00ffff; text-decoration-color: #00ffff; font-weight: bold; font-style: italic\">                                         &gt; essential. Additionally, it might be helpful to discuss</span>\n",
       "<span style=\"color: #00ffff; text-decoration-color: #00ffff; font-weight: bold; font-style: italic\">                                         &gt; potential challenges we might face during the simulation</span>\n",
       "<span style=\"color: #00ffff; text-decoration-color: #00ffff; font-weight: bold; font-style: italic\">                                         &gt; and how we can address them. What does everyone else</span>\n",
       "<span style=\"color: #00ffff; text-decoration-color: #00ffff; font-weight: bold; font-style: italic\">                                         &gt; think?</span>\n",
       "</pre>\n"
      ]
     },
     "metadata": {},
     "output_type": "display_data"
    },
    {
     "data": {
      "text/plain": [
       "\u001B[1;4;38;5;40mEuropean Supply Chain Manager\u001B[0m\u001B[1;38;5;40m acts: \u001B[0m\u001B[1;38;5;40m[\u001B[0m\u001B[1;38;5;40mTALK\u001B[0m\u001B[1;38;5;40m]\u001B[0m\u001B[1;38;5;40m \u001B[0m\n",
       "\u001B[1;38;5;40m                                   > I think covering the objectives and hypotheses is a great\u001B[0m\n",
       "\u001B[1;38;5;40m                                   > start. I would also suggest discussing potential challenges we\u001B[0m\n",
       "\u001B[1;38;5;40m                                   > might face during the simulation and how we can address them.\u001B[0m\n",
       "\u001B[1;38;5;40m                                   > What does everyone else think?\u001B[0m\n"
      ],
      "text/html": [
       "<pre style=\"margin:0px;;white-space:pre;overflow-x:auto;line-height:normal;font-family:Menlo,'DejaVu Sans Mono',consolas,'Courier New',monospace\"><span style=\"color: #00d700; text-decoration-color: #00d700; font-weight: bold; text-decoration: underline\">European Supply Chain Manager</span><span style=\"color: #00d700; text-decoration-color: #00d700; font-weight: bold\"> acts: [TALK] </span>\n",
       "<span style=\"color: #00d700; text-decoration-color: #00d700; font-weight: bold\">                                   &gt; I think covering the objectives and hypotheses is a great</span>\n",
       "<span style=\"color: #00d700; text-decoration-color: #00d700; font-weight: bold\">                                   &gt; start. I would also suggest discussing potential challenges we</span>\n",
       "<span style=\"color: #00d700; text-decoration-color: #00d700; font-weight: bold\">                                   &gt; might face during the simulation and how we can address them.</span>\n",
       "<span style=\"color: #00d700; text-decoration-color: #00d700; font-weight: bold\">                                   &gt; What does everyone else think?</span>\n",
       "</pre>\n"
      ]
     },
     "metadata": {},
     "output_type": "display_data"
    },
    {
     "data": {
      "text/plain": [
       "\u001B[4;38;5;252mEuropean Supply Chain Manager\u001B[0m\u001B[38;5;252m acts: \u001B[0m\u001B[1;38;5;252m[\u001B[0m\u001B[38;5;252mDONE\u001B[0m\u001B[1;38;5;252m]\u001B[0m\u001B[38;5;252m \u001B[0m\n",
       "\n"
      ],
      "text/html": [
       "<pre style=\"margin:0px;;white-space:pre;overflow-x:auto;line-height:normal;font-family:Menlo,'DejaVu Sans Mono',consolas,'Courier New',monospace\"><span style=\"color: #d0d0d0; text-decoration-color: #d0d0d0; text-decoration: underline\">European Supply Chain Manager</span><span style=\"color: #d0d0d0; text-decoration-color: #d0d0d0\"> acts: </span><span style=\"color: #d0d0d0; text-decoration-color: #d0d0d0; font-weight: bold\">[</span><span style=\"color: #d0d0d0; text-decoration-color: #d0d0d0\">DONE</span><span style=\"color: #d0d0d0; text-decoration-color: #d0d0d0; font-weight: bold\">]</span><span style=\"color: #d0d0d0; text-decoration-color: #d0d0d0\"> </span>\n",
       "\n",
       "</pre>\n"
      ]
     },
     "metadata": {},
     "output_type": "display_data"
    },
    {
     "data": {
      "text/plain": [
       "\u001B[1;3;4;38;5;51mEuropean Supply Chain Manager\u001B[0m\u001B[1;3;38;5;51m --> \u001B[0m\u001B[1;3;4;38;5;51mElena Martinez\u001B[0m\u001B[1;3;38;5;51m: \u001B[0m\u001B[1;3;38;5;51m[\u001B[0m\u001B[1;3;38;5;51mCONVERSATION\u001B[0m\u001B[1;3;38;5;51m]\u001B[0m\u001B[1;3;38;5;51m \u001B[0m\n",
       "\u001B[1;3;38;5;51m                                   > I think covering the objectives and hypotheses is a great\u001B[0m\n",
       "\u001B[1;3;38;5;51m                                   > start. I would also suggest discussing potential challenges we\u001B[0m\n",
       "\u001B[1;3;38;5;51m                                   > might face during the simulation and how we can address them.\u001B[0m\n",
       "\u001B[1;3;38;5;51m                                   > What does everyone else think?\u001B[0m\n"
      ],
      "text/html": [
       "<pre style=\"margin:0px;;white-space:pre;overflow-x:auto;line-height:normal;font-family:Menlo,'DejaVu Sans Mono',consolas,'Courier New',monospace\"><span style=\"color: #00ffff; text-decoration-color: #00ffff; font-weight: bold; font-style: italic; text-decoration: underline\">European Supply Chain Manager</span><span style=\"color: #00ffff; text-decoration-color: #00ffff; font-weight: bold; font-style: italic\"> --&gt; </span><span style=\"color: #00ffff; text-decoration-color: #00ffff; font-weight: bold; font-style: italic; text-decoration: underline\">Elena Martinez</span><span style=\"color: #00ffff; text-decoration-color: #00ffff; font-weight: bold; font-style: italic\">: [CONVERSATION] </span>\n",
       "<span style=\"color: #00ffff; text-decoration-color: #00ffff; font-weight: bold; font-style: italic\">                                   &gt; I think covering the objectives and hypotheses is a great</span>\n",
       "<span style=\"color: #00ffff; text-decoration-color: #00ffff; font-weight: bold; font-style: italic\">                                   &gt; start. I would also suggest discussing potential challenges we</span>\n",
       "<span style=\"color: #00ffff; text-decoration-color: #00ffff; font-weight: bold; font-style: italic\">                                   &gt; might face during the simulation and how we can address them.</span>\n",
       "<span style=\"color: #00ffff; text-decoration-color: #00ffff; font-weight: bold; font-style: italic\">                                   &gt; What does everyone else think?</span>\n",
       "</pre>\n"
      ]
     },
     "metadata": {},
     "output_type": "display_data"
    },
    {
     "data": {
      "text/plain": [
       "\u001B[1;4;38;5;40mAsian Supply Chain Manager\u001B[0m\u001B[1;38;5;40m acts: \u001B[0m\u001B[1;38;5;40m[\u001B[0m\u001B[1;38;5;40mTALK\u001B[0m\u001B[1;38;5;40m]\u001B[0m\u001B[1;38;5;40m \u001B[0m\n",
       "\u001B[1;38;5;40m                                > I think covering the objectives and hypotheses is a great start. I\u001B[0m\n",
       "\u001B[1;38;5;40m                                > would also like to discuss potential challenges we might face\u001B[0m\n",
       "\u001B[1;38;5;40m                                > during the simulation and how we can address them. What does\u001B[0m\n",
       "\u001B[1;38;5;40m                                > everyone else think?\u001B[0m\n"
      ],
      "text/html": [
       "<pre style=\"margin:0px;;white-space:pre;overflow-x:auto;line-height:normal;font-family:Menlo,'DejaVu Sans Mono',consolas,'Courier New',monospace\"><span style=\"color: #00d700; text-decoration-color: #00d700; font-weight: bold; text-decoration: underline\">Asian Supply Chain Manager</span><span style=\"color: #00d700; text-decoration-color: #00d700; font-weight: bold\"> acts: [TALK] </span>\n",
       "<span style=\"color: #00d700; text-decoration-color: #00d700; font-weight: bold\">                                &gt; I think covering the objectives and hypotheses is a great start. I</span>\n",
       "<span style=\"color: #00d700; text-decoration-color: #00d700; font-weight: bold\">                                &gt; would also like to discuss potential challenges we might face</span>\n",
       "<span style=\"color: #00d700; text-decoration-color: #00d700; font-weight: bold\">                                &gt; during the simulation and how we can address them. What does</span>\n",
       "<span style=\"color: #00d700; text-decoration-color: #00d700; font-weight: bold\">                                &gt; everyone else think?</span>\n",
       "</pre>\n"
      ]
     },
     "metadata": {},
     "output_type": "display_data"
    },
    {
     "data": {
      "text/plain": [
       "\u001B[4;38;5;252mAsian Supply Chain Manager\u001B[0m\u001B[38;5;252m acts: \u001B[0m\u001B[1;38;5;252m[\u001B[0m\u001B[38;5;252mDONE\u001B[0m\u001B[1;38;5;252m]\u001B[0m\u001B[38;5;252m \u001B[0m\n",
       "\n"
      ],
      "text/html": [
       "<pre style=\"margin:0px;;white-space:pre;overflow-x:auto;line-height:normal;font-family:Menlo,'DejaVu Sans Mono',consolas,'Courier New',monospace\"><span style=\"color: #d0d0d0; text-decoration-color: #d0d0d0; text-decoration: underline\">Asian Supply Chain Manager</span><span style=\"color: #d0d0d0; text-decoration-color: #d0d0d0\"> acts: </span><span style=\"color: #d0d0d0; text-decoration-color: #d0d0d0; font-weight: bold\">[</span><span style=\"color: #d0d0d0; text-decoration-color: #d0d0d0\">DONE</span><span style=\"color: #d0d0d0; text-decoration-color: #d0d0d0; font-weight: bold\">]</span><span style=\"color: #d0d0d0; text-decoration-color: #d0d0d0\"> </span>\n",
       "\n",
       "</pre>\n"
      ]
     },
     "metadata": {},
     "output_type": "display_data"
    },
    {
     "data": {
      "text/plain": [
       "\u001B[1;3;4;38;5;51mAsian Supply Chain Manager\u001B[0m\u001B[1;3;38;5;51m --> \u001B[0m\u001B[1;3;4;38;5;51mElena Martinez\u001B[0m\u001B[1;3;38;5;51m: \u001B[0m\u001B[1;3;38;5;51m[\u001B[0m\u001B[1;3;38;5;51mCONVERSATION\u001B[0m\u001B[1;3;38;5;51m]\u001B[0m\u001B[1;3;38;5;51m \u001B[0m\n",
       "\u001B[1;3;38;5;51m                                > I think covering the objectives and hypotheses is a great start. I\u001B[0m\n",
       "\u001B[1;3;38;5;51m                                > would also like to discuss potential challenges we might face\u001B[0m\n",
       "\u001B[1;3;38;5;51m                                > during the simulation and how we can address them. What does\u001B[0m\n",
       "\u001B[1;3;38;5;51m                                > everyone else think?\u001B[0m\n"
      ],
      "text/html": [
       "<pre style=\"margin:0px;;white-space:pre;overflow-x:auto;line-height:normal;font-family:Menlo,'DejaVu Sans Mono',consolas,'Courier New',monospace\"><span style=\"color: #00ffff; text-decoration-color: #00ffff; font-weight: bold; font-style: italic; text-decoration: underline\">Asian Supply Chain Manager</span><span style=\"color: #00ffff; text-decoration-color: #00ffff; font-weight: bold; font-style: italic\"> --&gt; </span><span style=\"color: #00ffff; text-decoration-color: #00ffff; font-weight: bold; font-style: italic; text-decoration: underline\">Elena Martinez</span><span style=\"color: #00ffff; text-decoration-color: #00ffff; font-weight: bold; font-style: italic\">: [CONVERSATION] </span>\n",
       "<span style=\"color: #00ffff; text-decoration-color: #00ffff; font-weight: bold; font-style: italic\">                                &gt; I think covering the objectives and hypotheses is a great start. I</span>\n",
       "<span style=\"color: #00ffff; text-decoration-color: #00ffff; font-weight: bold; font-style: italic\">                                &gt; would also like to discuss potential challenges we might face</span>\n",
       "<span style=\"color: #00ffff; text-decoration-color: #00ffff; font-weight: bold; font-style: italic\">                                &gt; during the simulation and how we can address them. What does</span>\n",
       "<span style=\"color: #00ffff; text-decoration-color: #00ffff; font-weight: bold; font-style: italic\">                                &gt; everyone else think?</span>\n",
       "</pre>\n"
      ]
     },
     "metadata": {},
     "output_type": "display_data"
    },
    {
     "data": {
      "text/plain": [
       "\u001B[1;4;38;5;40mSupplier A\u001B[0m\u001B[1;38;5;40m acts: \u001B[0m\u001B[1;38;5;40m[\u001B[0m\u001B[1;38;5;40mTALK\u001B[0m\u001B[1;38;5;40m]\u001B[0m\u001B[1;38;5;40m \u001B[0m\n",
       "\u001B[1;38;5;40m                > That sounds like a solid agenda, Elena! I would also suggest including a\u001B[0m\n",
       "\u001B[1;38;5;40m                > discussion on potential risks and mitigation strategies related to the simulation\u001B[0m\n",
       "\u001B[1;38;5;40m                > outcomes. What do you think?\u001B[0m\n"
      ],
      "text/html": [
       "<pre style=\"margin:0px;;white-space:pre;overflow-x:auto;line-height:normal;font-family:Menlo,'DejaVu Sans Mono',consolas,'Courier New',monospace\"><span style=\"color: #00d700; text-decoration-color: #00d700; font-weight: bold; text-decoration: underline\">Supplier A</span><span style=\"color: #00d700; text-decoration-color: #00d700; font-weight: bold\"> acts: [TALK] </span>\n",
       "<span style=\"color: #00d700; text-decoration-color: #00d700; font-weight: bold\">                &gt; That sounds like a solid agenda, Elena! I would also suggest including a</span>\n",
       "<span style=\"color: #00d700; text-decoration-color: #00d700; font-weight: bold\">                &gt; discussion on potential risks and mitigation strategies related to the simulation</span>\n",
       "<span style=\"color: #00d700; text-decoration-color: #00d700; font-weight: bold\">                &gt; outcomes. What do you think?</span>\n",
       "</pre>\n"
      ]
     },
     "metadata": {},
     "output_type": "display_data"
    },
    {
     "data": {
      "text/plain": [
       "\u001B[4;38;5;252mSupplier A\u001B[0m\u001B[38;5;252m acts: \u001B[0m\u001B[1;38;5;252m[\u001B[0m\u001B[38;5;252mDONE\u001B[0m\u001B[1;38;5;252m]\u001B[0m\u001B[38;5;252m \u001B[0m\n",
       "\n"
      ],
      "text/html": [
       "<pre style=\"margin:0px;;white-space:pre;overflow-x:auto;line-height:normal;font-family:Menlo,'DejaVu Sans Mono',consolas,'Courier New',monospace\"><span style=\"color: #d0d0d0; text-decoration-color: #d0d0d0; text-decoration: underline\">Supplier A</span><span style=\"color: #d0d0d0; text-decoration-color: #d0d0d0\"> acts: </span><span style=\"color: #d0d0d0; text-decoration-color: #d0d0d0; font-weight: bold\">[</span><span style=\"color: #d0d0d0; text-decoration-color: #d0d0d0\">DONE</span><span style=\"color: #d0d0d0; text-decoration-color: #d0d0d0; font-weight: bold\">]</span><span style=\"color: #d0d0d0; text-decoration-color: #d0d0d0\"> </span>\n",
       "\n",
       "</pre>\n"
      ]
     },
     "metadata": {},
     "output_type": "display_data"
    },
    {
     "data": {
      "text/plain": [
       "\u001B[1;3;4;38;5;51mSupplier A\u001B[0m\u001B[1;3;38;5;51m --> \u001B[0m\u001B[1;3;4;38;5;51mElena Martinez\u001B[0m\u001B[1;3;38;5;51m: \u001B[0m\u001B[1;3;38;5;51m[\u001B[0m\u001B[1;3;38;5;51mCONVERSATION\u001B[0m\u001B[1;3;38;5;51m]\u001B[0m\u001B[1;3;38;5;51m \u001B[0m\n",
       "\u001B[1;3;38;5;51m                > That sounds like a solid agenda, Elena! I would also suggest including a\u001B[0m\n",
       "\u001B[1;3;38;5;51m                > discussion on potential risks and mitigation strategies related to the simulation\u001B[0m\n",
       "\u001B[1;3;38;5;51m                > outcomes. What do you think?\u001B[0m\n"
      ],
      "text/html": [
       "<pre style=\"margin:0px;;white-space:pre;overflow-x:auto;line-height:normal;font-family:Menlo,'DejaVu Sans Mono',consolas,'Courier New',monospace\"><span style=\"color: #00ffff; text-decoration-color: #00ffff; font-weight: bold; font-style: italic; text-decoration: underline\">Supplier A</span><span style=\"color: #00ffff; text-decoration-color: #00ffff; font-weight: bold; font-style: italic\"> --&gt; </span><span style=\"color: #00ffff; text-decoration-color: #00ffff; font-weight: bold; font-style: italic; text-decoration: underline\">Elena Martinez</span><span style=\"color: #00ffff; text-decoration-color: #00ffff; font-weight: bold; font-style: italic\">: [CONVERSATION] </span>\n",
       "<span style=\"color: #00ffff; text-decoration-color: #00ffff; font-weight: bold; font-style: italic\">                &gt; That sounds like a solid agenda, Elena! I would also suggest including a</span>\n",
       "<span style=\"color: #00ffff; text-decoration-color: #00ffff; font-weight: bold; font-style: italic\">                &gt; discussion on potential risks and mitigation strategies related to the simulation</span>\n",
       "<span style=\"color: #00ffff; text-decoration-color: #00ffff; font-weight: bold; font-style: italic\">                &gt; outcomes. What do you think?</span>\n",
       "</pre>\n"
      ]
     },
     "metadata": {},
     "output_type": "display_data"
    },
    {
     "data": {
      "text/plain": [
       "\u001B[4;32mOcean Freight Carrier A\u001B[0m\u001B[32m acts: \u001B[0m\u001B[1;32m[\u001B[0m\u001B[32mTHINK\u001B[0m\u001B[1;32m]\u001B[0m\u001B[32m \u001B[0m\n",
       "\u001B[32m                             > Elena's agenda for the meeting sounds comprehensive. I should think\u001B[0m\n",
       "\u001B[32m                             > about any additional topics that might be relevant to the simulation\u001B[0m\n",
       "\u001B[32m                             > model discussion.\u001B[0m\n"
      ],
      "text/html": [
       "<pre style=\"margin:0px;;white-space:pre;overflow-x:auto;line-height:normal;font-family:Menlo,'DejaVu Sans Mono',consolas,'Courier New',monospace\"><span style=\"color: #008000; text-decoration-color: #008000; text-decoration: underline\">Ocean Freight Carrier A</span><span style=\"color: #008000; text-decoration-color: #008000\"> acts: </span><span style=\"color: #008000; text-decoration-color: #008000; font-weight: bold\">[</span><span style=\"color: #008000; text-decoration-color: #008000\">THINK</span><span style=\"color: #008000; text-decoration-color: #008000; font-weight: bold\">]</span><span style=\"color: #008000; text-decoration-color: #008000\"> </span>\n",
       "<span style=\"color: #008000; text-decoration-color: #008000\">                             &gt; Elena's agenda for the meeting sounds comprehensive. I should think</span>\n",
       "<span style=\"color: #008000; text-decoration-color: #008000\">                             &gt; about any additional topics that might be relevant to the simulation</span>\n",
       "<span style=\"color: #008000; text-decoration-color: #008000\">                             &gt; model discussion.</span>\n",
       "</pre>\n"
      ]
     },
     "metadata": {},
     "output_type": "display_data"
    },
    {
     "data": {
      "text/plain": [
       "\u001B[1;4;38;5;40mOcean Freight Carrier A\u001B[0m\u001B[1;38;5;40m acts: \u001B[0m\u001B[1;38;5;40m[\u001B[0m\u001B[1;38;5;40mTALK\u001B[0m\u001B[1;38;5;40m]\u001B[0m\u001B[1;38;5;40m \u001B[0m\n",
       "\u001B[1;38;5;40m                             > I think it would be helpful to include a discussion on potential\u001B[0m\n",
       "\u001B[1;38;5;40m                             > challenges we might face during the simulation and how we can address\u001B[0m\n",
       "\u001B[1;38;5;40m                             > them. What does everyone else think?\u001B[0m\n"
      ],
      "text/html": [
       "<pre style=\"margin:0px;;white-space:pre;overflow-x:auto;line-height:normal;font-family:Menlo,'DejaVu Sans Mono',consolas,'Courier New',monospace\"><span style=\"color: #00d700; text-decoration-color: #00d700; font-weight: bold; text-decoration: underline\">Ocean Freight Carrier A</span><span style=\"color: #00d700; text-decoration-color: #00d700; font-weight: bold\"> acts: [TALK] </span>\n",
       "<span style=\"color: #00d700; text-decoration-color: #00d700; font-weight: bold\">                             &gt; I think it would be helpful to include a discussion on potential</span>\n",
       "<span style=\"color: #00d700; text-decoration-color: #00d700; font-weight: bold\">                             &gt; challenges we might face during the simulation and how we can address</span>\n",
       "<span style=\"color: #00d700; text-decoration-color: #00d700; font-weight: bold\">                             &gt; them. What does everyone else think?</span>\n",
       "</pre>\n"
      ]
     },
     "metadata": {},
     "output_type": "display_data"
    },
    {
     "data": {
      "text/plain": [
       "\u001B[4;38;5;252mOcean Freight Carrier A\u001B[0m\u001B[38;5;252m acts: \u001B[0m\u001B[1;38;5;252m[\u001B[0m\u001B[38;5;252mDONE\u001B[0m\u001B[1;38;5;252m]\u001B[0m\u001B[38;5;252m \u001B[0m\n",
       "\n"
      ],
      "text/html": [
       "<pre style=\"margin:0px;;white-space:pre;overflow-x:auto;line-height:normal;font-family:Menlo,'DejaVu Sans Mono',consolas,'Courier New',monospace\"><span style=\"color: #d0d0d0; text-decoration-color: #d0d0d0; text-decoration: underline\">Ocean Freight Carrier A</span><span style=\"color: #d0d0d0; text-decoration-color: #d0d0d0\"> acts: </span><span style=\"color: #d0d0d0; text-decoration-color: #d0d0d0; font-weight: bold\">[</span><span style=\"color: #d0d0d0; text-decoration-color: #d0d0d0\">DONE</span><span style=\"color: #d0d0d0; text-decoration-color: #d0d0d0; font-weight: bold\">]</span><span style=\"color: #d0d0d0; text-decoration-color: #d0d0d0\"> </span>\n",
       "\n",
       "</pre>\n"
      ]
     },
     "metadata": {},
     "output_type": "display_data"
    },
    {
     "data": {
      "text/plain": [
       "\u001B[1;3;4;38;5;51mOcean Freight Carrier A\u001B[0m\u001B[1;3;38;5;51m --> \u001B[0m\u001B[1;3;4;38;5;51mElena Martinez\u001B[0m\u001B[1;3;38;5;51m: \u001B[0m\u001B[1;3;38;5;51m[\u001B[0m\u001B[1;3;38;5;51mCONVERSATION\u001B[0m\u001B[1;3;38;5;51m]\u001B[0m\u001B[1;3;38;5;51m \u001B[0m\n",
       "\u001B[1;3;38;5;51m                             > I think it would be helpful to include a discussion on potential\u001B[0m\n",
       "\u001B[1;3;38;5;51m                             > challenges we might face during the simulation and how we can address\u001B[0m\n",
       "\u001B[1;3;38;5;51m                             > them. What does everyone else think?\u001B[0m\n"
      ],
      "text/html": [
       "<pre style=\"margin:0px;;white-space:pre;overflow-x:auto;line-height:normal;font-family:Menlo,'DejaVu Sans Mono',consolas,'Courier New',monospace\"><span style=\"color: #00ffff; text-decoration-color: #00ffff; font-weight: bold; font-style: italic; text-decoration: underline\">Ocean Freight Carrier A</span><span style=\"color: #00ffff; text-decoration-color: #00ffff; font-weight: bold; font-style: italic\"> --&gt; </span><span style=\"color: #00ffff; text-decoration-color: #00ffff; font-weight: bold; font-style: italic; text-decoration: underline\">Elena Martinez</span><span style=\"color: #00ffff; text-decoration-color: #00ffff; font-weight: bold; font-style: italic\">: [CONVERSATION] </span>\n",
       "<span style=\"color: #00ffff; text-decoration-color: #00ffff; font-weight: bold; font-style: italic\">                             &gt; I think it would be helpful to include a discussion on potential</span>\n",
       "<span style=\"color: #00ffff; text-decoration-color: #00ffff; font-weight: bold; font-style: italic\">                             &gt; challenges we might face during the simulation and how we can address</span>\n",
       "<span style=\"color: #00ffff; text-decoration-color: #00ffff; font-weight: bold; font-style: italic\">                             &gt; them. What does everyone else think?</span>\n",
       "</pre>\n"
      ]
     },
     "metadata": {},
     "output_type": "display_data"
    },
    {
     "data": {
      "text/plain": [
       "\u001B[92m──────────────────────────────────────── \u001B[0mGlobal Supply Network step \u001B[1;36m4\u001B[0m of \u001B[1;36m5\u001B[0m\u001B[92m ────────────────────────────────────────\u001B[0m\n"
      ],
      "text/html": [
       "<pre style=\"margin:0px;;white-space:pre;overflow-x:auto;line-height:normal;font-family:Menlo,'DejaVu Sans Mono',consolas,'Courier New',monospace\"><span style=\"color: #00ff00; text-decoration-color: #00ff00\">──────────────────────────────────────── </span>Global Supply Network step <span style=\"color: #008080; text-decoration-color: #008080; font-weight: bold\">4</span> of <span style=\"color: #008080; text-decoration-color: #008080; font-weight: bold\">5</span><span style=\"color: #00ff00; text-decoration-color: #00ff00\"> ────────────────────────────────────────</span>\n",
       "</pre>\n"
      ]
     },
     "metadata": {},
     "output_type": "display_data"
    },
    {
     "data": {
      "text/plain": [
       "\u001B[4;32mElena Martinez\u001B[0m\u001B[32m acts: \u001B[0m\u001B[1;32m[\u001B[0m\u001B[32mTHINK\u001B[0m\u001B[1;32m]\u001B[0m\u001B[32m \u001B[0m\n",
       "\u001B[32m                    > The team has provided valuable input for the agenda. I need to incorporate\u001B[0m\n",
       "\u001B[32m                    > discussions on potential challenges and risks, as well as mitigation\u001B[0m\n",
       "\u001B[32m                    > strategies into our meeting plan. This will ensure we are well-prepared for\u001B[0m\n",
       "\u001B[32m                    > any issues that may arise during the simulation.\u001B[0m\n"
      ],
      "text/html": [
       "<pre style=\"margin:0px;;white-space:pre;overflow-x:auto;line-height:normal;font-family:Menlo,'DejaVu Sans Mono',consolas,'Courier New',monospace\"><span style=\"color: #008000; text-decoration-color: #008000; text-decoration: underline\">Elena Martinez</span><span style=\"color: #008000; text-decoration-color: #008000\"> acts: </span><span style=\"color: #008000; text-decoration-color: #008000; font-weight: bold\">[</span><span style=\"color: #008000; text-decoration-color: #008000\">THINK</span><span style=\"color: #008000; text-decoration-color: #008000; font-weight: bold\">]</span><span style=\"color: #008000; text-decoration-color: #008000\"> </span>\n",
       "<span style=\"color: #008000; text-decoration-color: #008000\">                    &gt; The team has provided valuable input for the agenda. I need to incorporate</span>\n",
       "<span style=\"color: #008000; text-decoration-color: #008000\">                    &gt; discussions on potential challenges and risks, as well as mitigation</span>\n",
       "<span style=\"color: #008000; text-decoration-color: #008000\">                    &gt; strategies into our meeting plan. This will ensure we are well-prepared for</span>\n",
       "<span style=\"color: #008000; text-decoration-color: #008000\">                    &gt; any issues that may arise during the simulation.</span>\n",
       "</pre>\n"
      ]
     },
     "metadata": {},
     "output_type": "display_data"
    },
    {
     "data": {
      "text/plain": [
       "\u001B[1;4;38;5;40mElena Martinez\u001B[0m\u001B[1;38;5;40m acts: \u001B[0m\u001B[1;38;5;40m[\u001B[0m\u001B[1;38;5;40mTALK\u001B[0m\u001B[1;38;5;40m]\u001B[0m\u001B[1;38;5;40m \u001B[0m\n",
       "\u001B[1;38;5;40m                    > Thank you all for your suggestions! I will include discussions on potential\u001B[0m\n",
       "\u001B[1;38;5;40m                    > challenges, risks, and mitigation strategies in our agenda. This will help us\u001B[0m\n",
       "\u001B[1;38;5;40m                    > prepare for the simulation effectively. Is there anything else anyone would\u001B[0m\n",
       "\u001B[1;38;5;40m                    > like to add?\u001B[0m\n"
      ],
      "text/html": [
       "<pre style=\"margin:0px;;white-space:pre;overflow-x:auto;line-height:normal;font-family:Menlo,'DejaVu Sans Mono',consolas,'Courier New',monospace\"><span style=\"color: #00d700; text-decoration-color: #00d700; font-weight: bold; text-decoration: underline\">Elena Martinez</span><span style=\"color: #00d700; text-decoration-color: #00d700; font-weight: bold\"> acts: [TALK] </span>\n",
       "<span style=\"color: #00d700; text-decoration-color: #00d700; font-weight: bold\">                    &gt; Thank you all for your suggestions! I will include discussions on potential</span>\n",
       "<span style=\"color: #00d700; text-decoration-color: #00d700; font-weight: bold\">                    &gt; challenges, risks, and mitigation strategies in our agenda. This will help us</span>\n",
       "<span style=\"color: #00d700; text-decoration-color: #00d700; font-weight: bold\">                    &gt; prepare for the simulation effectively. Is there anything else anyone would</span>\n",
       "<span style=\"color: #00d700; text-decoration-color: #00d700; font-weight: bold\">                    &gt; like to add?</span>\n",
       "</pre>\n"
      ]
     },
     "metadata": {},
     "output_type": "display_data"
    },
    {
     "data": {
      "text/plain": [
       "\u001B[4;38;5;252mElena Martinez\u001B[0m\u001B[38;5;252m acts: \u001B[0m\u001B[1;38;5;252m[\u001B[0m\u001B[38;5;252mDONE\u001B[0m\u001B[1;38;5;252m]\u001B[0m\u001B[38;5;252m \u001B[0m\n",
       "\n"
      ],
      "text/html": [
       "<pre style=\"margin:0px;;white-space:pre;overflow-x:auto;line-height:normal;font-family:Menlo,'DejaVu Sans Mono',consolas,'Courier New',monospace\"><span style=\"color: #d0d0d0; text-decoration-color: #d0d0d0; text-decoration: underline\">Elena Martinez</span><span style=\"color: #d0d0d0; text-decoration-color: #d0d0d0\"> acts: </span><span style=\"color: #d0d0d0; text-decoration-color: #d0d0d0; font-weight: bold\">[</span><span style=\"color: #d0d0d0; text-decoration-color: #d0d0d0\">DONE</span><span style=\"color: #d0d0d0; text-decoration-color: #d0d0d0; font-weight: bold\">]</span><span style=\"color: #d0d0d0; text-decoration-color: #d0d0d0\"> </span>\n",
       "\n",
       "</pre>\n"
      ]
     },
     "metadata": {},
     "output_type": "display_data"
    },
    {
     "data": {
      "text/plain": [
       "\u001B[1;3;4;38;5;51mElena Martinez\u001B[0m\u001B[1;3;38;5;51m --> \u001B[0m\u001B[1;3;4;38;5;51mNorth American Supply Chain Manager\u001B[0m\u001B[1;3;38;5;51m: \u001B[0m\u001B[1;3;38;5;51m[\u001B[0m\u001B[1;3;38;5;51mCONVERSATION\u001B[0m\u001B[1;3;38;5;51m]\u001B[0m\u001B[1;3;38;5;51m \u001B[0m\n",
       "\u001B[1;3;38;5;51m                    > Thank you all for your suggestions! I will include discussions on potential\u001B[0m\n",
       "\u001B[1;3;38;5;51m                    > challenges, risks, and mitigation strategies in our agenda. This will help us\u001B[0m\n",
       "\u001B[1;3;38;5;51m                    > prepare for the simulation effectively. Is there anything else anyone would\u001B[0m\n",
       "\u001B[1;3;38;5;51m                    > like to add?\u001B[0m\n"
      ],
      "text/html": [
       "<pre style=\"margin:0px;;white-space:pre;overflow-x:auto;line-height:normal;font-family:Menlo,'DejaVu Sans Mono',consolas,'Courier New',monospace\"><span style=\"color: #00ffff; text-decoration-color: #00ffff; font-weight: bold; font-style: italic; text-decoration: underline\">Elena Martinez</span><span style=\"color: #00ffff; text-decoration-color: #00ffff; font-weight: bold; font-style: italic\"> --&gt; </span><span style=\"color: #00ffff; text-decoration-color: #00ffff; font-weight: bold; font-style: italic; text-decoration: underline\">North American Supply Chain Manager</span><span style=\"color: #00ffff; text-decoration-color: #00ffff; font-weight: bold; font-style: italic\">: [CONVERSATION] </span>\n",
       "<span style=\"color: #00ffff; text-decoration-color: #00ffff; font-weight: bold; font-style: italic\">                    &gt; Thank you all for your suggestions! I will include discussions on potential</span>\n",
       "<span style=\"color: #00ffff; text-decoration-color: #00ffff; font-weight: bold; font-style: italic\">                    &gt; challenges, risks, and mitigation strategies in our agenda. This will help us</span>\n",
       "<span style=\"color: #00ffff; text-decoration-color: #00ffff; font-weight: bold; font-style: italic\">                    &gt; prepare for the simulation effectively. Is there anything else anyone would</span>\n",
       "<span style=\"color: #00ffff; text-decoration-color: #00ffff; font-weight: bold; font-style: italic\">                    &gt; like to add?</span>\n",
       "</pre>\n"
      ]
     },
     "metadata": {},
     "output_type": "display_data"
    },
    {
     "data": {
      "text/plain": [
       "              \u001B[1;3;38;5;51m       + --> \u001B[0m\u001B[1;3;4;38;5;51mEuropean Supply Chain Manager\u001B[0m\n"
      ],
      "text/html": [
       "<pre style=\"margin:0px;;white-space:pre;overflow-x:auto;line-height:normal;font-family:Menlo,'DejaVu Sans Mono',consolas,'Courier New',monospace\">              <span style=\"color: #00ffff; text-decoration-color: #00ffff; font-weight: bold; font-style: italic\">       + --&gt; </span><span style=\"color: #00ffff; text-decoration-color: #00ffff; font-weight: bold; font-style: italic; text-decoration: underline\">European Supply Chain Manager</span>\n",
       "</pre>\n"
      ]
     },
     "metadata": {},
     "output_type": "display_data"
    },
    {
     "data": {
      "text/plain": [
       "              \u001B[1;3;38;5;51m       + --> \u001B[0m\u001B[1;3;4;38;5;51mAsian Supply Chain Manager\u001B[0m\n"
      ],
      "text/html": [
       "<pre style=\"margin:0px;;white-space:pre;overflow-x:auto;line-height:normal;font-family:Menlo,'DejaVu Sans Mono',consolas,'Courier New',monospace\">              <span style=\"color: #00ffff; text-decoration-color: #00ffff; font-weight: bold; font-style: italic\">       + --&gt; </span><span style=\"color: #00ffff; text-decoration-color: #00ffff; font-weight: bold; font-style: italic; text-decoration: underline\">Asian Supply Chain Manager</span>\n",
       "</pre>\n"
      ]
     },
     "metadata": {},
     "output_type": "display_data"
    },
    {
     "data": {
      "text/plain": [
       "              \u001B[1;3;38;5;51m       + --> \u001B[0m\u001B[1;3;38;5;51m...\u001B[0m\u001B[1;3;38;5;51mothers\u001B[0m\u001B[1;3;38;5;51m...\u001B[0m\n"
      ],
      "text/html": [
       "<pre style=\"margin:0px;;white-space:pre;overflow-x:auto;line-height:normal;font-family:Menlo,'DejaVu Sans Mono',consolas,'Courier New',monospace\">              <span style=\"color: #00ffff; text-decoration-color: #00ffff; font-weight: bold; font-style: italic\">       + --&gt; ...others...</span>\n",
       "</pre>\n"
      ]
     },
     "metadata": {},
     "output_type": "display_data"
    },
    {
     "data": {
      "text/plain": [
       "\u001B[1;4;38;5;40mNorth American Supply Chain Manager\u001B[0m\u001B[1;38;5;40m acts: \u001B[0m\u001B[1;38;5;40m[\u001B[0m\u001B[1;38;5;40mTALK\u001B[0m\u001B[1;38;5;40m]\u001B[0m\u001B[1;38;5;40m \u001B[0m\n",
       "\u001B[1;38;5;40m                                         > I believe we should also consider how we will measure the\u001B[0m\n",
       "\u001B[1;38;5;40m                                         > success of the simulation once it's completed. Having\u001B[0m\n",
       "\u001B[1;38;5;40m                                         > clear metrics will help us evaluate our strategies\u001B[0m\n",
       "\u001B[1;38;5;40m                                         > effectively. What does everyone think?\u001B[0m\n"
      ],
      "text/html": [
       "<pre style=\"margin:0px;;white-space:pre;overflow-x:auto;line-height:normal;font-family:Menlo,'DejaVu Sans Mono',consolas,'Courier New',monospace\"><span style=\"color: #00d700; text-decoration-color: #00d700; font-weight: bold; text-decoration: underline\">North American Supply Chain Manager</span><span style=\"color: #00d700; text-decoration-color: #00d700; font-weight: bold\"> acts: [TALK] </span>\n",
       "<span style=\"color: #00d700; text-decoration-color: #00d700; font-weight: bold\">                                         &gt; I believe we should also consider how we will measure the</span>\n",
       "<span style=\"color: #00d700; text-decoration-color: #00d700; font-weight: bold\">                                         &gt; success of the simulation once it's completed. Having</span>\n",
       "<span style=\"color: #00d700; text-decoration-color: #00d700; font-weight: bold\">                                         &gt; clear metrics will help us evaluate our strategies</span>\n",
       "<span style=\"color: #00d700; text-decoration-color: #00d700; font-weight: bold\">                                         &gt; effectively. What does everyone think?</span>\n",
       "</pre>\n"
      ]
     },
     "metadata": {},
     "output_type": "display_data"
    },
    {
     "data": {
      "text/plain": [
       "\u001B[4;38;5;252mNorth American Supply Chain Manager\u001B[0m\u001B[38;5;252m acts: \u001B[0m\u001B[1;38;5;252m[\u001B[0m\u001B[38;5;252mDONE\u001B[0m\u001B[1;38;5;252m]\u001B[0m\u001B[38;5;252m \u001B[0m\n",
       "\n"
      ],
      "text/html": [
       "<pre style=\"margin:0px;;white-space:pre;overflow-x:auto;line-height:normal;font-family:Menlo,'DejaVu Sans Mono',consolas,'Courier New',monospace\"><span style=\"color: #d0d0d0; text-decoration-color: #d0d0d0; text-decoration: underline\">North American Supply Chain Manager</span><span style=\"color: #d0d0d0; text-decoration-color: #d0d0d0\"> acts: </span><span style=\"color: #d0d0d0; text-decoration-color: #d0d0d0; font-weight: bold\">[</span><span style=\"color: #d0d0d0; text-decoration-color: #d0d0d0\">DONE</span><span style=\"color: #d0d0d0; text-decoration-color: #d0d0d0; font-weight: bold\">]</span><span style=\"color: #d0d0d0; text-decoration-color: #d0d0d0\"> </span>\n",
       "\n",
       "</pre>\n"
      ]
     },
     "metadata": {},
     "output_type": "display_data"
    },
    {
     "data": {
      "text/plain": [
       "\u001B[1;3;4;38;5;51mNorth American Supply Chain Manager\u001B[0m\u001B[1;3;38;5;51m --> \u001B[0m\u001B[1;3;4;38;5;51mElena Martinez\u001B[0m\u001B[1;3;38;5;51m: \u001B[0m\u001B[1;3;38;5;51m[\u001B[0m\u001B[1;3;38;5;51mCONVERSATION\u001B[0m\u001B[1;3;38;5;51m]\u001B[0m\u001B[1;3;38;5;51m \u001B[0m\n",
       "\u001B[1;3;38;5;51m                                         > I believe we should also consider how we will measure the\u001B[0m\n",
       "\u001B[1;3;38;5;51m                                         > success of the simulation once it's completed. Having\u001B[0m\n",
       "\u001B[1;3;38;5;51m                                         > clear metrics will help us evaluate our strategies\u001B[0m\n",
       "\u001B[1;3;38;5;51m                                         > effectively. What does everyone think?\u001B[0m\n"
      ],
      "text/html": [
       "<pre style=\"margin:0px;;white-space:pre;overflow-x:auto;line-height:normal;font-family:Menlo,'DejaVu Sans Mono',consolas,'Courier New',monospace\"><span style=\"color: #00ffff; text-decoration-color: #00ffff; font-weight: bold; font-style: italic; text-decoration: underline\">North American Supply Chain Manager</span><span style=\"color: #00ffff; text-decoration-color: #00ffff; font-weight: bold; font-style: italic\"> --&gt; </span><span style=\"color: #00ffff; text-decoration-color: #00ffff; font-weight: bold; font-style: italic; text-decoration: underline\">Elena Martinez</span><span style=\"color: #00ffff; text-decoration-color: #00ffff; font-weight: bold; font-style: italic\">: [CONVERSATION] </span>\n",
       "<span style=\"color: #00ffff; text-decoration-color: #00ffff; font-weight: bold; font-style: italic\">                                         &gt; I believe we should also consider how we will measure the</span>\n",
       "<span style=\"color: #00ffff; text-decoration-color: #00ffff; font-weight: bold; font-style: italic\">                                         &gt; success of the simulation once it's completed. Having</span>\n",
       "<span style=\"color: #00ffff; text-decoration-color: #00ffff; font-weight: bold; font-style: italic\">                                         &gt; clear metrics will help us evaluate our strategies</span>\n",
       "<span style=\"color: #00ffff; text-decoration-color: #00ffff; font-weight: bold; font-style: italic\">                                         &gt; effectively. What does everyone think?</span>\n",
       "</pre>\n"
      ]
     },
     "metadata": {},
     "output_type": "display_data"
    },
    {
     "data": {
      "text/plain": [
       "\u001B[1;4;38;5;40mEuropean Supply Chain Manager\u001B[0m\u001B[1;38;5;40m acts: \u001B[0m\u001B[1;38;5;40m[\u001B[0m\u001B[1;38;5;40mTALK\u001B[0m\u001B[1;38;5;40m]\u001B[0m\u001B[1;38;5;40m \u001B[0m\n",
       "\u001B[1;38;5;40m                                   > I think it would also be beneficial to discuss the metrics we\u001B[0m\n",
       "\u001B[1;38;5;40m                                   > will use to evaluate the success of the simulation. This way,\u001B[0m\n",
       "\u001B[1;38;5;40m                                   > we can ensure we have clear goals to measure against. What does\u001B[0m\n",
       "\u001B[1;38;5;40m                                   > everyone think?\u001B[0m\n"
      ],
      "text/html": [
       "<pre style=\"margin:0px;;white-space:pre;overflow-x:auto;line-height:normal;font-family:Menlo,'DejaVu Sans Mono',consolas,'Courier New',monospace\"><span style=\"color: #00d700; text-decoration-color: #00d700; font-weight: bold; text-decoration: underline\">European Supply Chain Manager</span><span style=\"color: #00d700; text-decoration-color: #00d700; font-weight: bold\"> acts: [TALK] </span>\n",
       "<span style=\"color: #00d700; text-decoration-color: #00d700; font-weight: bold\">                                   &gt; I think it would also be beneficial to discuss the metrics we</span>\n",
       "<span style=\"color: #00d700; text-decoration-color: #00d700; font-weight: bold\">                                   &gt; will use to evaluate the success of the simulation. This way,</span>\n",
       "<span style=\"color: #00d700; text-decoration-color: #00d700; font-weight: bold\">                                   &gt; we can ensure we have clear goals to measure against. What does</span>\n",
       "<span style=\"color: #00d700; text-decoration-color: #00d700; font-weight: bold\">                                   &gt; everyone think?</span>\n",
       "</pre>\n"
      ]
     },
     "metadata": {},
     "output_type": "display_data"
    },
    {
     "data": {
      "text/plain": [
       "\u001B[4;38;5;252mEuropean Supply Chain Manager\u001B[0m\u001B[38;5;252m acts: \u001B[0m\u001B[1;38;5;252m[\u001B[0m\u001B[38;5;252mDONE\u001B[0m\u001B[1;38;5;252m]\u001B[0m\u001B[38;5;252m \u001B[0m\n",
       "\n"
      ],
      "text/html": [
       "<pre style=\"margin:0px;;white-space:pre;overflow-x:auto;line-height:normal;font-family:Menlo,'DejaVu Sans Mono',consolas,'Courier New',monospace\"><span style=\"color: #d0d0d0; text-decoration-color: #d0d0d0; text-decoration: underline\">European Supply Chain Manager</span><span style=\"color: #d0d0d0; text-decoration-color: #d0d0d0\"> acts: </span><span style=\"color: #d0d0d0; text-decoration-color: #d0d0d0; font-weight: bold\">[</span><span style=\"color: #d0d0d0; text-decoration-color: #d0d0d0\">DONE</span><span style=\"color: #d0d0d0; text-decoration-color: #d0d0d0; font-weight: bold\">]</span><span style=\"color: #d0d0d0; text-decoration-color: #d0d0d0\"> </span>\n",
       "\n",
       "</pre>\n"
      ]
     },
     "metadata": {},
     "output_type": "display_data"
    },
    {
     "data": {
      "text/plain": [
       "\u001B[1;3;4;38;5;51mEuropean Supply Chain Manager\u001B[0m\u001B[1;3;38;5;51m --> \u001B[0m\u001B[1;3;4;38;5;51mElena Martinez\u001B[0m\u001B[1;3;38;5;51m: \u001B[0m\u001B[1;3;38;5;51m[\u001B[0m\u001B[1;3;38;5;51mCONVERSATION\u001B[0m\u001B[1;3;38;5;51m]\u001B[0m\u001B[1;3;38;5;51m \u001B[0m\n",
       "\u001B[1;3;38;5;51m                                   > I think it would also be beneficial to discuss the metrics we\u001B[0m\n",
       "\u001B[1;3;38;5;51m                                   > will use to evaluate the success of the simulation. This way,\u001B[0m\n",
       "\u001B[1;3;38;5;51m                                   > we can ensure we have clear goals to measure against. What does\u001B[0m\n",
       "\u001B[1;3;38;5;51m                                   > everyone think?\u001B[0m\n"
      ],
      "text/html": [
       "<pre style=\"margin:0px;;white-space:pre;overflow-x:auto;line-height:normal;font-family:Menlo,'DejaVu Sans Mono',consolas,'Courier New',monospace\"><span style=\"color: #00ffff; text-decoration-color: #00ffff; font-weight: bold; font-style: italic; text-decoration: underline\">European Supply Chain Manager</span><span style=\"color: #00ffff; text-decoration-color: #00ffff; font-weight: bold; font-style: italic\"> --&gt; </span><span style=\"color: #00ffff; text-decoration-color: #00ffff; font-weight: bold; font-style: italic; text-decoration: underline\">Elena Martinez</span><span style=\"color: #00ffff; text-decoration-color: #00ffff; font-weight: bold; font-style: italic\">: [CONVERSATION] </span>\n",
       "<span style=\"color: #00ffff; text-decoration-color: #00ffff; font-weight: bold; font-style: italic\">                                   &gt; I think it would also be beneficial to discuss the metrics we</span>\n",
       "<span style=\"color: #00ffff; text-decoration-color: #00ffff; font-weight: bold; font-style: italic\">                                   &gt; will use to evaluate the success of the simulation. This way,</span>\n",
       "<span style=\"color: #00ffff; text-decoration-color: #00ffff; font-weight: bold; font-style: italic\">                                   &gt; we can ensure we have clear goals to measure against. What does</span>\n",
       "<span style=\"color: #00ffff; text-decoration-color: #00ffff; font-weight: bold; font-style: italic\">                                   &gt; everyone think?</span>\n",
       "</pre>\n"
      ]
     },
     "metadata": {},
     "output_type": "display_data"
    },
    {
     "data": {
      "text/plain": [
       "\u001B[1;4;38;5;40mAsian Supply Chain Manager\u001B[0m\u001B[1;38;5;40m acts: \u001B[0m\u001B[1;38;5;40m[\u001B[0m\u001B[1;38;5;40mTALK\u001B[0m\u001B[1;38;5;40m]\u001B[0m\u001B[1;38;5;40m \u001B[0m\n",
       "\u001B[1;38;5;40m                                > I think it would also be beneficial to discuss the metrics we will\u001B[0m\n",
       "\u001B[1;38;5;40m                                > use to evaluate the success of the simulation. This way, we can\u001B[0m\n",
       "\u001B[1;38;5;40m                                > ensure we are aligned on our goals and expectations.\u001B[0m\n"
      ],
      "text/html": [
       "<pre style=\"margin:0px;;white-space:pre;overflow-x:auto;line-height:normal;font-family:Menlo,'DejaVu Sans Mono',consolas,'Courier New',monospace\"><span style=\"color: #00d700; text-decoration-color: #00d700; font-weight: bold; text-decoration: underline\">Asian Supply Chain Manager</span><span style=\"color: #00d700; text-decoration-color: #00d700; font-weight: bold\"> acts: [TALK] </span>\n",
       "<span style=\"color: #00d700; text-decoration-color: #00d700; font-weight: bold\">                                &gt; I think it would also be beneficial to discuss the metrics we will</span>\n",
       "<span style=\"color: #00d700; text-decoration-color: #00d700; font-weight: bold\">                                &gt; use to evaluate the success of the simulation. This way, we can</span>\n",
       "<span style=\"color: #00d700; text-decoration-color: #00d700; font-weight: bold\">                                &gt; ensure we are aligned on our goals and expectations.</span>\n",
       "</pre>\n"
      ]
     },
     "metadata": {},
     "output_type": "display_data"
    },
    {
     "data": {
      "text/plain": [
       "\u001B[4;38;5;252mAsian Supply Chain Manager\u001B[0m\u001B[38;5;252m acts: \u001B[0m\u001B[1;38;5;252m[\u001B[0m\u001B[38;5;252mDONE\u001B[0m\u001B[1;38;5;252m]\u001B[0m\u001B[38;5;252m \u001B[0m\n",
       "\n"
      ],
      "text/html": [
       "<pre style=\"margin:0px;;white-space:pre;overflow-x:auto;line-height:normal;font-family:Menlo,'DejaVu Sans Mono',consolas,'Courier New',monospace\"><span style=\"color: #d0d0d0; text-decoration-color: #d0d0d0; text-decoration: underline\">Asian Supply Chain Manager</span><span style=\"color: #d0d0d0; text-decoration-color: #d0d0d0\"> acts: </span><span style=\"color: #d0d0d0; text-decoration-color: #d0d0d0; font-weight: bold\">[</span><span style=\"color: #d0d0d0; text-decoration-color: #d0d0d0\">DONE</span><span style=\"color: #d0d0d0; text-decoration-color: #d0d0d0; font-weight: bold\">]</span><span style=\"color: #d0d0d0; text-decoration-color: #d0d0d0\"> </span>\n",
       "\n",
       "</pre>\n"
      ]
     },
     "metadata": {},
     "output_type": "display_data"
    },
    {
     "data": {
      "text/plain": [
       "\u001B[1;3;4;38;5;51mAsian Supply Chain Manager\u001B[0m\u001B[1;3;38;5;51m --> \u001B[0m\u001B[1;3;4;38;5;51mElena Martinez\u001B[0m\u001B[1;3;38;5;51m: \u001B[0m\u001B[1;3;38;5;51m[\u001B[0m\u001B[1;3;38;5;51mCONVERSATION\u001B[0m\u001B[1;3;38;5;51m]\u001B[0m\u001B[1;3;38;5;51m \u001B[0m\n",
       "\u001B[1;3;38;5;51m                                > I think it would also be beneficial to discuss the metrics we will\u001B[0m\n",
       "\u001B[1;3;38;5;51m                                > use to evaluate the success of the simulation. This way, we can\u001B[0m\n",
       "\u001B[1;3;38;5;51m                                > ensure we are aligned on our goals and expectations.\u001B[0m\n"
      ],
      "text/html": [
       "<pre style=\"margin:0px;;white-space:pre;overflow-x:auto;line-height:normal;font-family:Menlo,'DejaVu Sans Mono',consolas,'Courier New',monospace\"><span style=\"color: #00ffff; text-decoration-color: #00ffff; font-weight: bold; font-style: italic; text-decoration: underline\">Asian Supply Chain Manager</span><span style=\"color: #00ffff; text-decoration-color: #00ffff; font-weight: bold; font-style: italic\"> --&gt; </span><span style=\"color: #00ffff; text-decoration-color: #00ffff; font-weight: bold; font-style: italic; text-decoration: underline\">Elena Martinez</span><span style=\"color: #00ffff; text-decoration-color: #00ffff; font-weight: bold; font-style: italic\">: [CONVERSATION] </span>\n",
       "<span style=\"color: #00ffff; text-decoration-color: #00ffff; font-weight: bold; font-style: italic\">                                &gt; I think it would also be beneficial to discuss the metrics we will</span>\n",
       "<span style=\"color: #00ffff; text-decoration-color: #00ffff; font-weight: bold; font-style: italic\">                                &gt; use to evaluate the success of the simulation. This way, we can</span>\n",
       "<span style=\"color: #00ffff; text-decoration-color: #00ffff; font-weight: bold; font-style: italic\">                                &gt; ensure we are aligned on our goals and expectations.</span>\n",
       "</pre>\n"
      ]
     },
     "metadata": {},
     "output_type": "display_data"
    },
    {
     "data": {
      "text/plain": [
       "\u001B[1;4;38;5;40mSupplier A\u001B[0m\u001B[1;38;5;40m acts: \u001B[0m\u001B[1;38;5;40m[\u001B[0m\u001B[1;38;5;40mTALK\u001B[0m\u001B[1;38;5;40m]\u001B[0m\u001B[1;38;5;40m \u001B[0m\n",
       "\u001B[1;38;5;40m                > I think it would also be beneficial to discuss the metrics we will use to evaluate\u001B[0m\n",
       "\u001B[1;38;5;40m                > the success of the simulation. This way, we can ensure we have clear goals for our\u001B[0m\n",
       "\u001B[1;38;5;40m                > outcomes. What does everyone think?\u001B[0m\n"
      ],
      "text/html": [
       "<pre style=\"margin:0px;;white-space:pre;overflow-x:auto;line-height:normal;font-family:Menlo,'DejaVu Sans Mono',consolas,'Courier New',monospace\"><span style=\"color: #00d700; text-decoration-color: #00d700; font-weight: bold; text-decoration: underline\">Supplier A</span><span style=\"color: #00d700; text-decoration-color: #00d700; font-weight: bold\"> acts: [TALK] </span>\n",
       "<span style=\"color: #00d700; text-decoration-color: #00d700; font-weight: bold\">                &gt; I think it would also be beneficial to discuss the metrics we will use to evaluate</span>\n",
       "<span style=\"color: #00d700; text-decoration-color: #00d700; font-weight: bold\">                &gt; the success of the simulation. This way, we can ensure we have clear goals for our</span>\n",
       "<span style=\"color: #00d700; text-decoration-color: #00d700; font-weight: bold\">                &gt; outcomes. What does everyone think?</span>\n",
       "</pre>\n"
      ]
     },
     "metadata": {},
     "output_type": "display_data"
    },
    {
     "data": {
      "text/plain": [
       "\u001B[4;38;5;252mSupplier A\u001B[0m\u001B[38;5;252m acts: \u001B[0m\u001B[1;38;5;252m[\u001B[0m\u001B[38;5;252mDONE\u001B[0m\u001B[1;38;5;252m]\u001B[0m\u001B[38;5;252m \u001B[0m\n",
       "\n"
      ],
      "text/html": [
       "<pre style=\"margin:0px;;white-space:pre;overflow-x:auto;line-height:normal;font-family:Menlo,'DejaVu Sans Mono',consolas,'Courier New',monospace\"><span style=\"color: #d0d0d0; text-decoration-color: #d0d0d0; text-decoration: underline\">Supplier A</span><span style=\"color: #d0d0d0; text-decoration-color: #d0d0d0\"> acts: </span><span style=\"color: #d0d0d0; text-decoration-color: #d0d0d0; font-weight: bold\">[</span><span style=\"color: #d0d0d0; text-decoration-color: #d0d0d0\">DONE</span><span style=\"color: #d0d0d0; text-decoration-color: #d0d0d0; font-weight: bold\">]</span><span style=\"color: #d0d0d0; text-decoration-color: #d0d0d0\"> </span>\n",
       "\n",
       "</pre>\n"
      ]
     },
     "metadata": {},
     "output_type": "display_data"
    },
    {
     "data": {
      "text/plain": [
       "\u001B[1;3;4;38;5;51mSupplier A\u001B[0m\u001B[1;3;38;5;51m --> \u001B[0m\u001B[1;3;4;38;5;51mElena Martinez\u001B[0m\u001B[1;3;38;5;51m: \u001B[0m\u001B[1;3;38;5;51m[\u001B[0m\u001B[1;3;38;5;51mCONVERSATION\u001B[0m\u001B[1;3;38;5;51m]\u001B[0m\u001B[1;3;38;5;51m \u001B[0m\n",
       "\u001B[1;3;38;5;51m                > I think it would also be beneficial to discuss the metrics we will use to evaluate\u001B[0m\n",
       "\u001B[1;3;38;5;51m                > the success of the simulation. This way, we can ensure we have clear goals for our\u001B[0m\n",
       "\u001B[1;3;38;5;51m                > outcomes. What does everyone think?\u001B[0m\n"
      ],
      "text/html": [
       "<pre style=\"margin:0px;;white-space:pre;overflow-x:auto;line-height:normal;font-family:Menlo,'DejaVu Sans Mono',consolas,'Courier New',monospace\"><span style=\"color: #00ffff; text-decoration-color: #00ffff; font-weight: bold; font-style: italic; text-decoration: underline\">Supplier A</span><span style=\"color: #00ffff; text-decoration-color: #00ffff; font-weight: bold; font-style: italic\"> --&gt; </span><span style=\"color: #00ffff; text-decoration-color: #00ffff; font-weight: bold; font-style: italic; text-decoration: underline\">Elena Martinez</span><span style=\"color: #00ffff; text-decoration-color: #00ffff; font-weight: bold; font-style: italic\">: [CONVERSATION] </span>\n",
       "<span style=\"color: #00ffff; text-decoration-color: #00ffff; font-weight: bold; font-style: italic\">                &gt; I think it would also be beneficial to discuss the metrics we will use to evaluate</span>\n",
       "<span style=\"color: #00ffff; text-decoration-color: #00ffff; font-weight: bold; font-style: italic\">                &gt; the success of the simulation. This way, we can ensure we have clear goals for our</span>\n",
       "<span style=\"color: #00ffff; text-decoration-color: #00ffff; font-weight: bold; font-style: italic\">                &gt; outcomes. What does everyone think?</span>\n",
       "</pre>\n"
      ]
     },
     "metadata": {},
     "output_type": "display_data"
    },
    {
     "data": {
      "text/plain": [
       "\u001B[4;32mOcean Freight Carrier A\u001B[0m\u001B[32m acts: \u001B[0m\u001B[1;32m[\u001B[0m\u001B[32mTHINK\u001B[0m\u001B[1;32m]\u001B[0m\u001B[32m \u001B[0m\n",
       "\u001B[32m                             > Elena is incorporating our suggestions into the agenda, which is\u001B[0m\n",
       "\u001B[32m                             > great. I should think about any final points or questions I might\u001B[0m\n",
       "\u001B[32m                             > have before the meeting.\u001B[0m\n"
      ],
      "text/html": [
       "<pre style=\"margin:0px;;white-space:pre;overflow-x:auto;line-height:normal;font-family:Menlo,'DejaVu Sans Mono',consolas,'Courier New',monospace\"><span style=\"color: #008000; text-decoration-color: #008000; text-decoration: underline\">Ocean Freight Carrier A</span><span style=\"color: #008000; text-decoration-color: #008000\"> acts: </span><span style=\"color: #008000; text-decoration-color: #008000; font-weight: bold\">[</span><span style=\"color: #008000; text-decoration-color: #008000\">THINK</span><span style=\"color: #008000; text-decoration-color: #008000; font-weight: bold\">]</span><span style=\"color: #008000; text-decoration-color: #008000\"> </span>\n",
       "<span style=\"color: #008000; text-decoration-color: #008000\">                             &gt; Elena is incorporating our suggestions into the agenda, which is</span>\n",
       "<span style=\"color: #008000; text-decoration-color: #008000\">                             &gt; great. I should think about any final points or questions I might</span>\n",
       "<span style=\"color: #008000; text-decoration-color: #008000\">                             &gt; have before the meeting.</span>\n",
       "</pre>\n"
      ]
     },
     "metadata": {},
     "output_type": "display_data"
    },
    {
     "data": {
      "text/plain": [
       "\u001B[1;4;38;5;40mOcean Freight Carrier A\u001B[0m\u001B[1;38;5;40m acts: \u001B[0m\u001B[1;38;5;40m[\u001B[0m\u001B[1;38;5;40mTALK\u001B[0m\u001B[1;38;5;40m]\u001B[0m\u001B[1;38;5;40m \u001B[0m\n",
       "\u001B[1;38;5;40m                             > I think it would also be beneficial to discuss how we will measure\u001B[0m\n",
       "\u001B[1;38;5;40m                             > the success of the simulation once it's implemented. This could help\u001B[0m\n",
       "\u001B[1;38;5;40m                             > us evaluate its effectiveness in real-time.\u001B[0m\n"
      ],
      "text/html": [
       "<pre style=\"margin:0px;;white-space:pre;overflow-x:auto;line-height:normal;font-family:Menlo,'DejaVu Sans Mono',consolas,'Courier New',monospace\"><span style=\"color: #00d700; text-decoration-color: #00d700; font-weight: bold; text-decoration: underline\">Ocean Freight Carrier A</span><span style=\"color: #00d700; text-decoration-color: #00d700; font-weight: bold\"> acts: [TALK] </span>\n",
       "<span style=\"color: #00d700; text-decoration-color: #00d700; font-weight: bold\">                             &gt; I think it would also be beneficial to discuss how we will measure</span>\n",
       "<span style=\"color: #00d700; text-decoration-color: #00d700; font-weight: bold\">                             &gt; the success of the simulation once it's implemented. This could help</span>\n",
       "<span style=\"color: #00d700; text-decoration-color: #00d700; font-weight: bold\">                             &gt; us evaluate its effectiveness in real-time.</span>\n",
       "</pre>\n"
      ]
     },
     "metadata": {},
     "output_type": "display_data"
    },
    {
     "data": {
      "text/plain": [
       "\u001B[4;38;5;252mOcean Freight Carrier A\u001B[0m\u001B[38;5;252m acts: \u001B[0m\u001B[1;38;5;252m[\u001B[0m\u001B[38;5;252mDONE\u001B[0m\u001B[1;38;5;252m]\u001B[0m\u001B[38;5;252m \u001B[0m\n",
       "\n"
      ],
      "text/html": [
       "<pre style=\"margin:0px;;white-space:pre;overflow-x:auto;line-height:normal;font-family:Menlo,'DejaVu Sans Mono',consolas,'Courier New',monospace\"><span style=\"color: #d0d0d0; text-decoration-color: #d0d0d0; text-decoration: underline\">Ocean Freight Carrier A</span><span style=\"color: #d0d0d0; text-decoration-color: #d0d0d0\"> acts: </span><span style=\"color: #d0d0d0; text-decoration-color: #d0d0d0; font-weight: bold\">[</span><span style=\"color: #d0d0d0; text-decoration-color: #d0d0d0\">DONE</span><span style=\"color: #d0d0d0; text-decoration-color: #d0d0d0; font-weight: bold\">]</span><span style=\"color: #d0d0d0; text-decoration-color: #d0d0d0\"> </span>\n",
       "\n",
       "</pre>\n"
      ]
     },
     "metadata": {},
     "output_type": "display_data"
    },
    {
     "data": {
      "text/plain": [
       "\u001B[1;3;4;38;5;51mOcean Freight Carrier A\u001B[0m\u001B[1;3;38;5;51m --> \u001B[0m\u001B[1;3;4;38;5;51mElena Martinez\u001B[0m\u001B[1;3;38;5;51m: \u001B[0m\u001B[1;3;38;5;51m[\u001B[0m\u001B[1;3;38;5;51mCONVERSATION\u001B[0m\u001B[1;3;38;5;51m]\u001B[0m\u001B[1;3;38;5;51m \u001B[0m\n",
       "\u001B[1;3;38;5;51m                             > I think it would also be beneficial to discuss how we will measure\u001B[0m\n",
       "\u001B[1;3;38;5;51m                             > the success of the simulation once it's implemented. This could help\u001B[0m\n",
       "\u001B[1;3;38;5;51m                             > us evaluate its effectiveness in real-time.\u001B[0m\n"
      ],
      "text/html": [
       "<pre style=\"margin:0px;;white-space:pre;overflow-x:auto;line-height:normal;font-family:Menlo,'DejaVu Sans Mono',consolas,'Courier New',monospace\"><span style=\"color: #00ffff; text-decoration-color: #00ffff; font-weight: bold; font-style: italic; text-decoration: underline\">Ocean Freight Carrier A</span><span style=\"color: #00ffff; text-decoration-color: #00ffff; font-weight: bold; font-style: italic\"> --&gt; </span><span style=\"color: #00ffff; text-decoration-color: #00ffff; font-weight: bold; font-style: italic; text-decoration: underline\">Elena Martinez</span><span style=\"color: #00ffff; text-decoration-color: #00ffff; font-weight: bold; font-style: italic\">: [CONVERSATION] </span>\n",
       "<span style=\"color: #00ffff; text-decoration-color: #00ffff; font-weight: bold; font-style: italic\">                             &gt; I think it would also be beneficial to discuss how we will measure</span>\n",
       "<span style=\"color: #00ffff; text-decoration-color: #00ffff; font-weight: bold; font-style: italic\">                             &gt; the success of the simulation once it's implemented. This could help</span>\n",
       "<span style=\"color: #00ffff; text-decoration-color: #00ffff; font-weight: bold; font-style: italic\">                             &gt; us evaluate its effectiveness in real-time.</span>\n",
       "</pre>\n"
      ]
     },
     "metadata": {},
     "output_type": "display_data"
    },
    {
     "data": {
      "text/plain": [
       "\u001B[92m──────────────────────────────────────── \u001B[0mGlobal Supply Network step \u001B[1;36m5\u001B[0m of \u001B[1;36m5\u001B[0m\u001B[92m ────────────────────────────────────────\u001B[0m\n"
      ],
      "text/html": [
       "<pre style=\"margin:0px;;white-space:pre;overflow-x:auto;line-height:normal;font-family:Menlo,'DejaVu Sans Mono',consolas,'Courier New',monospace\"><span style=\"color: #00ff00; text-decoration-color: #00ff00\">──────────────────────────────────────── </span>Global Supply Network step <span style=\"color: #008080; text-decoration-color: #008080; font-weight: bold\">5</span> of <span style=\"color: #008080; text-decoration-color: #008080; font-weight: bold\">5</span><span style=\"color: #00ff00; text-decoration-color: #00ff00\"> ────────────────────────────────────────</span>\n",
       "</pre>\n"
      ]
     },
     "metadata": {},
     "output_type": "display_data"
    },
    {
     "data": {
      "text/plain": [
       "\u001B[4;32mElena Martinez\u001B[0m\u001B[32m acts: \u001B[0m\u001B[1;32m[\u001B[0m\u001B[32mTHINK\u001B[0m\u001B[1;32m]\u001B[0m\u001B[32m \u001B[0m\n",
       "\u001B[32m                    > The team has raised an important point about discussing metrics for evaluating\u001B[0m\n",
       "\u001B[32m                    > the success of the simulation. I need to add this to our agenda to ensure we\u001B[0m\n",
       "\u001B[32m                    > have clear goals and expectations for our outcomes.\u001B[0m\n"
      ],
      "text/html": [
       "<pre style=\"margin:0px;;white-space:pre;overflow-x:auto;line-height:normal;font-family:Menlo,'DejaVu Sans Mono',consolas,'Courier New',monospace\"><span style=\"color: #008000; text-decoration-color: #008000; text-decoration: underline\">Elena Martinez</span><span style=\"color: #008000; text-decoration-color: #008000\"> acts: </span><span style=\"color: #008000; text-decoration-color: #008000; font-weight: bold\">[</span><span style=\"color: #008000; text-decoration-color: #008000\">THINK</span><span style=\"color: #008000; text-decoration-color: #008000; font-weight: bold\">]</span><span style=\"color: #008000; text-decoration-color: #008000\"> </span>\n",
       "<span style=\"color: #008000; text-decoration-color: #008000\">                    &gt; The team has raised an important point about discussing metrics for evaluating</span>\n",
       "<span style=\"color: #008000; text-decoration-color: #008000\">                    &gt; the success of the simulation. I need to add this to our agenda to ensure we</span>\n",
       "<span style=\"color: #008000; text-decoration-color: #008000\">                    &gt; have clear goals and expectations for our outcomes.</span>\n",
       "</pre>\n"
      ]
     },
     "metadata": {},
     "output_type": "display_data"
    },
    {
     "data": {
      "text/plain": [
       "\u001B[1;4;38;5;40mElena Martinez\u001B[0m\u001B[1;38;5;40m acts: \u001B[0m\u001B[1;38;5;40m[\u001B[0m\u001B[1;38;5;40mTALK\u001B[0m\u001B[1;38;5;40m]\u001B[0m\u001B[1;38;5;40m \u001B[0m\n",
       "\u001B[1;38;5;40m                    > Great point! I will add a discussion on the metrics we will use to evaluate\u001B[0m\n",
       "\u001B[1;38;5;40m                    > the success of the simulation to our agenda. This will help us align on our\u001B[0m\n",
       "\u001B[1;38;5;40m                    > goals and expectations. Is there anything else anyone would like to include?\u001B[0m\n"
      ],
      "text/html": [
       "<pre style=\"margin:0px;;white-space:pre;overflow-x:auto;line-height:normal;font-family:Menlo,'DejaVu Sans Mono',consolas,'Courier New',monospace\"><span style=\"color: #00d700; text-decoration-color: #00d700; font-weight: bold; text-decoration: underline\">Elena Martinez</span><span style=\"color: #00d700; text-decoration-color: #00d700; font-weight: bold\"> acts: [TALK] </span>\n",
       "<span style=\"color: #00d700; text-decoration-color: #00d700; font-weight: bold\">                    &gt; Great point! I will add a discussion on the metrics we will use to evaluate</span>\n",
       "<span style=\"color: #00d700; text-decoration-color: #00d700; font-weight: bold\">                    &gt; the success of the simulation to our agenda. This will help us align on our</span>\n",
       "<span style=\"color: #00d700; text-decoration-color: #00d700; font-weight: bold\">                    &gt; goals and expectations. Is there anything else anyone would like to include?</span>\n",
       "</pre>\n"
      ]
     },
     "metadata": {},
     "output_type": "display_data"
    },
    {
     "data": {
      "text/plain": [
       "\u001B[4;38;5;252mElena Martinez\u001B[0m\u001B[38;5;252m acts: \u001B[0m\u001B[1;38;5;252m[\u001B[0m\u001B[38;5;252mDONE\u001B[0m\u001B[1;38;5;252m]\u001B[0m\u001B[38;5;252m \u001B[0m\n",
       "\n"
      ],
      "text/html": [
       "<pre style=\"margin:0px;;white-space:pre;overflow-x:auto;line-height:normal;font-family:Menlo,'DejaVu Sans Mono',consolas,'Courier New',monospace\"><span style=\"color: #d0d0d0; text-decoration-color: #d0d0d0; text-decoration: underline\">Elena Martinez</span><span style=\"color: #d0d0d0; text-decoration-color: #d0d0d0\"> acts: </span><span style=\"color: #d0d0d0; text-decoration-color: #d0d0d0; font-weight: bold\">[</span><span style=\"color: #d0d0d0; text-decoration-color: #d0d0d0\">DONE</span><span style=\"color: #d0d0d0; text-decoration-color: #d0d0d0; font-weight: bold\">]</span><span style=\"color: #d0d0d0; text-decoration-color: #d0d0d0\"> </span>\n",
       "\n",
       "</pre>\n"
      ]
     },
     "metadata": {},
     "output_type": "display_data"
    },
    {
     "data": {
      "text/plain": [
       "\u001B[1;3;4;38;5;51mElena Martinez\u001B[0m\u001B[1;3;38;5;51m --> \u001B[0m\u001B[1;3;4;38;5;51mNorth American Supply Chain Manager\u001B[0m\u001B[1;3;38;5;51m: \u001B[0m\u001B[1;3;38;5;51m[\u001B[0m\u001B[1;3;38;5;51mCONVERSATION\u001B[0m\u001B[1;3;38;5;51m]\u001B[0m\u001B[1;3;38;5;51m \u001B[0m\n",
       "\u001B[1;3;38;5;51m                    > Great point! I will add a discussion on the metrics we will use to evaluate\u001B[0m\n",
       "\u001B[1;3;38;5;51m                    > the success of the simulation to our agenda. This will help us align on our\u001B[0m\n",
       "\u001B[1;3;38;5;51m                    > goals and expectations. Is there anything else anyone would like to include?\u001B[0m\n"
      ],
      "text/html": [
       "<pre style=\"margin:0px;;white-space:pre;overflow-x:auto;line-height:normal;font-family:Menlo,'DejaVu Sans Mono',consolas,'Courier New',monospace\"><span style=\"color: #00ffff; text-decoration-color: #00ffff; font-weight: bold; font-style: italic; text-decoration: underline\">Elena Martinez</span><span style=\"color: #00ffff; text-decoration-color: #00ffff; font-weight: bold; font-style: italic\"> --&gt; </span><span style=\"color: #00ffff; text-decoration-color: #00ffff; font-weight: bold; font-style: italic; text-decoration: underline\">North American Supply Chain Manager</span><span style=\"color: #00ffff; text-decoration-color: #00ffff; font-weight: bold; font-style: italic\">: [CONVERSATION] </span>\n",
       "<span style=\"color: #00ffff; text-decoration-color: #00ffff; font-weight: bold; font-style: italic\">                    &gt; Great point! I will add a discussion on the metrics we will use to evaluate</span>\n",
       "<span style=\"color: #00ffff; text-decoration-color: #00ffff; font-weight: bold; font-style: italic\">                    &gt; the success of the simulation to our agenda. This will help us align on our</span>\n",
       "<span style=\"color: #00ffff; text-decoration-color: #00ffff; font-weight: bold; font-style: italic\">                    &gt; goals and expectations. Is there anything else anyone would like to include?</span>\n",
       "</pre>\n"
      ]
     },
     "metadata": {},
     "output_type": "display_data"
    },
    {
     "data": {
      "text/plain": [
       "              \u001B[1;3;38;5;51m       + --> \u001B[0m\u001B[1;3;4;38;5;51mEuropean Supply Chain Manager\u001B[0m\n"
      ],
      "text/html": [
       "<pre style=\"margin:0px;;white-space:pre;overflow-x:auto;line-height:normal;font-family:Menlo,'DejaVu Sans Mono',consolas,'Courier New',monospace\">              <span style=\"color: #00ffff; text-decoration-color: #00ffff; font-weight: bold; font-style: italic\">       + --&gt; </span><span style=\"color: #00ffff; text-decoration-color: #00ffff; font-weight: bold; font-style: italic; text-decoration: underline\">European Supply Chain Manager</span>\n",
       "</pre>\n"
      ]
     },
     "metadata": {},
     "output_type": "display_data"
    },
    {
     "data": {
      "text/plain": [
       "              \u001B[1;3;38;5;51m       + --> \u001B[0m\u001B[1;3;4;38;5;51mAsian Supply Chain Manager\u001B[0m\n"
      ],
      "text/html": [
       "<pre style=\"margin:0px;;white-space:pre;overflow-x:auto;line-height:normal;font-family:Menlo,'DejaVu Sans Mono',consolas,'Courier New',monospace\">              <span style=\"color: #00ffff; text-decoration-color: #00ffff; font-weight: bold; font-style: italic\">       + --&gt; </span><span style=\"color: #00ffff; text-decoration-color: #00ffff; font-weight: bold; font-style: italic; text-decoration: underline\">Asian Supply Chain Manager</span>\n",
       "</pre>\n"
      ]
     },
     "metadata": {},
     "output_type": "display_data"
    },
    {
     "data": {
      "text/plain": [
       "              \u001B[1;3;38;5;51m       + --> \u001B[0m\u001B[1;3;38;5;51m...\u001B[0m\u001B[1;3;38;5;51mothers\u001B[0m\u001B[1;3;38;5;51m...\u001B[0m\n"
      ],
      "text/html": [
       "<pre style=\"margin:0px;;white-space:pre;overflow-x:auto;line-height:normal;font-family:Menlo,'DejaVu Sans Mono',consolas,'Courier New',monospace\">              <span style=\"color: #00ffff; text-decoration-color: #00ffff; font-weight: bold; font-style: italic\">       + --&gt; ...others...</span>\n",
       "</pre>\n"
      ]
     },
     "metadata": {},
     "output_type": "display_data"
    },
    {
     "data": {
      "text/plain": [
       "\u001B[1;4;38;5;40mNorth American Supply Chain Manager\u001B[0m\u001B[1;38;5;40m acts: \u001B[0m\u001B[1;38;5;40m[\u001B[0m\u001B[1;38;5;40mTALK\u001B[0m\u001B[1;38;5;40m]\u001B[0m\u001B[1;38;5;40m \u001B[0m\n",
       "\u001B[1;38;5;40m                                         > I think we should also discuss the timeline for\u001B[0m\n",
       "\u001B[1;38;5;40m                                         > implementing the strategies we decide on during the\u001B[0m\n",
       "\u001B[1;38;5;40m                                         > simulation. Having a clear timeline will help us stay on\u001B[0m\n",
       "\u001B[1;38;5;40m                                         > track. What does everyone think?\u001B[0m\n"
      ],
      "text/html": [
       "<pre style=\"margin:0px;;white-space:pre;overflow-x:auto;line-height:normal;font-family:Menlo,'DejaVu Sans Mono',consolas,'Courier New',monospace\"><span style=\"color: #00d700; text-decoration-color: #00d700; font-weight: bold; text-decoration: underline\">North American Supply Chain Manager</span><span style=\"color: #00d700; text-decoration-color: #00d700; font-weight: bold\"> acts: [TALK] </span>\n",
       "<span style=\"color: #00d700; text-decoration-color: #00d700; font-weight: bold\">                                         &gt; I think we should also discuss the timeline for</span>\n",
       "<span style=\"color: #00d700; text-decoration-color: #00d700; font-weight: bold\">                                         &gt; implementing the strategies we decide on during the</span>\n",
       "<span style=\"color: #00d700; text-decoration-color: #00d700; font-weight: bold\">                                         &gt; simulation. Having a clear timeline will help us stay on</span>\n",
       "<span style=\"color: #00d700; text-decoration-color: #00d700; font-weight: bold\">                                         &gt; track. What does everyone think?</span>\n",
       "</pre>\n"
      ]
     },
     "metadata": {},
     "output_type": "display_data"
    },
    {
     "data": {
      "text/plain": [
       "\u001B[4;38;5;252mNorth American Supply Chain Manager\u001B[0m\u001B[38;5;252m acts: \u001B[0m\u001B[1;38;5;252m[\u001B[0m\u001B[38;5;252mDONE\u001B[0m\u001B[1;38;5;252m]\u001B[0m\u001B[38;5;252m \u001B[0m\n",
       "\n"
      ],
      "text/html": [
       "<pre style=\"margin:0px;;white-space:pre;overflow-x:auto;line-height:normal;font-family:Menlo,'DejaVu Sans Mono',consolas,'Courier New',monospace\"><span style=\"color: #d0d0d0; text-decoration-color: #d0d0d0; text-decoration: underline\">North American Supply Chain Manager</span><span style=\"color: #d0d0d0; text-decoration-color: #d0d0d0\"> acts: </span><span style=\"color: #d0d0d0; text-decoration-color: #d0d0d0; font-weight: bold\">[</span><span style=\"color: #d0d0d0; text-decoration-color: #d0d0d0\">DONE</span><span style=\"color: #d0d0d0; text-decoration-color: #d0d0d0; font-weight: bold\">]</span><span style=\"color: #d0d0d0; text-decoration-color: #d0d0d0\"> </span>\n",
       "\n",
       "</pre>\n"
      ]
     },
     "metadata": {},
     "output_type": "display_data"
    },
    {
     "data": {
      "text/plain": [
       "\u001B[1;3;4;38;5;51mNorth American Supply Chain Manager\u001B[0m\u001B[1;3;38;5;51m --> \u001B[0m\u001B[1;3;4;38;5;51mElena Martinez\u001B[0m\u001B[1;3;38;5;51m: \u001B[0m\u001B[1;3;38;5;51m[\u001B[0m\u001B[1;3;38;5;51mCONVERSATION\u001B[0m\u001B[1;3;38;5;51m]\u001B[0m\u001B[1;3;38;5;51m \u001B[0m\n",
       "\u001B[1;3;38;5;51m                                         > I think we should also discuss the timeline for\u001B[0m\n",
       "\u001B[1;3;38;5;51m                                         > implementing the strategies we decide on during the\u001B[0m\n",
       "\u001B[1;3;38;5;51m                                         > simulation. Having a clear timeline will help us stay on\u001B[0m\n",
       "\u001B[1;3;38;5;51m                                         > track. What does everyone think?\u001B[0m\n"
      ],
      "text/html": [
       "<pre style=\"margin:0px;;white-space:pre;overflow-x:auto;line-height:normal;font-family:Menlo,'DejaVu Sans Mono',consolas,'Courier New',monospace\"><span style=\"color: #00ffff; text-decoration-color: #00ffff; font-weight: bold; font-style: italic; text-decoration: underline\">North American Supply Chain Manager</span><span style=\"color: #00ffff; text-decoration-color: #00ffff; font-weight: bold; font-style: italic\"> --&gt; </span><span style=\"color: #00ffff; text-decoration-color: #00ffff; font-weight: bold; font-style: italic; text-decoration: underline\">Elena Martinez</span><span style=\"color: #00ffff; text-decoration-color: #00ffff; font-weight: bold; font-style: italic\">: [CONVERSATION] </span>\n",
       "<span style=\"color: #00ffff; text-decoration-color: #00ffff; font-weight: bold; font-style: italic\">                                         &gt; I think we should also discuss the timeline for</span>\n",
       "<span style=\"color: #00ffff; text-decoration-color: #00ffff; font-weight: bold; font-style: italic\">                                         &gt; implementing the strategies we decide on during the</span>\n",
       "<span style=\"color: #00ffff; text-decoration-color: #00ffff; font-weight: bold; font-style: italic\">                                         &gt; simulation. Having a clear timeline will help us stay on</span>\n",
       "<span style=\"color: #00ffff; text-decoration-color: #00ffff; font-weight: bold; font-style: italic\">                                         &gt; track. What does everyone think?</span>\n",
       "</pre>\n"
      ]
     },
     "metadata": {},
     "output_type": "display_data"
    },
    {
     "data": {
      "text/plain": [
       "\u001B[1;4;38;5;40mEuropean Supply Chain Manager\u001B[0m\u001B[1;38;5;40m acts: \u001B[0m\u001B[1;38;5;40m[\u001B[0m\u001B[1;38;5;40mTALK\u001B[0m\u001B[1;38;5;40m]\u001B[0m\u001B[1;38;5;40m \u001B[0m\n",
       "\u001B[1;38;5;40m                                   > I believe we should also consider how we will communicate the\u001B[0m\n",
       "\u001B[1;38;5;40m                                   > results of the simulation to stakeholders. It’s important to\u001B[0m\n",
       "\u001B[1;38;5;40m                                   > have a plan for sharing our findings effectively. What does\u001B[0m\n",
       "\u001B[1;38;5;40m                                   > everyone think?\u001B[0m\n"
      ],
      "text/html": [
       "<pre style=\"margin:0px;;white-space:pre;overflow-x:auto;line-height:normal;font-family:Menlo,'DejaVu Sans Mono',consolas,'Courier New',monospace\"><span style=\"color: #00d700; text-decoration-color: #00d700; font-weight: bold; text-decoration: underline\">European Supply Chain Manager</span><span style=\"color: #00d700; text-decoration-color: #00d700; font-weight: bold\"> acts: [TALK] </span>\n",
       "<span style=\"color: #00d700; text-decoration-color: #00d700; font-weight: bold\">                                   &gt; I believe we should also consider how we will communicate the</span>\n",
       "<span style=\"color: #00d700; text-decoration-color: #00d700; font-weight: bold\">                                   &gt; results of the simulation to stakeholders. It’s important to</span>\n",
       "<span style=\"color: #00d700; text-decoration-color: #00d700; font-weight: bold\">                                   &gt; have a plan for sharing our findings effectively. What does</span>\n",
       "<span style=\"color: #00d700; text-decoration-color: #00d700; font-weight: bold\">                                   &gt; everyone think?</span>\n",
       "</pre>\n"
      ]
     },
     "metadata": {},
     "output_type": "display_data"
    },
    {
     "data": {
      "text/plain": [
       "\u001B[4;38;5;252mEuropean Supply Chain Manager\u001B[0m\u001B[38;5;252m acts: \u001B[0m\u001B[1;38;5;252m[\u001B[0m\u001B[38;5;252mDONE\u001B[0m\u001B[1;38;5;252m]\u001B[0m\u001B[38;5;252m \u001B[0m\n",
       "\n"
      ],
      "text/html": [
       "<pre style=\"margin:0px;;white-space:pre;overflow-x:auto;line-height:normal;font-family:Menlo,'DejaVu Sans Mono',consolas,'Courier New',monospace\"><span style=\"color: #d0d0d0; text-decoration-color: #d0d0d0; text-decoration: underline\">European Supply Chain Manager</span><span style=\"color: #d0d0d0; text-decoration-color: #d0d0d0\"> acts: </span><span style=\"color: #d0d0d0; text-decoration-color: #d0d0d0; font-weight: bold\">[</span><span style=\"color: #d0d0d0; text-decoration-color: #d0d0d0\">DONE</span><span style=\"color: #d0d0d0; text-decoration-color: #d0d0d0; font-weight: bold\">]</span><span style=\"color: #d0d0d0; text-decoration-color: #d0d0d0\"> </span>\n",
       "\n",
       "</pre>\n"
      ]
     },
     "metadata": {},
     "output_type": "display_data"
    },
    {
     "data": {
      "text/plain": [
       "\u001B[1;3;4;38;5;51mEuropean Supply Chain Manager\u001B[0m\u001B[1;3;38;5;51m --> \u001B[0m\u001B[1;3;4;38;5;51mElena Martinez\u001B[0m\u001B[1;3;38;5;51m: \u001B[0m\u001B[1;3;38;5;51m[\u001B[0m\u001B[1;3;38;5;51mCONVERSATION\u001B[0m\u001B[1;3;38;5;51m]\u001B[0m\u001B[1;3;38;5;51m \u001B[0m\n",
       "\u001B[1;3;38;5;51m                                   > I believe we should also consider how we will communicate the\u001B[0m\n",
       "\u001B[1;3;38;5;51m                                   > results of the simulation to stakeholders. It’s important to\u001B[0m\n",
       "\u001B[1;3;38;5;51m                                   > have a plan for sharing our findings effectively. What does\u001B[0m\n",
       "\u001B[1;3;38;5;51m                                   > everyone think?\u001B[0m\n"
      ],
      "text/html": [
       "<pre style=\"margin:0px;;white-space:pre;overflow-x:auto;line-height:normal;font-family:Menlo,'DejaVu Sans Mono',consolas,'Courier New',monospace\"><span style=\"color: #00ffff; text-decoration-color: #00ffff; font-weight: bold; font-style: italic; text-decoration: underline\">European Supply Chain Manager</span><span style=\"color: #00ffff; text-decoration-color: #00ffff; font-weight: bold; font-style: italic\"> --&gt; </span><span style=\"color: #00ffff; text-decoration-color: #00ffff; font-weight: bold; font-style: italic; text-decoration: underline\">Elena Martinez</span><span style=\"color: #00ffff; text-decoration-color: #00ffff; font-weight: bold; font-style: italic\">: [CONVERSATION] </span>\n",
       "<span style=\"color: #00ffff; text-decoration-color: #00ffff; font-weight: bold; font-style: italic\">                                   &gt; I believe we should also consider how we will communicate the</span>\n",
       "<span style=\"color: #00ffff; text-decoration-color: #00ffff; font-weight: bold; font-style: italic\">                                   &gt; results of the simulation to stakeholders. It’s important to</span>\n",
       "<span style=\"color: #00ffff; text-decoration-color: #00ffff; font-weight: bold; font-style: italic\">                                   &gt; have a plan for sharing our findings effectively. What does</span>\n",
       "<span style=\"color: #00ffff; text-decoration-color: #00ffff; font-weight: bold; font-style: italic\">                                   &gt; everyone think?</span>\n",
       "</pre>\n"
      ]
     },
     "metadata": {},
     "output_type": "display_data"
    },
    {
     "data": {
      "text/plain": [
       "\u001B[1;4;38;5;40mAsian Supply Chain Manager\u001B[0m\u001B[1;38;5;40m acts: \u001B[0m\u001B[1;38;5;40m[\u001B[0m\u001B[1;38;5;40mTALK\u001B[0m\u001B[1;38;5;40m]\u001B[0m\u001B[1;38;5;40m \u001B[0m\n",
       "\u001B[1;38;5;40m                                > I believe we have covered a lot of important topics for our\u001B[0m\n",
       "\u001B[1;38;5;40m                                > agenda. I’m looking forward to our meeting and collaborating on\u001B[0m\n",
       "\u001B[1;38;5;40m                                > the simulation model!\u001B[0m\n"
      ],
      "text/html": [
       "<pre style=\"margin:0px;;white-space:pre;overflow-x:auto;line-height:normal;font-family:Menlo,'DejaVu Sans Mono',consolas,'Courier New',monospace\"><span style=\"color: #00d700; text-decoration-color: #00d700; font-weight: bold; text-decoration: underline\">Asian Supply Chain Manager</span><span style=\"color: #00d700; text-decoration-color: #00d700; font-weight: bold\"> acts: [TALK] </span>\n",
       "<span style=\"color: #00d700; text-decoration-color: #00d700; font-weight: bold\">                                &gt; I believe we have covered a lot of important topics for our</span>\n",
       "<span style=\"color: #00d700; text-decoration-color: #00d700; font-weight: bold\">                                &gt; agenda. I’m looking forward to our meeting and collaborating on</span>\n",
       "<span style=\"color: #00d700; text-decoration-color: #00d700; font-weight: bold\">                                &gt; the simulation model!</span>\n",
       "</pre>\n"
      ]
     },
     "metadata": {},
     "output_type": "display_data"
    },
    {
     "data": {
      "text/plain": [
       "\u001B[4;38;5;252mAsian Supply Chain Manager\u001B[0m\u001B[38;5;252m acts: \u001B[0m\u001B[1;38;5;252m[\u001B[0m\u001B[38;5;252mDONE\u001B[0m\u001B[1;38;5;252m]\u001B[0m\u001B[38;5;252m \u001B[0m\n",
       "\n"
      ],
      "text/html": [
       "<pre style=\"margin:0px;;white-space:pre;overflow-x:auto;line-height:normal;font-family:Menlo,'DejaVu Sans Mono',consolas,'Courier New',monospace\"><span style=\"color: #d0d0d0; text-decoration-color: #d0d0d0; text-decoration: underline\">Asian Supply Chain Manager</span><span style=\"color: #d0d0d0; text-decoration-color: #d0d0d0\"> acts: </span><span style=\"color: #d0d0d0; text-decoration-color: #d0d0d0; font-weight: bold\">[</span><span style=\"color: #d0d0d0; text-decoration-color: #d0d0d0\">DONE</span><span style=\"color: #d0d0d0; text-decoration-color: #d0d0d0; font-weight: bold\">]</span><span style=\"color: #d0d0d0; text-decoration-color: #d0d0d0\"> </span>\n",
       "\n",
       "</pre>\n"
      ]
     },
     "metadata": {},
     "output_type": "display_data"
    },
    {
     "data": {
      "text/plain": [
       "\u001B[1;3;4;38;5;51mAsian Supply Chain Manager\u001B[0m\u001B[1;3;38;5;51m --> \u001B[0m\u001B[1;3;4;38;5;51mElena Martinez\u001B[0m\u001B[1;3;38;5;51m: \u001B[0m\u001B[1;3;38;5;51m[\u001B[0m\u001B[1;3;38;5;51mCONVERSATION\u001B[0m\u001B[1;3;38;5;51m]\u001B[0m\u001B[1;3;38;5;51m \u001B[0m\n",
       "\u001B[1;3;38;5;51m                                > I believe we have covered a lot of important topics for our\u001B[0m\n",
       "\u001B[1;3;38;5;51m                                > agenda. I’m looking forward to our meeting and collaborating on\u001B[0m\n",
       "\u001B[1;3;38;5;51m                                > the simulation model!\u001B[0m\n"
      ],
      "text/html": [
       "<pre style=\"margin:0px;;white-space:pre;overflow-x:auto;line-height:normal;font-family:Menlo,'DejaVu Sans Mono',consolas,'Courier New',monospace\"><span style=\"color: #00ffff; text-decoration-color: #00ffff; font-weight: bold; font-style: italic; text-decoration: underline\">Asian Supply Chain Manager</span><span style=\"color: #00ffff; text-decoration-color: #00ffff; font-weight: bold; font-style: italic\"> --&gt; </span><span style=\"color: #00ffff; text-decoration-color: #00ffff; font-weight: bold; font-style: italic; text-decoration: underline\">Elena Martinez</span><span style=\"color: #00ffff; text-decoration-color: #00ffff; font-weight: bold; font-style: italic\">: [CONVERSATION] </span>\n",
       "<span style=\"color: #00ffff; text-decoration-color: #00ffff; font-weight: bold; font-style: italic\">                                &gt; I believe we have covered a lot of important topics for our</span>\n",
       "<span style=\"color: #00ffff; text-decoration-color: #00ffff; font-weight: bold; font-style: italic\">                                &gt; agenda. I’m looking forward to our meeting and collaborating on</span>\n",
       "<span style=\"color: #00ffff; text-decoration-color: #00ffff; font-weight: bold; font-style: italic\">                                &gt; the simulation model!</span>\n",
       "</pre>\n"
      ]
     },
     "metadata": {},
     "output_type": "display_data"
    },
    {
     "data": {
      "text/plain": [
       "\u001B[1;4;38;5;40mSupplier A\u001B[0m\u001B[1;38;5;40m acts: \u001B[0m\u001B[1;38;5;40m[\u001B[0m\u001B[1;38;5;40mTALK\u001B[0m\u001B[1;38;5;40m]\u001B[0m\u001B[1;38;5;40m \u001B[0m\n",
       "\u001B[1;38;5;40m                > I believe we have covered a lot of important topics for our agenda. I can't think\u001B[0m\n",
       "\u001B[1;38;5;40m                > of anything else to add at the moment, but I'm looking forward to our discussion\u001B[0m\n",
       "\u001B[1;38;5;40m                > tomorrow!\u001B[0m\n"
      ],
      "text/html": [
       "<pre style=\"margin:0px;;white-space:pre;overflow-x:auto;line-height:normal;font-family:Menlo,'DejaVu Sans Mono',consolas,'Courier New',monospace\"><span style=\"color: #00d700; text-decoration-color: #00d700; font-weight: bold; text-decoration: underline\">Supplier A</span><span style=\"color: #00d700; text-decoration-color: #00d700; font-weight: bold\"> acts: [TALK] </span>\n",
       "<span style=\"color: #00d700; text-decoration-color: #00d700; font-weight: bold\">                &gt; I believe we have covered a lot of important topics for our agenda. I can't think</span>\n",
       "<span style=\"color: #00d700; text-decoration-color: #00d700; font-weight: bold\">                &gt; of anything else to add at the moment, but I'm looking forward to our discussion</span>\n",
       "<span style=\"color: #00d700; text-decoration-color: #00d700; font-weight: bold\">                &gt; tomorrow!</span>\n",
       "</pre>\n"
      ]
     },
     "metadata": {},
     "output_type": "display_data"
    },
    {
     "data": {
      "text/plain": [
       "\u001B[4;38;5;252mSupplier A\u001B[0m\u001B[38;5;252m acts: \u001B[0m\u001B[1;38;5;252m[\u001B[0m\u001B[38;5;252mDONE\u001B[0m\u001B[1;38;5;252m]\u001B[0m\u001B[38;5;252m \u001B[0m\n",
       "\n"
      ],
      "text/html": [
       "<pre style=\"margin:0px;;white-space:pre;overflow-x:auto;line-height:normal;font-family:Menlo,'DejaVu Sans Mono',consolas,'Courier New',monospace\"><span style=\"color: #d0d0d0; text-decoration-color: #d0d0d0; text-decoration: underline\">Supplier A</span><span style=\"color: #d0d0d0; text-decoration-color: #d0d0d0\"> acts: </span><span style=\"color: #d0d0d0; text-decoration-color: #d0d0d0; font-weight: bold\">[</span><span style=\"color: #d0d0d0; text-decoration-color: #d0d0d0\">DONE</span><span style=\"color: #d0d0d0; text-decoration-color: #d0d0d0; font-weight: bold\">]</span><span style=\"color: #d0d0d0; text-decoration-color: #d0d0d0\"> </span>\n",
       "\n",
       "</pre>\n"
      ]
     },
     "metadata": {},
     "output_type": "display_data"
    },
    {
     "data": {
      "text/plain": [
       "\u001B[1;3;4;38;5;51mSupplier A\u001B[0m\u001B[1;3;38;5;51m --> \u001B[0m\u001B[1;3;4;38;5;51mElena Martinez\u001B[0m\u001B[1;3;38;5;51m: \u001B[0m\u001B[1;3;38;5;51m[\u001B[0m\u001B[1;3;38;5;51mCONVERSATION\u001B[0m\u001B[1;3;38;5;51m]\u001B[0m\u001B[1;3;38;5;51m \u001B[0m\n",
       "\u001B[1;3;38;5;51m                > I believe we have covered a lot of important topics for our agenda. I can't think\u001B[0m\n",
       "\u001B[1;3;38;5;51m                > of anything else to add at the moment, but I'm looking forward to our discussion\u001B[0m\n",
       "\u001B[1;3;38;5;51m                > tomorrow!\u001B[0m\n"
      ],
      "text/html": [
       "<pre style=\"margin:0px;;white-space:pre;overflow-x:auto;line-height:normal;font-family:Menlo,'DejaVu Sans Mono',consolas,'Courier New',monospace\"><span style=\"color: #00ffff; text-decoration-color: #00ffff; font-weight: bold; font-style: italic; text-decoration: underline\">Supplier A</span><span style=\"color: #00ffff; text-decoration-color: #00ffff; font-weight: bold; font-style: italic\"> --&gt; </span><span style=\"color: #00ffff; text-decoration-color: #00ffff; font-weight: bold; font-style: italic; text-decoration: underline\">Elena Martinez</span><span style=\"color: #00ffff; text-decoration-color: #00ffff; font-weight: bold; font-style: italic\">: [CONVERSATION] </span>\n",
       "<span style=\"color: #00ffff; text-decoration-color: #00ffff; font-weight: bold; font-style: italic\">                &gt; I believe we have covered a lot of important topics for our agenda. I can't think</span>\n",
       "<span style=\"color: #00ffff; text-decoration-color: #00ffff; font-weight: bold; font-style: italic\">                &gt; of anything else to add at the moment, but I'm looking forward to our discussion</span>\n",
       "<span style=\"color: #00ffff; text-decoration-color: #00ffff; font-weight: bold; font-style: italic\">                &gt; tomorrow!</span>\n",
       "</pre>\n"
      ]
     },
     "metadata": {},
     "output_type": "display_data"
    },
    {
     "data": {
      "text/plain": [
       "\u001B[4;32mOcean Freight Carrier A\u001B[0m\u001B[32m acts: \u001B[0m\u001B[1;32m[\u001B[0m\u001B[32mTHINK\u001B[0m\u001B[1;32m]\u001B[0m\u001B[32m \u001B[0m\n",
       "\u001B[32m                             > Elena is very receptive to our suggestions, and it's great to see the\u001B[0m\n",
       "\u001B[32m                             > agenda shaping up. I should consider if there's anything else I want\u001B[0m\n",
       "\u001B[32m                             > to discuss or clarify before the meeting.\u001B[0m\n"
      ],
      "text/html": [
       "<pre style=\"margin:0px;;white-space:pre;overflow-x:auto;line-height:normal;font-family:Menlo,'DejaVu Sans Mono',consolas,'Courier New',monospace\"><span style=\"color: #008000; text-decoration-color: #008000; text-decoration: underline\">Ocean Freight Carrier A</span><span style=\"color: #008000; text-decoration-color: #008000\"> acts: </span><span style=\"color: #008000; text-decoration-color: #008000; font-weight: bold\">[</span><span style=\"color: #008000; text-decoration-color: #008000\">THINK</span><span style=\"color: #008000; text-decoration-color: #008000; font-weight: bold\">]</span><span style=\"color: #008000; text-decoration-color: #008000\"> </span>\n",
       "<span style=\"color: #008000; text-decoration-color: #008000\">                             &gt; Elena is very receptive to our suggestions, and it's great to see the</span>\n",
       "<span style=\"color: #008000; text-decoration-color: #008000\">                             &gt; agenda shaping up. I should consider if there's anything else I want</span>\n",
       "<span style=\"color: #008000; text-decoration-color: #008000\">                             &gt; to discuss or clarify before the meeting.</span>\n",
       "</pre>\n"
      ]
     },
     "metadata": {},
     "output_type": "display_data"
    },
    {
     "data": {
      "text/plain": [
       "\u001B[1;4;38;5;40mOcean Freight Carrier A\u001B[0m\u001B[1;38;5;40m acts: \u001B[0m\u001B[1;38;5;40m[\u001B[0m\u001B[1;38;5;40mTALK\u001B[0m\u001B[1;38;5;40m]\u001B[0m\u001B[1;38;5;40m \u001B[0m\n",
       "\u001B[1;38;5;40m                             > I believe we should also consider how we will communicate the results\u001B[0m\n",
       "\u001B[1;38;5;40m                             > of the simulation to the broader team and stakeholders. It’s\u001B[0m\n",
       "\u001B[1;38;5;40m                             > important to have a clear plan for sharing our findings.\u001B[0m\n"
      ],
      "text/html": [
       "<pre style=\"margin:0px;;white-space:pre;overflow-x:auto;line-height:normal;font-family:Menlo,'DejaVu Sans Mono',consolas,'Courier New',monospace\"><span style=\"color: #00d700; text-decoration-color: #00d700; font-weight: bold; text-decoration: underline\">Ocean Freight Carrier A</span><span style=\"color: #00d700; text-decoration-color: #00d700; font-weight: bold\"> acts: [TALK] </span>\n",
       "<span style=\"color: #00d700; text-decoration-color: #00d700; font-weight: bold\">                             &gt; I believe we should also consider how we will communicate the results</span>\n",
       "<span style=\"color: #00d700; text-decoration-color: #00d700; font-weight: bold\">                             &gt; of the simulation to the broader team and stakeholders. It’s</span>\n",
       "<span style=\"color: #00d700; text-decoration-color: #00d700; font-weight: bold\">                             &gt; important to have a clear plan for sharing our findings.</span>\n",
       "</pre>\n"
      ]
     },
     "metadata": {},
     "output_type": "display_data"
    },
    {
     "data": {
      "text/plain": [
       "\u001B[4;38;5;252mOcean Freight Carrier A\u001B[0m\u001B[38;5;252m acts: \u001B[0m\u001B[1;38;5;252m[\u001B[0m\u001B[38;5;252mDONE\u001B[0m\u001B[1;38;5;252m]\u001B[0m\u001B[38;5;252m \u001B[0m\n",
       "\n"
      ],
      "text/html": [
       "<pre style=\"margin:0px;;white-space:pre;overflow-x:auto;line-height:normal;font-family:Menlo,'DejaVu Sans Mono',consolas,'Courier New',monospace\"><span style=\"color: #d0d0d0; text-decoration-color: #d0d0d0; text-decoration: underline\">Ocean Freight Carrier A</span><span style=\"color: #d0d0d0; text-decoration-color: #d0d0d0\"> acts: </span><span style=\"color: #d0d0d0; text-decoration-color: #d0d0d0; font-weight: bold\">[</span><span style=\"color: #d0d0d0; text-decoration-color: #d0d0d0\">DONE</span><span style=\"color: #d0d0d0; text-decoration-color: #d0d0d0; font-weight: bold\">]</span><span style=\"color: #d0d0d0; text-decoration-color: #d0d0d0\"> </span>\n",
       "\n",
       "</pre>\n"
      ]
     },
     "metadata": {},
     "output_type": "display_data"
    },
    {
     "data": {
      "text/plain": [
       "\u001B[1;3;4;38;5;51mOcean Freight Carrier A\u001B[0m\u001B[1;3;38;5;51m --> \u001B[0m\u001B[1;3;4;38;5;51mElena Martinez\u001B[0m\u001B[1;3;38;5;51m: \u001B[0m\u001B[1;3;38;5;51m[\u001B[0m\u001B[1;3;38;5;51mCONVERSATION\u001B[0m\u001B[1;3;38;5;51m]\u001B[0m\u001B[1;3;38;5;51m \u001B[0m\n",
       "\u001B[1;3;38;5;51m                             > I believe we should also consider how we will communicate the results\u001B[0m\n",
       "\u001B[1;3;38;5;51m                             > of the simulation to the broader team and stakeholders. It’s\u001B[0m\n",
       "\u001B[1;3;38;5;51m                             > important to have a clear plan for sharing our findings.\u001B[0m\n"
      ],
      "text/html": [
       "<pre style=\"margin:0px;;white-space:pre;overflow-x:auto;line-height:normal;font-family:Menlo,'DejaVu Sans Mono',consolas,'Courier New',monospace\"><span style=\"color: #00ffff; text-decoration-color: #00ffff; font-weight: bold; font-style: italic; text-decoration: underline\">Ocean Freight Carrier A</span><span style=\"color: #00ffff; text-decoration-color: #00ffff; font-weight: bold; font-style: italic\"> --&gt; </span><span style=\"color: #00ffff; text-decoration-color: #00ffff; font-weight: bold; font-style: italic; text-decoration: underline\">Elena Martinez</span><span style=\"color: #00ffff; text-decoration-color: #00ffff; font-weight: bold; font-style: italic\">: [CONVERSATION] </span>\n",
       "<span style=\"color: #00ffff; text-decoration-color: #00ffff; font-weight: bold; font-style: italic\">                             &gt; I believe we should also consider how we will communicate the results</span>\n",
       "<span style=\"color: #00ffff; text-decoration-color: #00ffff; font-weight: bold; font-style: italic\">                             &gt; of the simulation to the broader team and stakeholders. It’s</span>\n",
       "<span style=\"color: #00ffff; text-decoration-color: #00ffff; font-weight: bold; font-style: italic\">                             &gt; important to have a clear plan for sharing our findings.</span>\n",
       "</pre>\n"
      ]
     },
     "metadata": {},
     "output_type": "display_data"
    }
   ],
   "execution_count": 3
  },
  {
   "metadata": {
    "ExecuteTime": {
     "end_time": "2025-03-27T18:32:36.120127Z",
     "start_time": "2025-03-27T18:32:20.859459Z"
    }
   },
   "cell_type": "code",
   "source": [
    "rapporteur = world.get_agent_by_name(\"Elena Martinez\")\n",
    "rapporteur.listen_and_act(\"Can you please consolidate the ideas that the group came up with? Provide a lot of details on each idea, and complement anything missing.\")"
   ],
   "id": "9fa1a5baba0db948",
   "outputs": [
    {
     "data": {
      "text/plain": [
       "\u001B[1;3;4;38;5;51mUSER\u001B[0m\u001B[1;3;38;5;51m --> \u001B[0m\u001B[1;3;4;38;5;51mElena Martinez\u001B[0m\u001B[1;3;38;5;51m: \u001B[0m\u001B[1;3;38;5;51m[\u001B[0m\u001B[1;3;38;5;51mCONVERSATION\u001B[0m\u001B[1;3;38;5;51m]\u001B[0m\u001B[1;3;38;5;51m \u001B[0m\n",
       "\u001B[1;3;38;5;51m          > Can you please consolidate the ideas that the group came up with? Provide a lot of\u001B[0m\n",
       "\u001B[1;3;38;5;51m          > details on each idea, and complement anything missing.\u001B[0m\n"
      ],
      "text/html": [
       "<pre style=\"margin:0px;;white-space:pre;overflow-x:auto;line-height:normal;font-family:Menlo,'DejaVu Sans Mono',consolas,'Courier New',monospace\"><span style=\"color: #00ffff; text-decoration-color: #00ffff; font-weight: bold; font-style: italic; text-decoration: underline\">USER</span><span style=\"color: #00ffff; text-decoration-color: #00ffff; font-weight: bold; font-style: italic\"> --&gt; </span><span style=\"color: #00ffff; text-decoration-color: #00ffff; font-weight: bold; font-style: italic; text-decoration: underline\">Elena Martinez</span><span style=\"color: #00ffff; text-decoration-color: #00ffff; font-weight: bold; font-style: italic\">: [CONVERSATION] </span>\n",
       "<span style=\"color: #00ffff; text-decoration-color: #00ffff; font-weight: bold; font-style: italic\">          &gt; Can you please consolidate the ideas that the group came up with? Provide a lot of</span>\n",
       "<span style=\"color: #00ffff; text-decoration-color: #00ffff; font-weight: bold; font-style: italic\">          &gt; details on each idea, and complement anything missing.</span>\n",
       "</pre>\n"
      ]
     },
     "metadata": {},
     "output_type": "display_data"
    },
    {
     "data": {
      "text/plain": [
       "\u001B[4;32mElena Martinez\u001B[0m\u001B[32m acts: \u001B[0m\u001B[1;32m[\u001B[0m\u001B[32mTHINK\u001B[0m\u001B[1;32m]\u001B[0m\u001B[32m \u001B[0m\n",
       "\u001B[32m                    > I need to consolidate all the ideas discussed during our conversations into a\u001B[0m\n",
       "\u001B[32m                    > detailed agenda. This will include the objectives, hypotheses, potential\u001B[0m\n",
       "\u001B[32m                    > challenges, metrics for success, communication strategies, and the timeline\u001B[0m\n",
       "\u001B[32m                    > for implementation. I should ensure that each point is well-defined and covers\u001B[0m\n",
       "\u001B[32m                    > all necessary aspects for our meeting.\u001B[0m\n"
      ],
      "text/html": [
       "<pre style=\"margin:0px;;white-space:pre;overflow-x:auto;line-height:normal;font-family:Menlo,'DejaVu Sans Mono',consolas,'Courier New',monospace\"><span style=\"color: #008000; text-decoration-color: #008000; text-decoration: underline\">Elena Martinez</span><span style=\"color: #008000; text-decoration-color: #008000\"> acts: </span><span style=\"color: #008000; text-decoration-color: #008000; font-weight: bold\">[</span><span style=\"color: #008000; text-decoration-color: #008000\">THINK</span><span style=\"color: #008000; text-decoration-color: #008000; font-weight: bold\">]</span><span style=\"color: #008000; text-decoration-color: #008000\"> </span>\n",
       "<span style=\"color: #008000; text-decoration-color: #008000\">                    &gt; I need to consolidate all the ideas discussed during our conversations into a</span>\n",
       "<span style=\"color: #008000; text-decoration-color: #008000\">                    &gt; detailed agenda. This will include the objectives, hypotheses, potential</span>\n",
       "<span style=\"color: #008000; text-decoration-color: #008000\">                    &gt; challenges, metrics for success, communication strategies, and the timeline</span>\n",
       "<span style=\"color: #008000; text-decoration-color: #008000\">                    &gt; for implementation. I should ensure that each point is well-defined and covers</span>\n",
       "<span style=\"color: #008000; text-decoration-color: #008000\">                    &gt; all necessary aspects for our meeting.</span>\n",
       "</pre>\n"
      ]
     },
     "metadata": {},
     "output_type": "display_data"
    },
    {
     "data": {
      "text/plain": [
       "\u001B[1;4;38;5;40mElena Martinez\u001B[0m\u001B[1;38;5;40m acts: \u001B[0m\u001B[1;38;5;40m[\u001B[0m\u001B[1;38;5;40mTALK\u001B[0m\u001B[1;38;5;40m]\u001B[0m\u001B[1;38;5;40m \u001B[0m\n",
       "\u001B[1;38;5;40m                    > I will consolidate the ideas we discussed into a detailed agenda. Here’s what\u001B[0m\n",
       "\u001B[1;38;5;40m                    > I have so far: \u001B[0m\u001B[1;38;5;40m1\u001B[0m\u001B[1;38;5;40m. Objectives of the simulation model. \u001B[0m\u001B[1;38;5;40m2\u001B[0m\u001B[1;38;5;40m. Hypotheses we want to\u001B[0m\n",
       "\u001B[1;38;5;40m                    > test. \u001B[0m\u001B[1;38;5;40m3\u001B[0m\u001B[1;38;5;40m. Potential challenges and how to address them. \u001B[0m\u001B[1;38;5;40m4\u001B[0m\u001B[1;38;5;40m. Metrics for\u001B[0m\n",
       "\u001B[1;38;5;40m                    > evaluating success. \u001B[0m\u001B[1;38;5;40m5\u001B[0m\u001B[1;38;5;40m. Communication strategies for sharing results. \u001B[0m\u001B[1;38;5;40m6\u001B[0m\u001B[1;38;5;40m.\u001B[0m\n",
       "\u001B[1;38;5;40m                    > Timeline for implementation. If anyone has additional points or details to\u001B[0m\n",
       "\u001B[1;38;5;40m                    > add, please let me know!\u001B[0m\n"
      ],
      "text/html": [
       "<pre style=\"margin:0px;;white-space:pre;overflow-x:auto;line-height:normal;font-family:Menlo,'DejaVu Sans Mono',consolas,'Courier New',monospace\"><span style=\"color: #00d700; text-decoration-color: #00d700; font-weight: bold; text-decoration: underline\">Elena Martinez</span><span style=\"color: #00d700; text-decoration-color: #00d700; font-weight: bold\"> acts: [TALK] </span>\n",
       "<span style=\"color: #00d700; text-decoration-color: #00d700; font-weight: bold\">                    &gt; I will consolidate the ideas we discussed into a detailed agenda. Here’s what</span>\n",
       "<span style=\"color: #00d700; text-decoration-color: #00d700; font-weight: bold\">                    &gt; I have so far: </span><span style=\"color: #00d700; text-decoration-color: #00d700; font-weight: bold\">1</span><span style=\"color: #00d700; text-decoration-color: #00d700; font-weight: bold\">. Objectives of the simulation model. </span><span style=\"color: #00d700; text-decoration-color: #00d700; font-weight: bold\">2</span><span style=\"color: #00d700; text-decoration-color: #00d700; font-weight: bold\">. Hypotheses we want to</span>\n",
       "<span style=\"color: #00d700; text-decoration-color: #00d700; font-weight: bold\">                    &gt; test. </span><span style=\"color: #00d700; text-decoration-color: #00d700; font-weight: bold\">3</span><span style=\"color: #00d700; text-decoration-color: #00d700; font-weight: bold\">. Potential challenges and how to address them. </span><span style=\"color: #00d700; text-decoration-color: #00d700; font-weight: bold\">4</span><span style=\"color: #00d700; text-decoration-color: #00d700; font-weight: bold\">. Metrics for</span>\n",
       "<span style=\"color: #00d700; text-decoration-color: #00d700; font-weight: bold\">                    &gt; evaluating success. </span><span style=\"color: #00d700; text-decoration-color: #00d700; font-weight: bold\">5</span><span style=\"color: #00d700; text-decoration-color: #00d700; font-weight: bold\">. Communication strategies for sharing results. </span><span style=\"color: #00d700; text-decoration-color: #00d700; font-weight: bold\">6</span><span style=\"color: #00d700; text-decoration-color: #00d700; font-weight: bold\">.</span>\n",
       "<span style=\"color: #00d700; text-decoration-color: #00d700; font-weight: bold\">                    &gt; Timeline for implementation. If anyone has additional points or details to</span>\n",
       "<span style=\"color: #00d700; text-decoration-color: #00d700; font-weight: bold\">                    &gt; add, please let me know!</span>\n",
       "</pre>\n"
      ]
     },
     "metadata": {},
     "output_type": "display_data"
    },
    {
     "data": {
      "text/plain": [
       "\u001B[4;38;5;252mElena Martinez\u001B[0m\u001B[38;5;252m acts: \u001B[0m\u001B[1;38;5;252m[\u001B[0m\u001B[38;5;252mDONE\u001B[0m\u001B[1;38;5;252m]\u001B[0m\u001B[38;5;252m \u001B[0m\n",
       "\n"
      ],
      "text/html": [
       "<pre style=\"margin:0px;;white-space:pre;overflow-x:auto;line-height:normal;font-family:Menlo,'DejaVu Sans Mono',consolas,'Courier New',monospace\"><span style=\"color: #d0d0d0; text-decoration-color: #d0d0d0; text-decoration: underline\">Elena Martinez</span><span style=\"color: #d0d0d0; text-decoration-color: #d0d0d0\"> acts: </span><span style=\"color: #d0d0d0; text-decoration-color: #d0d0d0; font-weight: bold\">[</span><span style=\"color: #d0d0d0; text-decoration-color: #d0d0d0\">DONE</span><span style=\"color: #d0d0d0; text-decoration-color: #d0d0d0; font-weight: bold\">]</span><span style=\"color: #d0d0d0; text-decoration-color: #d0d0d0\"> </span>\n",
       "\n",
       "</pre>\n"
      ]
     },
     "metadata": {},
     "output_type": "display_data"
    }
   ],
   "execution_count": 4
  },
  {
   "metadata": {
    "ExecuteTime": {
     "end_time": "2025-03-27T18:32:52.842862Z",
     "start_time": "2025-03-27T18:32:48.055464Z"
    }
   },
   "cell_type": "code",
   "source": [
    "from tinytroupe.extraction import ResultsExtractor\n",
    "\n",
    "extractor = ResultsExtractor()\n",
    "\n",
    "extractor.extract_results_from_agent(rapporteur)"
   ],
   "id": "7e037d404847ea89",
   "outputs": [
    {
     "data": {
      "text/plain": [
       "{'main_points': ['Elena Martinez is focused on improving supply chain resilience while maintaining cost efficiency.',\n",
       "  'She believes in rethinking supplier selection, inventory management, and transportation routes.',\n",
       "  'Elena has developed a primary hypothesis regarding the balance between resilience and cost efficiency.',\n",
       "  'Sub-hypotheses include diversifying suppliers, dynamic inventory management, multi-modal transportation options, and regional production flexibility.',\n",
       "  'Key performance indicators have been established to assess baseline performance, disruption impact, strategy evaluation, cost-resilience optimization, and final recommendations.',\n",
       "  'Elena has asked the supply chain team to develop a simulation model to test the hypotheses and evaluate strategies.',\n",
       "  'She is coordinating a meeting with multiple supply chain managers and a supplier to brainstorm ideas for the simulation model.',\n",
       "  'The agenda for the meeting includes objectives, hypotheses, potential challenges, metrics for success, communication strategies, and implementation timeline.']}"
      ]
     },
     "execution_count": 5,
     "metadata": {},
     "output_type": "execute_result"
    }
   ],
   "execution_count": 5
  },
  {
   "metadata": {},
   "cell_type": "code",
   "outputs": [],
   "execution_count": null,
   "source": "",
   "id": "f918a4e35dbfc3b4"
  }
 ],
 "metadata": {
  "kernelspec": {
   "display_name": "Python 3",
   "language": "python",
   "name": "python3"
  },
  "language_info": {
   "codemirror_mode": {
    "name": "ipython",
    "version": 2
   },
   "file_extension": ".py",
   "mimetype": "text/x-python",
   "name": "python",
   "nbconvert_exporter": "python",
   "pygments_lexer": "ipython2",
   "version": "2.7.6"
  }
 },
 "nbformat": 4,
 "nbformat_minor": 5
}
