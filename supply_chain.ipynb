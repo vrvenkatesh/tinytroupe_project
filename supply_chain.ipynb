{
 "cells": [
  {
   "cell_type": "code",
   "id": "initial_id",
   "metadata": {
    "collapsed": true,
    "ExecuteTime": {
     "end_time": "2025-03-27T22:33:44.941154Z",
     "start_time": "2025-03-27T22:33:37.460901Z"
    }
   },
   "source": [
    "import json\n",
    "import dotenv\n",
    "dotenv.load_dotenv()\n",
    "\n",
    "import tinytroupe\n",
    "from tinytroupe.agent import TinyPerson\n",
    "from tinytroupe.environment import TinyWorld, TinySocialNetwork\n",
    "from tinytroupe.factory import TinyPersonFactory\n",
    "from tinytroupe.extraction import ResultsExtractor"
   ],
   "outputs": [
    {
     "name": "stdout",
     "output_type": "stream",
     "text": [
      "Looking for default config on: /Users/varunvenkatesh/tinyTroupeProject/tinytroupe/tinytroupe/utils/../config.ini\n",
      "Found custom config on: /Users/varunvenkatesh/Documents/GitHub/tinytroupe_project/config.ini\n",
      "\n",
      "!!!!\n",
      "DISCLAIMER: TinyTroupe relies on Artificial Intelligence (AI) models to generate content. \n",
      "The AI models are not perfect and may produce inappropriate or inacurate results. \n",
      "For any serious or consequential use, please review the generated content before using it.\n",
      "!!!!\n",
      "\n",
      "\n",
      "=================================\n",
      "Current TinyTroupe configuration \n",
      "=================================\n",
      "[OpenAI]\n",
      "api_type = openai\n",
      "azure_api_version = 2024-08-01-preview\n",
      "model = gpt-4o-mini\n",
      "max_tokens = 4000\n",
      "temperature = 1.2\n",
      "freq_penalty = 0.0\n",
      "presence_penalty = 0.0\n",
      "timeout = 60\n",
      "max_attempts = 5\n",
      "waiting_time = 2\n",
      "exponential_backoff_factor = 5\n",
      "embedding_model = text-embedding-3-small\n",
      "cache_api_calls = False\n",
      "cache_file_name = openai_api_cache.pickle\n",
      "max_content_display_length = 1024\n",
      "azure_embedding_model_api_version = 2023-05-15\n",
      "\n",
      "[Simulation]\n",
      "rai_harmful_content_prevention = True\n",
      "rai_copyright_infringement_prevention = True\n",
      "\n",
      "[Logging]\n",
      "loglevel = ERROR\n",
      "\n"
     ]
    }
   ],
   "execution_count": 1
  },
  {
   "metadata": {},
   "cell_type": "markdown",
   "source": "# Supply Chain Resilience Optimization for Global Manufacturing Company",
   "id": "e2efd9ff6ee40560"
  },
  {
   "metadata": {},
   "cell_type": "markdown",
   "source": "## TinyPerson (Agent) Setup",
   "id": "e1c2916c704a4446"
  },
  {
   "metadata": {
    "ExecuteTime": {
     "end_time": "2025-03-27T22:33:44.961360Z",
     "start_time": "2025-03-27T22:33:44.943926Z"
    }
   },
   "cell_type": "code",
   "source": [
    "# COO\n",
    "elena = TinyPerson(\"Elena Martinez\")\n",
    "elena.define(\"nationality\", \"American\")\n",
    "elena.define('age', 45)\n",
    "elena.define('gender', 'Female')\n",
    "elena.define('residence', 'New York, USA')\n",
    "elena.define('occupation', {\n",
    "                    'title': 'COO',\n",
    "                    'organization': 'Tekron Industries',\n",
    "                    'industry': 'Automation Equipment Manufacturing',\n",
    "                    'description': 'You are responsible for global operations and supply chain management. Your goal is to improve supply chain resilience while maintaining cost efficiency. You believe that strategic diversification of suppliers, dynamic inventory management, and flexible transportation routing could create a more adaptable supply chain without significantly increasing costs.'})\n",
    "elena.define('personality', {\n",
    "                    'job_skills': [\n",
    "                        'Strategic decision-making responsibility',\n",
    "                        'Risk management expertise',\n",
    "                        'Financial performance accountability',\n",
    "                        'Operations optimization mindset',\n",
    "                        'Balance between resilience and efficiency',\n",
    "                        'Cross-functional leadership skills']})  \n",
    "elena.define('behaviors', {\n",
    "                    'general': [\n",
    "                        'Evaluates supply chain performance metrics',\n",
    "                        'Makes strategic supplier selection decisions',\n",
    "                        'Allocates resources across regions',\n",
    "                        'Sets inventory management policies',\n",
    "                        'Approves transportation routing strategies',\n",
    "                        'Balances cost constraints with resilience goals',\n",
    "                        'Reports performance to executive leadership']})"
   ],
   "id": "a3cc93946c553c5f",
   "outputs": [],
   "execution_count": 2
  },
  {
   "metadata": {
    "ExecuteTime": {
     "end_time": "2025-03-27T22:33:44.986535Z",
     "start_time": "2025-03-27T22:33:44.964006Z"
    }
   },
   "cell_type": "code",
   "source": [
    "# Regional Supply Chain Managers\n",
    "NA_supply_chain_manager = TinyPerson(\"North American Supply Chain Manager\")\n",
    "NA_supply_chain_manager.import_fragment('fragments/supply_chain_manager.fragment.json')\n",
    "NA_supply_chain_manager.define('region', 'North America')\n",
    "NA_supply_chain_manager.define('jurisdiction', {\n",
    "    'North America': 'United States, Canada, Mexico'\n",
    "})\n",
    "\n",
    "EU_supply_chain_manager = TinyPerson(\"European Supply Chain Manager\")\n",
    "EU_supply_chain_manager.import_fragment('fragments/supply_chain_manager.fragment.json')\n",
    "EU_supply_chain_manager.define('region', 'Europe')\n",
    "EU_supply_chain_manager.define('jurisdiction', {\n",
    "    'Europe': 'Germany, Poland, Romania'\n",
    "})\n",
    "\n",
    "APAC_supply_chain_manager = TinyPerson(\"Asian Supply Chain Manager\")\n",
    "APAC_supply_chain_manager.import_fragment('fragments/supply_chain_manager.fragment.json')\n",
    "APAC_supply_chain_manager.define('region', 'Asia-Pacific')\n",
    "APAC_supply_chain_manager.define('jurisdiction', {\n",
    "    'East Asia': 'China, Japan, South Korea',\n",
    "    'Southeast Asia': 'Vietnam, Thailand, Malaysia',\n",
    "    'South Asia': 'India, Bangladesh',\n",
    "})\n",
    "supply_chain_managers = [NA_supply_chain_manager, EU_supply_chain_manager, APAC_supply_chain_manager]"
   ],
   "id": "e9d06e7dfc5815c3",
   "outputs": [],
   "execution_count": 3
  },
  {
   "metadata": {
    "ExecuteTime": {
     "end_time": "2025-03-27T22:33:45.058487Z",
     "start_time": "2025-03-27T22:33:44.990985Z"
    }
   },
   "cell_type": "code",
   "source": [
    "# Suppliers\n",
    "num_per_region = 1\n",
    "regions = ['East Asia', 'Southeast Asia', 'South Asia', 'North America', 'Europe']\n",
    "supplier_types = ['Tier 1', 'Raw Material', 'Contract']\n",
    "supplier_fragments = {  'Raw Material': 'fragments/raw_material_supplier.fragment.json',\n",
    "                        'Contract': 'fragments/contract_supplier.fragment.json',\n",
    "                        'Tier 1': 'fragments/tier_1_supplier.fragment.json'}\n",
    "\n",
    "suppliers = []\n",
    "for region in regions:\n",
    "    for supplier_type in supplier_types:\n",
    "        for i in range(num_per_region):\n",
    "            supplier = TinyPerson(f\"{region} {supplier_type} Supplier {i+1}\")\n",
    "            supplier.import_fragment(supplier_fragments[supplier_type])\n",
    "            supplier.define('region', region)\n",
    "            supplier.define('supplier_type', supplier_type)\n",
    "            suppliers.append(supplier)"
   ],
   "id": "c014f577fe9a8b6e",
   "outputs": [],
   "execution_count": 4
  },
  {
   "metadata": {
    "ExecuteTime": {
     "end_time": "2025-03-27T22:33:45.077225Z",
     "start_time": "2025-03-27T22:33:45.060345Z"
    }
   },
   "cell_type": "code",
   "source": [
    "# Logistics Providers\n",
    "ocean_freight_carrier = TinyPerson(\"Ocean Freight Carrier\")\n",
    "ocean_freight_carrier.import_fragment('fragments/ocean_freight_carrier.fragment.json')\n",
    "\n",
    "air_freight_carrier = TinyPerson(\"Air Freight Carrier\")\n",
    "air_freight_carrier.import_fragment('fragments/air_freight_carrier.fragment.json')\n",
    "\n",
    "ground_transportation_network = TinyPerson(\"Ground Transportation Network\")\n",
    "ground_transportation_network.import_fragment('fragments/ground_transportation_network.fragment.json')\n",
    "\n",
    "logistics_providers = [ocean_freight_carrier, air_freight_carrier, ground_transportation_network]"
   ],
   "id": "c81e1620d9446dbd",
   "outputs": [],
   "execution_count": 5
  },
  {
   "metadata": {
    "ExecuteTime": {
     "end_time": "2025-03-27T22:33:45.099093Z",
     "start_time": "2025-03-27T22:33:45.080487Z"
    }
   },
   "cell_type": "code",
   "source": [
    "# Production Facilities\n",
    "\n",
    "# North America\n",
    "NA_production_facility = TinyPerson(\"North American Production Facility\")\n",
    "NA_production_facility.import_fragment('fragments/NA_mfg_plant.fragment.json')\n",
    "\n",
    "# Europe\n",
    "EU_production_facility = TinyPerson(\"European Production Facility\")\n",
    "EU_production_facility.import_fragment('fragments/EU_mfg_plant.fragment.json')\n",
    "\n",
    "# Asia\n",
    "APAC_production_facility = TinyPerson(\"Asian Production Facility\")\n",
    "APAC_production_facility.import_fragment('fragments/APAC_mfg_plant.fragment.json')\n",
    "\n",
    "production_facilities = [NA_production_facility, EU_production_facility, APAC_production_facility]"
   ],
   "id": "c6dd32ae6fcbf47f",
   "outputs": [],
   "execution_count": 6
  },
  {
   "metadata": {
    "ExecuteTime": {
     "end_time": "2025-03-27T22:33:45.118759Z",
     "start_time": "2025-03-27T22:33:45.101788Z"
    }
   },
   "cell_type": "code",
   "source": [
    "# External Events\n",
    "weather_disruption_generator = TinyPerson(\"Weather Disruption Generator\")\n",
    "weather_disruption_generator.import_fragment('fragments/weather_disruption_generator.fragment.json')\n",
    "\n",
    "geopolitical_disruption_generator = TinyPerson(\"Geopolitical Disruption Generator\")\n",
    "geopolitical_disruption_generator.import_fragment('fragments/geopolitical_disruption_generator.fragment.json')\n",
    "\n",
    "market_demand_fluctuation_generator = TinyPerson(\"Market Demand Fluctuation Generator\")\n",
    "market_demand_fluctuation_generator.import_fragment('fragments/market_demand_fluctuation_generator.fragment.json')\n",
    "\n",
    "external_events = [weather_disruption_generator, geopolitical_disruption_generator, market_demand_fluctuation_generator]"
   ],
   "id": "33db8a35e9b74952",
   "outputs": [],
   "execution_count": 7
  },
  {
   "metadata": {},
   "cell_type": "markdown",
   "source": "## TinyWorld Setup",
   "id": "a87c51db8dc4e134"
  },
  {
   "metadata": {
    "ExecuteTime": {
     "end_time": "2025-03-27T22:33:45.180184Z",
     "start_time": "2025-03-27T22:33:45.121782Z"
    }
   },
   "cell_type": "code",
   "source": [
    "# TinyWorld\n",
    "world = TinyWorld(\"Global Supply Network\")\n",
    "world.add_agents([elena] + supply_chain_managers + suppliers + logistics_providers + production_facilities + external_events)\n",
    "world.make_everyone_accessible()\n",
    "world.broadcast(\"\"\"\n",
    "        Tekron Industries is a global manufacturer of industrial automation equipment with production  facilities in North America, Europe, and Asia. Following recent supply chain disruptions caused  by geopolitical tensions, natural disasters, and transportation bottlenecks, the company's COO,  Elena Martinez, wants to improve supply chain resilience while maintaining cost efficiency.  Elena believes that rethinking supplier selection, inventory management, and transportation  routes could create a more adaptable supply chain without significantly increasing costs. \n",
    "        \n",
    "        Primary Hypothesis: Tekron Industries can achieve an optimal balance between supply chain  resilience and cost efficiency through strategic diversification of suppliers, dynamic inventory  management, and flexible transportation routing. \n",
    "        \n",
    "        Sub-hypotheses: \n",
    "        1. Diversifying suppliers across geographic regions provides better disruption protection  than single-sourcing, with manageable cost impact \n",
    "        2. Dynamic inventory levels based on component criticality and risk factors minimize  capital tie-up while ensuring production continuity \n",
    "        3. Multi-modal transportation options with real-time rerouting capabilities reduce delivery  delays during disruptions \n",
    "        4. Regional production flexibility allows for rapid response to localized supply chain failures \n",
    "        \n",
    "        Key Performance Indicators:\n",
    "        1. Baseline Performance Assessment \n",
    "            o Key performance indicators established \n",
    "            o Cost efficiency metrics baseline \n",
    "            o Delivery reliability baseline \n",
    "            o Current resilience score calculation \n",
    "            o Risk exposure mapping \n",
    "        2. Disruption Impact Analysis \n",
    "            o Production continuity measurement \n",
    "            o Customer delivery performance \n",
    "            o Cost impact quantification\n",
    "            o Recovery time assessment \n",
    "            o Ripple effect mapping \n",
    "        3. Resilience Strategy Evaluation \n",
    "            o Strategy effectiveness comparison \n",
    "            o Implementation cost assessment \n",
    "            o Risk reduction quantification \n",
    "            o Performance trade-off analysis \n",
    "            o Optimum configuration determination \n",
    "        4. Cost-Resilience Optimization \n",
    "            o Pareto frontier mapping of solutions \n",
    "            o Budget constraint application \n",
    "            o Implementation timeline modeling \n",
    "            o Return on resilience investment calculation \n",
    "            o Risk reduction per dollar spent ranking \n",
    "        5. Final Recommendation Formulation \n",
    "            o Optimal supplier diversification strategy \n",
    "            o Inventory policy optimization \n",
    "            o Transportation flexibility framework \n",
    "            o Production transfer protocols \n",
    "            o Information system requirements \n",
    "            o Change management roadmap \n",
    "    \n",
    "        Expected Outputs:\n",
    "        1. Quantitative Outputs\n",
    "            o Resilience score improvement percentages \n",
    "            o Cost impact of resilience strategies (% of COGS) \n",
    "            o Recovery time reduction metrics \n",
    "            o Service level maintenance statistics during disruptions \n",
    "            o Risk exposure reduction percentages \n",
    "            o ROI calculations for resilience investments \n",
    "        2. Strategic Recommendations \n",
    "            o Optimal supplier network configuration \n",
    "            o Region-specific inventory policies \n",
    "            o Transportation mode mix optimization \n",
    "            o Production flexibility implementation roadmap \n",
    "            o Information system enhancement priorities \n",
    "            o Contract structure recommendations \n",
    "        3. Implementation Roadmap \n",
    "            o Phased approach to resilience implementation \n",
    "            o Quick wins identification \n",
    "            o Long-term structural changes \n",
    "            o Technology investment timeline\n",
    "            o Change management requirements \n",
    "            o Performance measurement framework\n",
    "\n",
    "        Elena has asked the supply chain team to develop a simulation model to test these hypotheses and evaluate the impact of different strategies on supply chain resilience and cost efficiency. The team has decided to use a multi-agent simulation approach to represent the complex interactions between suppliers, manufacturers, distributors, and customers in Tekron's global supply network. Elena asks the team to present the results of the simulation in a consolidated report, including a summary of key findings, performance metrics, and strategic recommendations for improving supply chain resilience. Any quantitative metrics required to generate the expected outputs should be simulated using real-world approximations.\n",
    "\"\"\")"
   ],
   "id": "fbde00f30c78bfd7",
   "outputs": [
    {
     "data": {
      "text/plain": [
       "\u001B[1;3;4;38;5;51mUSER\u001B[0m\u001B[1;3;38;5;51m --> \u001B[0m\u001B[1;3;4;38;5;51mElena Martinez\u001B[0m\u001B[1;3;38;5;51m: \u001B[0m\u001B[1;3;38;5;51m[\u001B[0m\u001B[1;3;38;5;51mCONVERSATION\u001B[0m\u001B[1;3;38;5;51m]\u001B[0m\u001B[1;3;38;5;51m \u001B[0m\n",
       "\u001B[1;3;38;5;51m          >          Tekron Industries is a global manufacturer of industrial automation equipment\u001B[0m\n",
       "\u001B[1;3;38;5;51m          > with production  facilities in North America, Europe, and Asia. Following recent supply\u001B[0m\n",
       "\u001B[1;3;38;5;51m          > chain disruptions caused  by geopolitical tensions, natural disasters, and\u001B[0m\n",
       "\u001B[1;3;38;5;51m          > transportation bottlenecks, the company's COO,  Elena Martinez, wants to improve supply\u001B[0m\n",
       "\u001B[1;3;38;5;51m          > chain resilience while maintaining cost efficiency.  Elena believes that rethinking\u001B[0m\n",
       "\u001B[1;3;38;5;51m          > supplier selection, inventory management, and transportation  routes could create a more\u001B[0m\n",
       "\u001B[1;3;38;5;51m          > adaptable supply chain without significantly increasing costs.                   Primary\u001B[0m\n",
       "\u001B[1;3;38;5;51m          > Hypothesis: Tekron Industries can achieve an optimal balance between supply chain\u001B[0m\n",
       "\u001B[1;3;38;5;51m          > resilience and cost efficiency through strategic diversification of suppliers, dynamic\u001B[0m\n",
       "\u001B[1;3;38;5;51m          > inventory  management, and flexible transportation routing.                   Sub-\u001B[0m\n",
       "\u001B[1;3;38;5;51m          > hypotheses:          \u001B[0m\u001B[1;3;38;5;51m1\u001B[0m\u001B[1;3;38;5;51m. Diversifying suppliers across geographic regions provides better\u001B[0m\n",
       "\u001B[1;3;38;5;51m          > disruption protection  than single-sourcing, with manageable cost impact          \u001B[0m\u001B[1;3;38;5;51m2\u001B[0m\n",
       "\u001B[1;3;38;5;51m          > \u001B[0m\u001B[1;3;38;5;51m(\u001B[0m\u001B[1;3;38;5;51m...\u001B[0m\u001B[1;3;38;5;51m)\u001B[0m\n"
      ],
      "text/html": [
       "<pre style=\"margin:0px;;white-space:pre;overflow-x:auto;line-height:normal;font-family:Menlo,'DejaVu Sans Mono',consolas,'Courier New',monospace\"><span style=\"color: #00ffff; text-decoration-color: #00ffff; font-weight: bold; font-style: italic; text-decoration: underline\">USER</span><span style=\"color: #00ffff; text-decoration-color: #00ffff; font-weight: bold; font-style: italic\"> --&gt; </span><span style=\"color: #00ffff; text-decoration-color: #00ffff; font-weight: bold; font-style: italic; text-decoration: underline\">Elena Martinez</span><span style=\"color: #00ffff; text-decoration-color: #00ffff; font-weight: bold; font-style: italic\">: [CONVERSATION] </span>\n",
       "<span style=\"color: #00ffff; text-decoration-color: #00ffff; font-weight: bold; font-style: italic\">          &gt;          Tekron Industries is a global manufacturer of industrial automation equipment</span>\n",
       "<span style=\"color: #00ffff; text-decoration-color: #00ffff; font-weight: bold; font-style: italic\">          &gt; with production  facilities in North America, Europe, and Asia. Following recent supply</span>\n",
       "<span style=\"color: #00ffff; text-decoration-color: #00ffff; font-weight: bold; font-style: italic\">          &gt; chain disruptions caused  by geopolitical tensions, natural disasters, and</span>\n",
       "<span style=\"color: #00ffff; text-decoration-color: #00ffff; font-weight: bold; font-style: italic\">          &gt; transportation bottlenecks, the company's COO,  Elena Martinez, wants to improve supply</span>\n",
       "<span style=\"color: #00ffff; text-decoration-color: #00ffff; font-weight: bold; font-style: italic\">          &gt; chain resilience while maintaining cost efficiency.  Elena believes that rethinking</span>\n",
       "<span style=\"color: #00ffff; text-decoration-color: #00ffff; font-weight: bold; font-style: italic\">          &gt; supplier selection, inventory management, and transportation  routes could create a more</span>\n",
       "<span style=\"color: #00ffff; text-decoration-color: #00ffff; font-weight: bold; font-style: italic\">          &gt; adaptable supply chain without significantly increasing costs.                   Primary</span>\n",
       "<span style=\"color: #00ffff; text-decoration-color: #00ffff; font-weight: bold; font-style: italic\">          &gt; Hypothesis: Tekron Industries can achieve an optimal balance between supply chain</span>\n",
       "<span style=\"color: #00ffff; text-decoration-color: #00ffff; font-weight: bold; font-style: italic\">          &gt; resilience and cost efficiency through strategic diversification of suppliers, dynamic</span>\n",
       "<span style=\"color: #00ffff; text-decoration-color: #00ffff; font-weight: bold; font-style: italic\">          &gt; inventory  management, and flexible transportation routing.                   Sub-</span>\n",
       "<span style=\"color: #00ffff; text-decoration-color: #00ffff; font-weight: bold; font-style: italic\">          &gt; hypotheses:          1. Diversifying suppliers across geographic regions provides better</span>\n",
       "<span style=\"color: #00ffff; text-decoration-color: #00ffff; font-weight: bold; font-style: italic\">          &gt; disruption protection  than single-sourcing, with manageable cost impact          2</span>\n",
       "<span style=\"color: #00ffff; text-decoration-color: #00ffff; font-weight: bold; font-style: italic\">          &gt; (...)</span>\n",
       "</pre>\n"
      ]
     },
     "metadata": {},
     "output_type": "display_data"
    },
    {
     "data": {
      "text/plain": [
       "\u001B[1;3;38;5;51m       + --> \u001B[0m\u001B[1;3;4;38;5;51mNorth American Supply Chain Manager\u001B[0m\n"
      ],
      "text/html": [
       "<pre style=\"margin:0px;;white-space:pre;overflow-x:auto;line-height:normal;font-family:Menlo,'DejaVu Sans Mono',consolas,'Courier New',monospace\"><span style=\"color: #00ffff; text-decoration-color: #00ffff; font-weight: bold; font-style: italic\">       + --&gt; </span><span style=\"color: #00ffff; text-decoration-color: #00ffff; font-weight: bold; font-style: italic; text-decoration: underline\">North American Supply Chain Manager</span>\n",
       "</pre>\n"
      ]
     },
     "metadata": {},
     "output_type": "display_data"
    },
    {
     "data": {
      "text/plain": [
       "\u001B[1;3;38;5;51m       + --> \u001B[0m\u001B[1;3;4;38;5;51mEuropean Supply Chain Manager\u001B[0m\n"
      ],
      "text/html": [
       "<pre style=\"margin:0px;;white-space:pre;overflow-x:auto;line-height:normal;font-family:Menlo,'DejaVu Sans Mono',consolas,'Courier New',monospace\"><span style=\"color: #00ffff; text-decoration-color: #00ffff; font-weight: bold; font-style: italic\">       + --&gt; </span><span style=\"color: #00ffff; text-decoration-color: #00ffff; font-weight: bold; font-style: italic; text-decoration: underline\">European Supply Chain Manager</span>\n",
       "</pre>\n"
      ]
     },
     "metadata": {},
     "output_type": "display_data"
    },
    {
     "data": {
      "text/plain": [
       "\u001B[1;3;38;5;51m       + --> \u001B[0m\u001B[1;3;38;5;51m...\u001B[0m\u001B[1;3;38;5;51mothers\u001B[0m\u001B[1;3;38;5;51m...\u001B[0m\n"
      ],
      "text/html": [
       "<pre style=\"margin:0px;;white-space:pre;overflow-x:auto;line-height:normal;font-family:Menlo,'DejaVu Sans Mono',consolas,'Courier New',monospace\"><span style=\"color: #00ffff; text-decoration-color: #00ffff; font-weight: bold; font-style: italic\">       + --&gt; ...others...</span>\n",
       "</pre>\n"
      ]
     },
     "metadata": {},
     "output_type": "display_data"
    }
   ],
   "execution_count": 8
  },
  {
   "metadata": {},
   "cell_type": "markdown",
   "source": "## Run Simulation",
   "id": "7be07bc0450334d1"
  },
  {
   "metadata": {
    "jupyter": {
     "is_executing": true
    },
    "ExecuteTime": {
     "start_time": "2025-03-27T22:33:45.183404Z"
    }
   },
   "cell_type": "code",
   "source": "world.run(1)",
   "id": "762288d8400b0e7b",
   "outputs": [
    {
     "data": {
      "text/plain": [
       "\u001B[92m──────────────────────────────────────── \u001B[0mGlobal Supply Network step \u001B[1;36m1\u001B[0m of \u001B[1;36m1\u001B[0m\u001B[92m ────────────────────────────────────────\u001B[0m\n"
      ],
      "text/html": [
       "<pre style=\"margin:0px;;white-space:pre;overflow-x:auto;line-height:normal;font-family:Menlo,'DejaVu Sans Mono',consolas,'Courier New',monospace\"><span style=\"color: #00ff00; text-decoration-color: #00ff00\">──────────────────────────────────────── </span>Global Supply Network step <span style=\"color: #008080; text-decoration-color: #008080; font-weight: bold\">1</span> of <span style=\"color: #008080; text-decoration-color: #008080; font-weight: bold\">1</span><span style=\"color: #00ff00; text-decoration-color: #00ff00\"> ────────────────────────────────────────</span>\n",
       "</pre>\n"
      ]
     },
     "metadata": {},
     "output_type": "display_data"
    },
    {
     "data": {
      "text/plain": [
       "\u001B[4;32mElena Martinez\u001B[0m\u001B[32m acts: \u001B[0m\u001B[1;32m[\u001B[0m\u001B[32mTHINK\u001B[0m\u001B[1;32m]\u001B[0m\u001B[32m \u001B[0m\n",
       "\u001B[32m                    > The information about Tekron Industries' supply chain challenges and the\u001B[0m\n",
       "\u001B[32m                    > proposed strategies for resilience is quite comprehensive. I need to consider\u001B[0m\n",
       "\u001B[32m                    > how to approach the simulation model and what key performance indicators to\u001B[0m\n",
       "\u001B[32m                    > focus on. The primary hypothesis about balancing resilience and cost\u001B[0m\n",
       "\u001B[32m                    > efficiency is crucial. I should also think about how to present the findings\u001B[0m\n",
       "\u001B[32m                    > effectively to the executive leadership.\u001B[0m\n"
      ],
      "text/html": [
       "<pre style=\"margin:0px;;white-space:pre;overflow-x:auto;line-height:normal;font-family:Menlo,'DejaVu Sans Mono',consolas,'Courier New',monospace\"><span style=\"color: #008000; text-decoration-color: #008000; text-decoration: underline\">Elena Martinez</span><span style=\"color: #008000; text-decoration-color: #008000\"> acts: </span><span style=\"color: #008000; text-decoration-color: #008000; font-weight: bold\">[</span><span style=\"color: #008000; text-decoration-color: #008000\">THINK</span><span style=\"color: #008000; text-decoration-color: #008000; font-weight: bold\">]</span><span style=\"color: #008000; text-decoration-color: #008000\"> </span>\n",
       "<span style=\"color: #008000; text-decoration-color: #008000\">                    &gt; The information about Tekron Industries' supply chain challenges and the</span>\n",
       "<span style=\"color: #008000; text-decoration-color: #008000\">                    &gt; proposed strategies for resilience is quite comprehensive. I need to consider</span>\n",
       "<span style=\"color: #008000; text-decoration-color: #008000\">                    &gt; how to approach the simulation model and what key performance indicators to</span>\n",
       "<span style=\"color: #008000; text-decoration-color: #008000\">                    &gt; focus on. The primary hypothesis about balancing resilience and cost</span>\n",
       "<span style=\"color: #008000; text-decoration-color: #008000\">                    &gt; efficiency is crucial. I should also think about how to present the findings</span>\n",
       "<span style=\"color: #008000; text-decoration-color: #008000\">                    &gt; effectively to the executive leadership.</span>\n",
       "</pre>\n"
      ]
     },
     "metadata": {},
     "output_type": "display_data"
    },
    {
     "data": {
      "text/plain": [
       "\u001B[4;32mElena Martinez\u001B[0m\u001B[32m acts: \u001B[0m\u001B[1;32m[\u001B[0m\u001B[32mTHINK\u001B[0m\u001B[1;32m]\u001B[0m\u001B[32m \u001B[0m\n",
       "\u001B[32m                    > I need to outline the key performance indicators for the simulation model. The\u001B[0m\n",
       "\u001B[32m                    > focus should be on resilience score improvement, cost impact of strategies,\u001B[0m\n",
       "\u001B[32m                    > and recovery time metrics. I should also consider how to effectively\u001B[0m\n",
       "\u001B[32m                    > communicate these metrics in the report to ensure clarity for the executive\u001B[0m\n",
       "\u001B[32m                    > leadership.\u001B[0m\n"
      ],
      "text/html": [
       "<pre style=\"margin:0px;;white-space:pre;overflow-x:auto;line-height:normal;font-family:Menlo,'DejaVu Sans Mono',consolas,'Courier New',monospace\"><span style=\"color: #008000; text-decoration-color: #008000; text-decoration: underline\">Elena Martinez</span><span style=\"color: #008000; text-decoration-color: #008000\"> acts: </span><span style=\"color: #008000; text-decoration-color: #008000; font-weight: bold\">[</span><span style=\"color: #008000; text-decoration-color: #008000\">THINK</span><span style=\"color: #008000; text-decoration-color: #008000; font-weight: bold\">]</span><span style=\"color: #008000; text-decoration-color: #008000\"> </span>\n",
       "<span style=\"color: #008000; text-decoration-color: #008000\">                    &gt; I need to outline the key performance indicators for the simulation model. The</span>\n",
       "<span style=\"color: #008000; text-decoration-color: #008000\">                    &gt; focus should be on resilience score improvement, cost impact of strategies,</span>\n",
       "<span style=\"color: #008000; text-decoration-color: #008000\">                    &gt; and recovery time metrics. I should also consider how to effectively</span>\n",
       "<span style=\"color: #008000; text-decoration-color: #008000\">                    &gt; communicate these metrics in the report to ensure clarity for the executive</span>\n",
       "<span style=\"color: #008000; text-decoration-color: #008000\">                    &gt; leadership.</span>\n",
       "</pre>\n"
      ]
     },
     "metadata": {},
     "output_type": "display_data"
    },
    {
     "data": {
      "text/plain": [
       "\u001B[4;38;5;129mElena Martinez\u001B[0m\u001B[38;5;129m acts: \u001B[0m\u001B[1;38;5;129m[\u001B[0m\u001B[38;5;129mREACH_OUT\u001B[0m\u001B[1;38;5;129m]\u001B[0m\u001B[38;5;129m \u001B[0m\n",
       "\n"
      ],
      "text/html": [
       "<pre style=\"margin:0px;;white-space:pre;overflow-x:auto;line-height:normal;font-family:Menlo,'DejaVu Sans Mono',consolas,'Courier New',monospace\"><span style=\"color: #af00ff; text-decoration-color: #af00ff; text-decoration: underline\">Elena Martinez</span><span style=\"color: #af00ff; text-decoration-color: #af00ff\"> acts: </span><span style=\"color: #af00ff; text-decoration-color: #af00ff; font-weight: bold\">[</span><span style=\"color: #af00ff; text-decoration-color: #af00ff\">REACH_OUT</span><span style=\"color: #af00ff; text-decoration-color: #af00ff; font-weight: bold\">]</span><span style=\"color: #af00ff; text-decoration-color: #af00ff\"> </span>\n",
       "\n",
       "</pre>\n"
      ]
     },
     "metadata": {},
     "output_type": "display_data"
    }
   ],
   "execution_count": null
  },
  {
   "metadata": {
    "jupyter": {
     "is_executing": true
    }
   },
   "cell_type": "code",
   "source": [
    "rapporteur = world.get_agent_by_name(\"Elena Martinez\")\n",
    "rapporteur.listen_and_act(\"Can you please consolidate the results of the simulation, ensuring that all of the defined Expected Outputs are covered.\")"
   ],
   "id": "212b236041677f6b",
   "outputs": [],
   "execution_count": null
  },
  {
   "metadata": {
    "jupyter": {
     "is_executing": true
    }
   },
   "cell_type": "code",
   "source": [
    "extractor = ResultsExtractor()\n",
    "\n",
    "extractor.extract_results_from_agent(rapporteur)"
   ],
   "id": "aa6cb73871277d2",
   "outputs": [],
   "execution_count": null
  }
 ],
 "metadata": {
  "kernelspec": {
   "display_name": "Python 3",
   "language": "python",
   "name": "python3"
  },
  "language_info": {
   "codemirror_mode": {
    "name": "ipython",
    "version": 2
   },
   "file_extension": ".py",
   "mimetype": "text/x-python",
   "name": "python",
   "nbconvert_exporter": "python",
   "pygments_lexer": "ipython2",
   "version": "2.7.6"
  }
 },
 "nbformat": 4,
 "nbformat_minor": 5
}
