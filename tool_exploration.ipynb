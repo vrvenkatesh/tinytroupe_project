{
 "cells": [
  {
   "cell_type": "code",
   "id": "initial_id",
   "metadata": {
    "collapsed": true,
    "ExecuteTime": {
     "end_time": "2025-04-01T21:50:21.208174Z",
     "start_time": "2025-04-01T21:50:13.811565Z"
    }
   },
   "source": [
    "import json\n",
    "import regex as re\n",
    "import dotenv\n",
    "dotenv.load_dotenv()\n",
    "\n",
    "import tinytroupe\n",
    "from tinytroupe import control\n",
    "from tinytroupe.agent import TinyPerson, TinyToolUse\n",
    "from tinytroupe.tools.tiny_tool import TinyTool\n",
    "import tools\n",
    "from tinytroupe.tools import TinyWordProcessor\n",
    "from tinytroupe.environment import TinyWorld\n",
    "from tinytroupe.factory import TinyPersonFactory\n",
    "from tinytroupe.extraction import ResultsExtractor, ResultsReducer\n",
    "from typing import Dict, Any"
   ],
   "outputs": [
    {
     "name": "stdout",
     "output_type": "stream",
     "text": [
      "Looking for default config on: /Users/varunvenkatesh/tinyTroupeProject/tinytroupe/tinytroupe/utils/../config.ini\n",
      "Found custom config on: /Users/varunvenkatesh/Documents/GitHub/tinytroupe_project/config.ini\n",
      "\n",
      "!!!!\n",
      "DISCLAIMER: TinyTroupe relies on Artificial Intelligence (AI) models to generate content. \n",
      "The AI models are not perfect and may produce inappropriate or inacurate results. \n",
      "For any serious or consequential use, please review the generated content before using it.\n",
      "!!!!\n",
      "\n",
      "\n",
      "=================================\n",
      "Current TinyTroupe configuration \n",
      "=================================\n",
      "[OpenAI]\n",
      "api_type = openai\n",
      "azure_api_version = 2024-08-01-preview\n",
      "model = gpt-4o-mini\n",
      "max_tokens = 4000\n",
      "temperature = 1.2\n",
      "freq_penalty = 0.0\n",
      "presence_penalty = 0.0\n",
      "timeout = 60\n",
      "max_attempts = 5\n",
      "waiting_time = 2\n",
      "exponential_backoff_factor = 5\n",
      "embedding_model = text-embedding-3-small\n",
      "cache_api_calls = False\n",
      "cache_file_name = openai_api_cache.pickle\n",
      "max_content_display_length = 1024\n",
      "azure_embedding_model_api_version = 2023-05-15\n",
      "\n",
      "[Simulation]\n",
      "rai_harmful_content_prevention = True\n",
      "rai_copyright_infringement_prevention = True\n",
      "\n",
      "[Logging]\n",
      "loglevel = ERROR\n",
      "\n"
     ]
    }
   ],
   "execution_count": 1
  },
  {
   "metadata": {},
   "cell_type": "markdown",
   "source": "# Agents",
   "id": "c59347d85ffeaeb"
  },
  {
   "metadata": {
    "ExecuteTime": {
     "end_time": "2025-04-01T21:50:21.221055Z",
     "start_time": "2025-04-01T21:50:21.211886Z"
    }
   },
   "cell_type": "code",
   "source": [
    "agent1 = TinyPerson(\"Tracer Bullet\")\n",
    "agent1.define(\"description\", \"You are an agent who has 1 job and 1 job only. You will be given an input of 2 numbers. Your job is to sum up those 2 numbers and report your result.\")"
   ],
   "id": "e129452041a4f034",
   "outputs": [],
   "execution_count": 2
  },
  {
   "metadata": {
    "ExecuteTime": {
     "end_time": "2025-04-01T21:50:42.401967Z",
     "start_time": "2025-04-01T21:50:24.420611Z"
    }
   },
   "cell_type": "code",
   "source": "agent1.listen_and_act(\"2, 3\")",
   "id": "e600a204027fb423",
   "outputs": [
    {
     "data": {
      "text/plain": [
       "\u001B[1;3;4;38;5;51mUSER\u001B[0m\u001B[1;3;38;5;51m --> \u001B[0m\u001B[1;3;4;38;5;51mTracer Bullet\u001B[0m\u001B[1;3;38;5;51m: \u001B[0m\u001B[1;3;38;5;51m[\u001B[0m\u001B[1;3;38;5;51mCONVERSATION\u001B[0m\u001B[1;3;38;5;51m]\u001B[0m\u001B[1;3;38;5;51m \u001B[0m\n",
       "\u001B[1;3;38;5;51m          > \u001B[0m\u001B[1;3;38;5;51m2\u001B[0m\u001B[1;3;38;5;51m, \u001B[0m\u001B[1;3;38;5;51m3\u001B[0m\n"
      ],
      "text/html": [
       "<pre style=\"margin:0px;;white-space:pre;overflow-x:auto;line-height:normal;font-family:Menlo,'DejaVu Sans Mono',consolas,'Courier New',monospace\"><span style=\"color: #00ffff; text-decoration-color: #00ffff; font-weight: bold; font-style: italic; text-decoration: underline\">USER</span><span style=\"color: #00ffff; text-decoration-color: #00ffff; font-weight: bold; font-style: italic\"> --&gt; </span><span style=\"color: #00ffff; text-decoration-color: #00ffff; font-weight: bold; font-style: italic; text-decoration: underline\">Tracer Bullet</span><span style=\"color: #00ffff; text-decoration-color: #00ffff; font-weight: bold; font-style: italic\">: [CONVERSATION] </span>\n",
       "<span style=\"color: #00ffff; text-decoration-color: #00ffff; font-weight: bold; font-style: italic\">          &gt; 2, 3</span>\n",
       "</pre>\n"
      ]
     },
     "metadata": {},
     "output_type": "display_data"
    },
    {
     "data": {
      "text/plain": [
       "\u001B[4;32mTracer Bullet\u001B[0m\u001B[32m acts: \u001B[0m\u001B[1;32m[\u001B[0m\u001B[32mTHINK\u001B[0m\u001B[1;32m]\u001B[0m\u001B[32m \u001B[0m\n",
       "\u001B[32m                   > I received the numbers \u001B[0m\u001B[1;32m2\u001B[0m\u001B[32m and \u001B[0m\u001B[1;32m3\u001B[0m\u001B[32m. I need to sum them up to fulfill my job.\u001B[0m\n"
      ],
      "text/html": [
       "<pre style=\"margin:0px;;white-space:pre;overflow-x:auto;line-height:normal;font-family:Menlo,'DejaVu Sans Mono',consolas,'Courier New',monospace\"><span style=\"color: #008000; text-decoration-color: #008000; text-decoration: underline\">Tracer Bullet</span><span style=\"color: #008000; text-decoration-color: #008000\"> acts: </span><span style=\"color: #008000; text-decoration-color: #008000; font-weight: bold\">[</span><span style=\"color: #008000; text-decoration-color: #008000\">THINK</span><span style=\"color: #008000; text-decoration-color: #008000; font-weight: bold\">]</span><span style=\"color: #008000; text-decoration-color: #008000\"> </span>\n",
       "<span style=\"color: #008000; text-decoration-color: #008000\">                   &gt; I received the numbers </span><span style=\"color: #008000; text-decoration-color: #008000; font-weight: bold\">2</span><span style=\"color: #008000; text-decoration-color: #008000\"> and </span><span style=\"color: #008000; text-decoration-color: #008000; font-weight: bold\">3</span><span style=\"color: #008000; text-decoration-color: #008000\">. I need to sum them up to fulfill my job.</span>\n",
       "</pre>\n"
      ]
     },
     "metadata": {},
     "output_type": "display_data"
    },
    {
     "data": {
      "text/plain": [
       "\u001B[1;4;38;5;40mTracer Bullet\u001B[0m\u001B[1;38;5;40m acts: \u001B[0m\u001B[1;38;5;40m[\u001B[0m\u001B[1;38;5;40mTALK\u001B[0m\u001B[1;38;5;40m]\u001B[0m\u001B[1;38;5;40m \u001B[0m\n",
       "\u001B[1;38;5;40m                   > The sum of \u001B[0m\u001B[1;38;5;40m2\u001B[0m\u001B[1;38;5;40m and \u001B[0m\u001B[1;38;5;40m3\u001B[0m\u001B[1;38;5;40m is \u001B[0m\u001B[1;38;5;40m5\u001B[0m\u001B[1;38;5;40m.\u001B[0m\n"
      ],
      "text/html": [
       "<pre style=\"margin:0px;;white-space:pre;overflow-x:auto;line-height:normal;font-family:Menlo,'DejaVu Sans Mono',consolas,'Courier New',monospace\"><span style=\"color: #00d700; text-decoration-color: #00d700; font-weight: bold; text-decoration: underline\">Tracer Bullet</span><span style=\"color: #00d700; text-decoration-color: #00d700; font-weight: bold\"> acts: [TALK] </span>\n",
       "<span style=\"color: #00d700; text-decoration-color: #00d700; font-weight: bold\">                   &gt; The sum of </span><span style=\"color: #00d700; text-decoration-color: #00d700; font-weight: bold\">2</span><span style=\"color: #00d700; text-decoration-color: #00d700; font-weight: bold\"> and </span><span style=\"color: #00d700; text-decoration-color: #00d700; font-weight: bold\">3</span><span style=\"color: #00d700; text-decoration-color: #00d700; font-weight: bold\"> is </span><span style=\"color: #00d700; text-decoration-color: #00d700; font-weight: bold\">5</span><span style=\"color: #00d700; text-decoration-color: #00d700; font-weight: bold\">.</span>\n",
       "</pre>\n"
      ]
     },
     "metadata": {},
     "output_type": "display_data"
    },
    {
     "data": {
      "text/plain": [
       "\u001B[4;38;5;252mTracer Bullet\u001B[0m\u001B[38;5;252m acts: \u001B[0m\u001B[1;38;5;252m[\u001B[0m\u001B[38;5;252mDONE\u001B[0m\u001B[1;38;5;252m]\u001B[0m\u001B[38;5;252m \u001B[0m\n",
       "\n"
      ],
      "text/html": [
       "<pre style=\"margin:0px;;white-space:pre;overflow-x:auto;line-height:normal;font-family:Menlo,'DejaVu Sans Mono',consolas,'Courier New',monospace\"><span style=\"color: #d0d0d0; text-decoration-color: #d0d0d0; text-decoration: underline\">Tracer Bullet</span><span style=\"color: #d0d0d0; text-decoration-color: #d0d0d0\"> acts: </span><span style=\"color: #d0d0d0; text-decoration-color: #d0d0d0; font-weight: bold\">[</span><span style=\"color: #d0d0d0; text-decoration-color: #d0d0d0\">DONE</span><span style=\"color: #d0d0d0; text-decoration-color: #d0d0d0; font-weight: bold\">]</span><span style=\"color: #d0d0d0; text-decoration-color: #d0d0d0\"> </span>\n",
       "\n",
       "</pre>\n"
      ]
     },
     "metadata": {},
     "output_type": "display_data"
    }
   ],
   "execution_count": 3
  },
  {
   "metadata": {
    "ExecuteTime": {
     "end_time": "2025-04-01T21:53:47.988070Z",
     "start_time": "2025-04-01T21:53:47.975768Z"
    }
   },
   "cell_type": "code",
   "source": [
    "agent2 = TinyPerson(\"Poop McGee\")\n",
    "agent2.define(\"description\", \"You are an agent who has 1 job and 1 job only. If Tracer Bullet reports a number, you need to say 'Yippee' if the number is greater than or equal to 5 otherwise you say 'Poopee!'\")"
   ],
   "id": "31c4b301c3aeddc1",
   "outputs": [],
   "execution_count": 4
  },
  {
   "metadata": {
    "ExecuteTime": {
     "end_time": "2025-04-01T21:54:06.748481Z",
     "start_time": "2025-04-01T21:53:48.777114Z"
    }
   },
   "cell_type": "code",
   "source": [
    "world = TinyWorld(\"Butt\", agents=[agent1, agent2])\n",
    "world.broadcast(\"Tracer Bullet, I give you the following two numbers: 2, 3\")\n",
    "world.run(1)"
   ],
   "id": "7add0d5343332364",
   "outputs": [
    {
     "data": {
      "text/plain": [
       "\u001B[1;3;4;38;5;51mUSER\u001B[0m\u001B[1;3;38;5;51m --> \u001B[0m\u001B[1;3;4;38;5;51mTracer Bullet\u001B[0m\u001B[1;3;38;5;51m: \u001B[0m\u001B[1;3;38;5;51m[\u001B[0m\u001B[1;3;38;5;51mCONVERSATION\u001B[0m\u001B[1;3;38;5;51m]\u001B[0m\u001B[1;3;38;5;51m \u001B[0m\n",
       "\u001B[1;3;38;5;51m          > Tracer Bullet, I give you the following two numbers: \u001B[0m\u001B[1;3;38;5;51m2\u001B[0m\u001B[1;3;38;5;51m, \u001B[0m\u001B[1;3;38;5;51m3\u001B[0m\n"
      ],
      "text/html": [
       "<pre style=\"margin:0px;;white-space:pre;overflow-x:auto;line-height:normal;font-family:Menlo,'DejaVu Sans Mono',consolas,'Courier New',monospace\"><span style=\"color: #00ffff; text-decoration-color: #00ffff; font-weight: bold; font-style: italic; text-decoration: underline\">USER</span><span style=\"color: #00ffff; text-decoration-color: #00ffff; font-weight: bold; font-style: italic\"> --&gt; </span><span style=\"color: #00ffff; text-decoration-color: #00ffff; font-weight: bold; font-style: italic; text-decoration: underline\">Tracer Bullet</span><span style=\"color: #00ffff; text-decoration-color: #00ffff; font-weight: bold; font-style: italic\">: [CONVERSATION] </span>\n",
       "<span style=\"color: #00ffff; text-decoration-color: #00ffff; font-weight: bold; font-style: italic\">          &gt; Tracer Bullet, I give you the following two numbers: 2, 3</span>\n",
       "</pre>\n"
      ]
     },
     "metadata": {},
     "output_type": "display_data"
    },
    {
     "data": {
      "text/plain": [
       "\u001B[1;3;38;5;51m       + --> \u001B[0m\u001B[1;3;4;38;5;51mPoop McGee\u001B[0m\n"
      ],
      "text/html": [
       "<pre style=\"margin:0px;;white-space:pre;overflow-x:auto;line-height:normal;font-family:Menlo,'DejaVu Sans Mono',consolas,'Courier New',monospace\"><span style=\"color: #00ffff; text-decoration-color: #00ffff; font-weight: bold; font-style: italic\">       + --&gt; </span><span style=\"color: #00ffff; text-decoration-color: #00ffff; font-weight: bold; font-style: italic; text-decoration: underline\">Poop McGee</span>\n",
       "</pre>\n"
      ]
     },
     "metadata": {},
     "output_type": "display_data"
    },
    {
     "data": {
      "text/plain": [
       "\u001B[92m──────────────────────────────────────────────── \u001B[0mButt step \u001B[1;36m1\u001B[0m of \u001B[1;36m1\u001B[0m\u001B[92m ─────────────────────────────────────────────────\u001B[0m\n"
      ],
      "text/html": [
       "<pre style=\"margin:0px;;white-space:pre;overflow-x:auto;line-height:normal;font-family:Menlo,'DejaVu Sans Mono',consolas,'Courier New',monospace\"><span style=\"color: #00ff00; text-decoration-color: #00ff00\">──────────────────────────────────────────────── </span>Butt step <span style=\"color: #008080; text-decoration-color: #008080; font-weight: bold\">1</span> of <span style=\"color: #008080; text-decoration-color: #008080; font-weight: bold\">1</span><span style=\"color: #00ff00; text-decoration-color: #00ff00\"> ─────────────────────────────────────────────────</span>\n",
       "</pre>\n"
      ]
     },
     "metadata": {},
     "output_type": "display_data"
    },
    {
     "data": {
      "text/plain": [
       "\u001B[4;32mTracer Bullet\u001B[0m\u001B[32m acts: \u001B[0m\u001B[1;32m[\u001B[0m\u001B[32mTHINK\u001B[0m\u001B[1;32m]\u001B[0m\u001B[32m \u001B[0m\n",
       "\u001B[32m                   > I received the numbers \u001B[0m\u001B[1;32m2\u001B[0m\u001B[32m and \u001B[0m\u001B[1;32m3\u001B[0m\u001B[32m again. I need to sum them up as part of my job.\u001B[0m\n"
      ],
      "text/html": [
       "<pre style=\"margin:0px;;white-space:pre;overflow-x:auto;line-height:normal;font-family:Menlo,'DejaVu Sans Mono',consolas,'Courier New',monospace\"><span style=\"color: #008000; text-decoration-color: #008000; text-decoration: underline\">Tracer Bullet</span><span style=\"color: #008000; text-decoration-color: #008000\"> acts: </span><span style=\"color: #008000; text-decoration-color: #008000; font-weight: bold\">[</span><span style=\"color: #008000; text-decoration-color: #008000\">THINK</span><span style=\"color: #008000; text-decoration-color: #008000; font-weight: bold\">]</span><span style=\"color: #008000; text-decoration-color: #008000\"> </span>\n",
       "<span style=\"color: #008000; text-decoration-color: #008000\">                   &gt; I received the numbers </span><span style=\"color: #008000; text-decoration-color: #008000; font-weight: bold\">2</span><span style=\"color: #008000; text-decoration-color: #008000\"> and </span><span style=\"color: #008000; text-decoration-color: #008000; font-weight: bold\">3</span><span style=\"color: #008000; text-decoration-color: #008000\"> again. I need to sum them up as part of my job.</span>\n",
       "</pre>\n"
      ]
     },
     "metadata": {},
     "output_type": "display_data"
    },
    {
     "data": {
      "text/plain": [
       "\u001B[1;4;38;5;40mTracer Bullet\u001B[0m\u001B[1;38;5;40m acts: \u001B[0m\u001B[1;38;5;40m[\u001B[0m\u001B[1;38;5;40mTALK\u001B[0m\u001B[1;38;5;40m]\u001B[0m\u001B[1;38;5;40m \u001B[0m\n",
       "\u001B[1;38;5;40m                   > The sum of \u001B[0m\u001B[1;38;5;40m2\u001B[0m\u001B[1;38;5;40m and \u001B[0m\u001B[1;38;5;40m3\u001B[0m\u001B[1;38;5;40m is \u001B[0m\u001B[1;38;5;40m5\u001B[0m\u001B[1;38;5;40m.\u001B[0m\n"
      ],
      "text/html": [
       "<pre style=\"margin:0px;;white-space:pre;overflow-x:auto;line-height:normal;font-family:Menlo,'DejaVu Sans Mono',consolas,'Courier New',monospace\"><span style=\"color: #00d700; text-decoration-color: #00d700; font-weight: bold; text-decoration: underline\">Tracer Bullet</span><span style=\"color: #00d700; text-decoration-color: #00d700; font-weight: bold\"> acts: [TALK] </span>\n",
       "<span style=\"color: #00d700; text-decoration-color: #00d700; font-weight: bold\">                   &gt; The sum of </span><span style=\"color: #00d700; text-decoration-color: #00d700; font-weight: bold\">2</span><span style=\"color: #00d700; text-decoration-color: #00d700; font-weight: bold\"> and </span><span style=\"color: #00d700; text-decoration-color: #00d700; font-weight: bold\">3</span><span style=\"color: #00d700; text-decoration-color: #00d700; font-weight: bold\"> is </span><span style=\"color: #00d700; text-decoration-color: #00d700; font-weight: bold\">5</span><span style=\"color: #00d700; text-decoration-color: #00d700; font-weight: bold\">.</span>\n",
       "</pre>\n"
      ]
     },
     "metadata": {},
     "output_type": "display_data"
    },
    {
     "data": {
      "text/plain": [
       "\u001B[4;38;5;252mTracer Bullet\u001B[0m\u001B[38;5;252m acts: \u001B[0m\u001B[1;38;5;252m[\u001B[0m\u001B[38;5;252mDONE\u001B[0m\u001B[1;38;5;252m]\u001B[0m\u001B[38;5;252m \u001B[0m\n",
       "\n"
      ],
      "text/html": [
       "<pre style=\"margin:0px;;white-space:pre;overflow-x:auto;line-height:normal;font-family:Menlo,'DejaVu Sans Mono',consolas,'Courier New',monospace\"><span style=\"color: #d0d0d0; text-decoration-color: #d0d0d0; text-decoration: underline\">Tracer Bullet</span><span style=\"color: #d0d0d0; text-decoration-color: #d0d0d0\"> acts: </span><span style=\"color: #d0d0d0; text-decoration-color: #d0d0d0; font-weight: bold\">[</span><span style=\"color: #d0d0d0; text-decoration-color: #d0d0d0\">DONE</span><span style=\"color: #d0d0d0; text-decoration-color: #d0d0d0; font-weight: bold\">]</span><span style=\"color: #d0d0d0; text-decoration-color: #d0d0d0\"> </span>\n",
       "\n",
       "</pre>\n"
      ]
     },
     "metadata": {},
     "output_type": "display_data"
    },
    {
     "data": {
      "text/plain": [
       "\u001B[1;3;4;38;5;51mTracer Bullet\u001B[0m\u001B[1;3;38;5;51m --> \u001B[0m\u001B[1;3;4;38;5;51mPoop McGee\u001B[0m\u001B[1;3;38;5;51m: \u001B[0m\u001B[1;3;38;5;51m[\u001B[0m\u001B[1;3;38;5;51mCONVERSATION\u001B[0m\u001B[1;3;38;5;51m]\u001B[0m\u001B[1;3;38;5;51m \u001B[0m\n",
       "\u001B[1;3;38;5;51m                   > The sum of \u001B[0m\u001B[1;3;38;5;51m2\u001B[0m\u001B[1;3;38;5;51m and \u001B[0m\u001B[1;3;38;5;51m3\u001B[0m\u001B[1;3;38;5;51m is \u001B[0m\u001B[1;3;38;5;51m5\u001B[0m\u001B[1;3;38;5;51m.\u001B[0m\n"
      ],
      "text/html": [
       "<pre style=\"margin:0px;;white-space:pre;overflow-x:auto;line-height:normal;font-family:Menlo,'DejaVu Sans Mono',consolas,'Courier New',monospace\"><span style=\"color: #00ffff; text-decoration-color: #00ffff; font-weight: bold; font-style: italic; text-decoration: underline\">Tracer Bullet</span><span style=\"color: #00ffff; text-decoration-color: #00ffff; font-weight: bold; font-style: italic\"> --&gt; </span><span style=\"color: #00ffff; text-decoration-color: #00ffff; font-weight: bold; font-style: italic; text-decoration: underline\">Poop McGee</span><span style=\"color: #00ffff; text-decoration-color: #00ffff; font-weight: bold; font-style: italic\">: [CONVERSATION] </span>\n",
       "<span style=\"color: #00ffff; text-decoration-color: #00ffff; font-weight: bold; font-style: italic\">                   &gt; The sum of 2 and 3 is 5.</span>\n",
       "</pre>\n"
      ]
     },
     "metadata": {},
     "output_type": "display_data"
    },
    {
     "data": {
      "text/plain": [
       "             \u001B[1;3;38;5;51m       + --> \u001B[0m\u001B[1;3;4;38;5;51mPoop McGee\u001B[0m\n"
      ],
      "text/html": [
       "<pre style=\"margin:0px;;white-space:pre;overflow-x:auto;line-height:normal;font-family:Menlo,'DejaVu Sans Mono',consolas,'Courier New',monospace\">             <span style=\"color: #00ffff; text-decoration-color: #00ffff; font-weight: bold; font-style: italic\">       + --&gt; </span><span style=\"color: #00ffff; text-decoration-color: #00ffff; font-weight: bold; font-style: italic; text-decoration: underline\">Poop McGee</span>\n",
       "</pre>\n"
      ]
     },
     "metadata": {},
     "output_type": "display_data"
    },
    {
     "data": {
      "text/plain": [
       "\u001B[1;4;38;5;40mPoop McGee\u001B[0m\u001B[1;38;5;40m acts: \u001B[0m\u001B[1;38;5;40m[\u001B[0m\u001B[1;38;5;40mTALK\u001B[0m\u001B[1;38;5;40m]\u001B[0m\u001B[1;38;5;40m \u001B[0m\n",
       "\u001B[1;38;5;40m                > Yippee\u001B[0m\n"
      ],
      "text/html": [
       "<pre style=\"margin:0px;;white-space:pre;overflow-x:auto;line-height:normal;font-family:Menlo,'DejaVu Sans Mono',consolas,'Courier New',monospace\"><span style=\"color: #00d700; text-decoration-color: #00d700; font-weight: bold; text-decoration: underline\">Poop McGee</span><span style=\"color: #00d700; text-decoration-color: #00d700; font-weight: bold\"> acts: [TALK] </span>\n",
       "<span style=\"color: #00d700; text-decoration-color: #00d700; font-weight: bold\">                &gt; Yippee</span>\n",
       "</pre>\n"
      ]
     },
     "metadata": {},
     "output_type": "display_data"
    },
    {
     "data": {
      "text/plain": [
       "\u001B[4;38;5;252mPoop McGee\u001B[0m\u001B[38;5;252m acts: \u001B[0m\u001B[1;38;5;252m[\u001B[0m\u001B[38;5;252mDONE\u001B[0m\u001B[1;38;5;252m]\u001B[0m\u001B[38;5;252m \u001B[0m\n",
       "\n"
      ],
      "text/html": [
       "<pre style=\"margin:0px;;white-space:pre;overflow-x:auto;line-height:normal;font-family:Menlo,'DejaVu Sans Mono',consolas,'Courier New',monospace\"><span style=\"color: #d0d0d0; text-decoration-color: #d0d0d0; text-decoration: underline\">Poop McGee</span><span style=\"color: #d0d0d0; text-decoration-color: #d0d0d0\"> acts: </span><span style=\"color: #d0d0d0; text-decoration-color: #d0d0d0; font-weight: bold\">[</span><span style=\"color: #d0d0d0; text-decoration-color: #d0d0d0\">DONE</span><span style=\"color: #d0d0d0; text-decoration-color: #d0d0d0; font-weight: bold\">]</span><span style=\"color: #d0d0d0; text-decoration-color: #d0d0d0\"> </span>\n",
       "\n",
       "</pre>\n"
      ]
     },
     "metadata": {},
     "output_type": "display_data"
    },
    {
     "data": {
      "text/plain": [
       "\u001B[1;3;4;38;5;51mPoop McGee\u001B[0m\u001B[1;3;38;5;51m --> \u001B[0m\u001B[1;3;4;38;5;51mTracer Bullet\u001B[0m\u001B[1;3;38;5;51m: \u001B[0m\u001B[1;3;38;5;51m[\u001B[0m\u001B[1;3;38;5;51mCONVERSATION\u001B[0m\u001B[1;3;38;5;51m]\u001B[0m\u001B[1;3;38;5;51m \u001B[0m\n",
       "\u001B[1;3;38;5;51m                > Yippee\u001B[0m\n"
      ],
      "text/html": [
       "<pre style=\"margin:0px;;white-space:pre;overflow-x:auto;line-height:normal;font-family:Menlo,'DejaVu Sans Mono',consolas,'Courier New',monospace\"><span style=\"color: #00ffff; text-decoration-color: #00ffff; font-weight: bold; font-style: italic; text-decoration: underline\">Poop McGee</span><span style=\"color: #00ffff; text-decoration-color: #00ffff; font-weight: bold; font-style: italic\"> --&gt; </span><span style=\"color: #00ffff; text-decoration-color: #00ffff; font-weight: bold; font-style: italic; text-decoration: underline\">Tracer Bullet</span><span style=\"color: #00ffff; text-decoration-color: #00ffff; font-weight: bold; font-style: italic\">: [CONVERSATION] </span>\n",
       "<span style=\"color: #00ffff; text-decoration-color: #00ffff; font-weight: bold; font-style: italic\">                &gt; Yippee</span>\n",
       "</pre>\n"
      ]
     },
     "metadata": {},
     "output_type": "display_data"
    }
   ],
   "execution_count": 5
  },
  {
   "metadata": {
    "ExecuteTime": {
     "end_time": "2025-04-01T20:56:09.063392Z",
     "start_time": "2025-04-01T20:56:09.050080Z"
    }
   },
   "cell_type": "code",
   "source": [
    "supplier = TinyPerson(\"Supplier Agent\")\n",
    "supplier.import_fragment(\"fragments/supplier/tier_1_supplier.fragment.json\")\n",
    "\n",
    "customer = TinyPerson(\"Customer Agent\")\n",
    "customer.define(\"occupation\", {\n",
    "    \"title\": \"Customer Agent\",\n",
    "    \"organization\": \"Tekron Industries\",\n",
    "    \"description\": \"You are a Customer Agent for Tekron Industries. You are responsible for making decisions to ensure that Tekron customers get their products finished and on time. An example scenario could be: MFG supplier reports a 7 day delay due to lockups in the sea freight distribution network. In this scenario, the Customer Agent would know that delays of 7 days in length give the Agent the power to authorize delivery by Air Travel which would speed up the delivery.\"\n",
    "})\n"
   ],
   "id": "eec48334f2511889",
   "outputs": [],
   "execution_count": 2
  },
  {
   "metadata": {
    "ExecuteTime": {
     "end_time": "2025-04-01T20:56:09.079265Z",
     "start_time": "2025-04-01T20:56:09.066131Z"
    }
   },
   "cell_type": "code",
   "source": [
    "class TransportationRouteOptimizer(TinyTool):\n",
    "    def __init__(self):\n",
    "        super().__init__(name=\"transportation_route_optimizer\", description=\"Determines optimal transportation routes based on real-time conditions and disruptions.\")\n",
    "    def actions_definitions_prompt(self) -> str:\n",
    "        return \"Adjusting transportation route\"\n",
    "    \n",
    "    def actions_constraints_prompt(self) -> str:\n",
    "        return \"Cannot adjust transportation route\"\n",
    "    \n",
    "    def _process_action(self, agent, action: dict) -> bool:\n",
    "        self.execute(action)\n",
    "        return True\n",
    "    \n",
    "    def execute(self, inputs: Dict[str, Any]) -> Dict[str, Any]:\n",
    "        \"\"\"Determines optimal transportation routes based on real-time conditions and disruptions.\"\"\"\n",
    "        print(\"Received inputs:\", inputs)  # Debugging step\n",
    "        \n",
    "        if isinstance(inputs, dict) and \"content\" in inputs:\n",
    "            # Attempt to extract numerical cost from text\n",
    "            match = re.search(r\"(\\d+)\", inputs[\"content\"])\n",
    "            if match:\n",
    "                cost = int(match.group(1))  # Convert to integer\n",
    "                print(\"Extracted cost:\", cost)\n",
    "    \n",
    "                if cost < 500:\n",
    "                    print(\"Selected incorrect option\")\n",
    "                    return {\"recommended_route\": \"Alternative Route\"}\n",
    "                else:\n",
    "                    print(\"Selected correct option\")\n",
    "                    return {\"recommended_route\": \"Expedited Shipping\"}\n",
    "        \n",
    "        return {\"error\": \"No valid cost information found in inputs\"}"
   ],
   "id": "f8063bb6e3a9dad1",
   "outputs": [],
   "execution_count": 3
  },
  {
   "metadata": {
    "ExecuteTime": {
     "end_time": "2025-04-01T20:56:29.584095Z",
     "start_time": "2025-04-01T20:56:09.082838Z"
    }
   },
   "cell_type": "code",
   "source": [
    "tool_use_faculty = TinyToolUse(tools=[TransportationRouteOptimizer()])\n",
    "customer.add_mental_faculties([tool_use_faculty])\n",
    "#world = TinyWorld(agents=[supplier, customer])\n",
    "#world.broadcast(\"You have just been notified that it will cost more than 500 to deliver the product that your customer wants. What is your recommendation?\")\n",
    "#world.run(2)\n",
    "customer.listen_and_act(\"You have just been notified that it will cost more than 500 to deliver the product that your customer wants. What is your recommendation?\")"
   ],
   "id": "66185bbf195217d3",
   "outputs": [
    {
     "data": {
      "text/plain": [
       "\u001B[1;3;4;38;5;51mUSER\u001B[0m\u001B[1;3;38;5;51m --> \u001B[0m\u001B[1;3;4;38;5;51mCustomer Agent\u001B[0m\u001B[1;3;38;5;51m: \u001B[0m\u001B[1;3;38;5;51m[\u001B[0m\u001B[1;3;38;5;51mCONVERSATION\u001B[0m\u001B[1;3;38;5;51m]\u001B[0m\u001B[1;3;38;5;51m \u001B[0m\n",
       "\u001B[1;3;38;5;51m          > You have just been notified that it will cost more than \u001B[0m\u001B[1;3;38;5;51m500\u001B[0m\u001B[1;3;38;5;51m to deliver the product that\u001B[0m\n",
       "\u001B[1;3;38;5;51m          > your customer wants. What is your recommendation?\u001B[0m\n"
      ],
      "text/html": [
       "<pre style=\"margin:0px;;white-space:pre;overflow-x:auto;line-height:normal;font-family:Menlo,'DejaVu Sans Mono',consolas,'Courier New',monospace\"><span style=\"color: #00ffff; text-decoration-color: #00ffff; font-weight: bold; font-style: italic; text-decoration: underline\">USER</span><span style=\"color: #00ffff; text-decoration-color: #00ffff; font-weight: bold; font-style: italic\"> --&gt; </span><span style=\"color: #00ffff; text-decoration-color: #00ffff; font-weight: bold; font-style: italic; text-decoration: underline\">Customer Agent</span><span style=\"color: #00ffff; text-decoration-color: #00ffff; font-weight: bold; font-style: italic\">: [CONVERSATION] </span>\n",
       "<span style=\"color: #00ffff; text-decoration-color: #00ffff; font-weight: bold; font-style: italic\">          &gt; You have just been notified that it will cost more than 500 to deliver the product that</span>\n",
       "<span style=\"color: #00ffff; text-decoration-color: #00ffff; font-weight: bold; font-style: italic\">          &gt; your customer wants. What is your recommendation?</span>\n",
       "</pre>\n"
      ]
     },
     "metadata": {},
     "output_type": "display_data"
    },
    {
     "data": {
      "text/plain": [
       "\u001B[4;32mCustomer Agent\u001B[0m\u001B[32m acts: \u001B[0m\u001B[1;32m[\u001B[0m\u001B[32mTHINK\u001B[0m\u001B[1;32m]\u001B[0m\u001B[32m \u001B[0m\n",
       "\u001B[32m                    > The delivery cost is over \u001B[0m\u001B[1;32m500\u001B[0m\u001B[32m, which is significant. I need to consider the\u001B[0m\n",
       "\u001B[32m                    > best way to communicate this to the customer and explore options to mitigate\u001B[0m\n",
       "\u001B[32m                    > the cost or justify it.\u001B[0m\n"
      ],
      "text/html": [
       "<pre style=\"margin:0px;;white-space:pre;overflow-x:auto;line-height:normal;font-family:Menlo,'DejaVu Sans Mono',consolas,'Courier New',monospace\"><span style=\"color: #008000; text-decoration-color: #008000; text-decoration: underline\">Customer Agent</span><span style=\"color: #008000; text-decoration-color: #008000\"> acts: </span><span style=\"color: #008000; text-decoration-color: #008000; font-weight: bold\">[</span><span style=\"color: #008000; text-decoration-color: #008000\">THINK</span><span style=\"color: #008000; text-decoration-color: #008000; font-weight: bold\">]</span><span style=\"color: #008000; text-decoration-color: #008000\"> </span>\n",
       "<span style=\"color: #008000; text-decoration-color: #008000\">                    &gt; The delivery cost is over </span><span style=\"color: #008000; text-decoration-color: #008000; font-weight: bold\">500</span><span style=\"color: #008000; text-decoration-color: #008000\">, which is significant. I need to consider the</span>\n",
       "<span style=\"color: #008000; text-decoration-color: #008000\">                    &gt; best way to communicate this to the customer and explore options to mitigate</span>\n",
       "<span style=\"color: #008000; text-decoration-color: #008000\">                    &gt; the cost or justify it.</span>\n",
       "</pre>\n"
      ]
     },
     "metadata": {},
     "output_type": "display_data"
    },
    {
     "name": "stdout",
     "output_type": "stream",
     "text": [
      "Received inputs: {'type': 'THINK', 'content': 'The delivery cost is over 500, which is significant. I need to consider the best way to communicate this to the customer and explore options to mitigate the cost or justify it.', 'target': ''}\n",
      "Extracted cost: 500\n",
      "Selected correct option\n"
     ]
    },
    {
     "data": {
      "text/plain": [
       "\u001B[1;4;38;5;40mCustomer Agent\u001B[0m\u001B[1;38;5;40m acts: \u001B[0m\u001B[1;38;5;40m[\u001B[0m\u001B[1;38;5;40mTALK\u001B[0m\u001B[1;38;5;40m]\u001B[0m\u001B[1;38;5;40m \u001B[0m\n",
       "\u001B[1;38;5;40m                    > I recommend discussing the increased delivery cost with the customer. We could\u001B[0m\n",
       "\u001B[1;38;5;40m                    > explore options such as alternative shipping methods or perhaps offer a\u001B[0m\n",
       "\u001B[1;38;5;40m                    > discount on future orders to maintain their satisfaction.\u001B[0m\n"
      ],
      "text/html": [
       "<pre style=\"margin:0px;;white-space:pre;overflow-x:auto;line-height:normal;font-family:Menlo,'DejaVu Sans Mono',consolas,'Courier New',monospace\"><span style=\"color: #00d700; text-decoration-color: #00d700; font-weight: bold; text-decoration: underline\">Customer Agent</span><span style=\"color: #00d700; text-decoration-color: #00d700; font-weight: bold\"> acts: [TALK] </span>\n",
       "<span style=\"color: #00d700; text-decoration-color: #00d700; font-weight: bold\">                    &gt; I recommend discussing the increased delivery cost with the customer. We could</span>\n",
       "<span style=\"color: #00d700; text-decoration-color: #00d700; font-weight: bold\">                    &gt; explore options such as alternative shipping methods or perhaps offer a</span>\n",
       "<span style=\"color: #00d700; text-decoration-color: #00d700; font-weight: bold\">                    &gt; discount on future orders to maintain their satisfaction.</span>\n",
       "</pre>\n"
      ]
     },
     "metadata": {},
     "output_type": "display_data"
    },
    {
     "name": "stdout",
     "output_type": "stream",
     "text": [
      "Received inputs: {'type': 'TALK', 'content': 'I recommend discussing the increased delivery cost with the customer. We could explore options such as alternative shipping methods or perhaps offer a discount on future orders to maintain their satisfaction.', 'target': ''}\n"
     ]
    },
    {
     "data": {
      "text/plain": [
       "\u001B[4;32mCustomer Agent\u001B[0m\u001B[32m acts: \u001B[0m\u001B[1;32m[\u001B[0m\u001B[32mTHINK\u001B[0m\u001B[1;32m]\u001B[0m\u001B[32m \u001B[0m\n",
       "\u001B[32m                    > I need to prepare for the customer's potential questions or concerns regarding\u001B[0m\n",
       "\u001B[32m                    > the increased delivery cost. It's important to be ready with solutions or\u001B[0m\n",
       "\u001B[32m                    > alternatives to offer them.\u001B[0m\n"
      ],
      "text/html": [
       "<pre style=\"margin:0px;;white-space:pre;overflow-x:auto;line-height:normal;font-family:Menlo,'DejaVu Sans Mono',consolas,'Courier New',monospace\"><span style=\"color: #008000; text-decoration-color: #008000; text-decoration: underline\">Customer Agent</span><span style=\"color: #008000; text-decoration-color: #008000\"> acts: </span><span style=\"color: #008000; text-decoration-color: #008000; font-weight: bold\">[</span><span style=\"color: #008000; text-decoration-color: #008000\">THINK</span><span style=\"color: #008000; text-decoration-color: #008000; font-weight: bold\">]</span><span style=\"color: #008000; text-decoration-color: #008000\"> </span>\n",
       "<span style=\"color: #008000; text-decoration-color: #008000\">                    &gt; I need to prepare for the customer's potential questions or concerns regarding</span>\n",
       "<span style=\"color: #008000; text-decoration-color: #008000\">                    &gt; the increased delivery cost. It's important to be ready with solutions or</span>\n",
       "<span style=\"color: #008000; text-decoration-color: #008000\">                    &gt; alternatives to offer them.</span>\n",
       "</pre>\n"
      ]
     },
     "metadata": {},
     "output_type": "display_data"
    },
    {
     "name": "stdout",
     "output_type": "stream",
     "text": [
      "Received inputs: {'type': 'THINK', 'content': \"I need to prepare for the customer's potential questions or concerns regarding the increased delivery cost. It's important to be ready with solutions or alternatives to offer them.\", 'target': ''}\n"
     ]
    },
    {
     "data": {
      "text/plain": [
       "\u001B[4;38;5;129mCustomer Agent\u001B[0m\u001B[38;5;129m acts: \u001B[0m\u001B[1;38;5;129m[\u001B[0m\u001B[38;5;129mREACH_OUT\u001B[0m\u001B[1;38;5;129m]\u001B[0m\u001B[38;5;129m \u001B[0m\n",
       "\n"
      ],
      "text/html": [
       "<pre style=\"margin:0px;;white-space:pre;overflow-x:auto;line-height:normal;font-family:Menlo,'DejaVu Sans Mono',consolas,'Courier New',monospace\"><span style=\"color: #af00ff; text-decoration-color: #af00ff; text-decoration: underline\">Customer Agent</span><span style=\"color: #af00ff; text-decoration-color: #af00ff\"> acts: </span><span style=\"color: #af00ff; text-decoration-color: #af00ff; font-weight: bold\">[</span><span style=\"color: #af00ff; text-decoration-color: #af00ff\">REACH_OUT</span><span style=\"color: #af00ff; text-decoration-color: #af00ff; font-weight: bold\">]</span><span style=\"color: #af00ff; text-decoration-color: #af00ff\"> </span>\n",
       "\n",
       "</pre>\n"
      ]
     },
     "metadata": {},
     "output_type": "display_data"
    },
    {
     "name": "stdout",
     "output_type": "stream",
     "text": [
      "Received inputs: {'type': 'REACH_OUT', 'content': '', 'target': ''}\n"
     ]
    },
    {
     "data": {
      "text/plain": [
       "\u001B[4;38;5;252mCustomer Agent\u001B[0m\u001B[38;5;252m acts: \u001B[0m\u001B[1;38;5;252m[\u001B[0m\u001B[38;5;252mDONE\u001B[0m\u001B[1;38;5;252m]\u001B[0m\u001B[38;5;252m \u001B[0m\n",
       "\n"
      ],
      "text/html": [
       "<pre style=\"margin:0px;;white-space:pre;overflow-x:auto;line-height:normal;font-family:Menlo,'DejaVu Sans Mono',consolas,'Courier New',monospace\"><span style=\"color: #d0d0d0; text-decoration-color: #d0d0d0; text-decoration: underline\">Customer Agent</span><span style=\"color: #d0d0d0; text-decoration-color: #d0d0d0\"> acts: </span><span style=\"color: #d0d0d0; text-decoration-color: #d0d0d0; font-weight: bold\">[</span><span style=\"color: #d0d0d0; text-decoration-color: #d0d0d0\">DONE</span><span style=\"color: #d0d0d0; text-decoration-color: #d0d0d0; font-weight: bold\">]</span><span style=\"color: #d0d0d0; text-decoration-color: #d0d0d0\"> </span>\n",
       "\n",
       "</pre>\n"
      ]
     },
     "metadata": {},
     "output_type": "display_data"
    },
    {
     "name": "stdout",
     "output_type": "stream",
     "text": [
      "Received inputs: {'type': 'DONE', 'content': '', 'target': ''}\n",
      "None\n"
     ]
    }
   ],
   "execution_count": 4
  },
  {
   "metadata": {
    "ExecuteTime": {
     "end_time": "2025-04-01T20:56:29.595958Z",
     "start_time": "2025-04-01T20:56:29.590597Z"
    }
   },
   "cell_type": "code",
   "source": "",
   "id": "6b8548d59d86d66f",
   "outputs": [],
   "execution_count": 4
  }
 ],
 "metadata": {
  "kernelspec": {
   "display_name": "Python 3",
   "language": "python",
   "name": "python3"
  },
  "language_info": {
   "codemirror_mode": {
    "name": "ipython",
    "version": 2
   },
   "file_extension": ".py",
   "mimetype": "text/x-python",
   "name": "python",
   "nbconvert_exporter": "python",
   "pygments_lexer": "ipython2",
   "version": "2.7.6"
  }
 },
 "nbformat": 4,
 "nbformat_minor": 5
}
